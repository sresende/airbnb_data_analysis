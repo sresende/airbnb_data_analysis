{
 "cells": [
  {
   "cell_type": "markdown",
   "metadata": {},
   "source": [
    "# Capstone Project: Airbnb Prediciting Prices \n",
    "____"
   ]
  },
  {
   "cell_type": "code",
   "execution_count": 638,
   "metadata": {},
   "outputs": [],
   "source": [
    "# Importing libraries\n",
    "import pandas as pd\n",
    "import numpy as np\n",
    "import matplotlib.pyplot as plt\n",
    "\n",
    "from sklearn.model_selection import train_test_split, cross_val_score, GridSearchCV\n",
    "from sklearn.preprocessing import StandardScaler, OneHotEncoder\n",
    "from sklearn.compose import ColumnTransformer\n",
    "\n",
    "\n",
    "from sklearn.linear_model import RidgeCV, Ridge\n",
    "from sklearn.linear_model import Lasso, LassoCV\n",
    "from sklearn.linear_model import LinearRegression\n",
    "from sklearn.linear_model import ElasticNet\n",
    "from sklearn.linear_model import ElasticNetCV\n",
    "\n",
    "from sklearn import metrics\n",
    "from sklearn.metrics import r2_score\n",
    "\n",
    "from sklearn.neighbors import KNeighborsRegressor\n",
    "from sklearn.tree import DecisionTreeRegressor\n",
    "from sklearn.ensemble import RandomForestRegressor, ExtraTreesRegressor\n",
    "\n",
    "from tensorflow.keras.models import Sequential, Model\n",
    "from tensorflow.keras.wrappers.scikit_learn import KerasRegressor\n",
    "from tensorflow.keras.layers import Dense, Dropout, Input\n",
    "\n",
    "from sklearn.model_selection import cross_val_predict, cross_val_score\n",
    "\n",
    "import pickle"
   ]
  },
  {
   "cell_type": "code",
   "execution_count": 639,
   "metadata": {},
   "outputs": [],
   "source": [
    "# Reading dataset\n",
    "listing = pd.read_csv('../data/listings_model.csv')"
   ]
  },
  {
   "cell_type": "code",
   "execution_count": 640,
   "metadata": {},
   "outputs": [
    {
     "data": {
      "text/plain": [
       "Index(['host_is_superhost', 'host_verifications', 'host_has_profile_pic',\n",
       "       'host_identity_verified', 'neighbourhood_cleansed',\n",
       "       'neighbourhood_group_cleansed', 'latitude', 'longitude', 'room_type',\n",
       "       'accommodates', 'bedrooms', 'beds', 'price', 'minimum_nights',\n",
       "       'maximum_nights', 'number_of_reviews', 'review_scores_rating',\n",
       "       'instant_bookable', 'bathrooms_type', 'bathrooms_nbr',\n",
       "       'neigh_price_sqft', 'description_count', 'description_words',\n",
       "       'amenities_count'],\n",
       "      dtype='object')"
      ]
     },
     "execution_count": 640,
     "metadata": {},
     "output_type": "execute_result"
    }
   ],
   "source": [
    "listing.columns"
   ]
  },
  {
   "cell_type": "markdown",
   "metadata": {},
   "source": [
    "# 3. Pre-Processing Data \n",
    "____"
   ]
  },
  {
   "cell_type": "markdown",
   "metadata": {},
   "source": [
    "Check Distribution Data \n",
    "Check Outliers\n",
    "Visualizations:\n",
    "    - Barcharts by accomodation type\n",
    "    - Scatter plot price acomodation (type accomodation legend) (?)\n",
    "    - Map location lat/log (Folium) (?)\n",
    "    - Time/price (?)     \n"
   ]
  },
  {
   "cell_type": "code",
   "execution_count": 641,
   "metadata": {
    "collapsed": true
   },
   "outputs": [
    {
     "data": {
      "text/plain": [
       "(22183, 24)"
      ]
     },
     "execution_count": 641,
     "metadata": {},
     "output_type": "execute_result"
    }
   ],
   "source": [
    "listing.shape"
   ]
  },
  {
   "cell_type": "code",
   "execution_count": 642,
   "metadata": {},
   "outputs": [
    {
     "data": {
      "text/plain": [
       "Entire home/apt    11942\n",
       "Private room        9843\n",
       "Shared room          336\n",
       "Hotel room            62\n",
       "Name: room_type, dtype: int64"
      ]
     },
     "execution_count": 642,
     "metadata": {},
     "output_type": "execute_result"
    }
   ],
   "source": [
    "listing['room_type'].value_counts()"
   ]
  },
  {
   "cell_type": "code",
   "execution_count": 643,
   "metadata": {},
   "outputs": [
    {
     "data": {
      "text/plain": [
       "host_is_superhost                                                               0\n",
       "host_verifications                                             ['email', 'phone']\n",
       "host_has_profile_pic                                                            1\n",
       "host_identity_verified                                                          1\n",
       "neighbourhood_cleansed                                                 kensington\n",
       "neighbourhood_group_cleansed                                             Brooklyn\n",
       "latitude                                                                 40.64529\n",
       "longitude                                                               -73.97238\n",
       "room_type                                                            Private room\n",
       "accommodates                                                                    2\n",
       "bedrooms                                                                      1.0\n",
       "beds                                                                          1.0\n",
       "price                                                                       299.0\n",
       "minimum_nights                                                                 30\n",
       "maximum_nights                                                                730\n",
       "number_of_reviews                                                               9\n",
       "review_scores_rating                                                         4.89\n",
       "instant_bookable                                                                0\n",
       "bathrooms_type                                                             shared\n",
       "bathrooms_nbr                                                                 1.0\n",
       "neigh_price_sqft                                                             2.77\n",
       "description_count                                                             165\n",
       "description_words               ['Renovated', 'apt', 'home', 'in', 'elevator',...\n",
       "amenities_count                                                               557\n",
       "Name: 0, dtype: object"
      ]
     },
     "execution_count": 643,
     "metadata": {},
     "output_type": "execute_result"
    }
   ],
   "source": [
    "listing[listing['room_type']=='Private room'].loc[0]"
   ]
  },
  {
   "cell_type": "code",
   "execution_count": 644,
   "metadata": {
    "collapsed": true
   },
   "outputs": [],
   "source": [
    "df  = listing.copy()\n",
    "# Running model only on Private room\n",
    "#df = listing[listing['room_type']=='Private room']"
   ]
  },
  {
   "cell_type": "code",
   "execution_count": 645,
   "metadata": {
    "collapsed": true
   },
   "outputs": [
    {
     "data": {
      "text/plain": [
       "Index(['host_is_superhost', 'host_verifications', 'host_has_profile_pic',\n",
       "       'host_identity_verified', 'neighbourhood_cleansed',\n",
       "       'neighbourhood_group_cleansed', 'latitude', 'longitude', 'room_type',\n",
       "       'accommodates', 'bedrooms', 'beds', 'price', 'minimum_nights',\n",
       "       'maximum_nights', 'number_of_reviews', 'review_scores_rating',\n",
       "       'instant_bookable', 'bathrooms_type', 'bathrooms_nbr',\n",
       "       'neigh_price_sqft', 'description_count', 'description_words',\n",
       "       'amenities_count'],\n",
       "      dtype='object')"
      ]
     },
     "execution_count": 645,
     "metadata": {},
     "output_type": "execute_result"
    }
   ],
   "source": [
    "df.columns"
   ]
  },
  {
   "cell_type": "code",
   "execution_count": 646,
   "metadata": {},
   "outputs": [],
   "source": [
    "df.drop( columns=['host_verifications', 'neighbourhood_group_cleansed',\n",
    "                'latitude', 'longitude', 'description_words', 'description_count','number_of_reviews'], \n",
    "         inplace=True)"
   ]
  },
  {
   "cell_type": "code",
   "execution_count": 647,
   "metadata": {},
   "outputs": [
    {
     "data": {
      "text/plain": [
       "Index(['host_is_superhost', 'host_has_profile_pic', 'host_identity_verified',\n",
       "       'neighbourhood_cleansed', 'room_type', 'accommodates', 'bedrooms',\n",
       "       'beds', 'price', 'minimum_nights', 'maximum_nights',\n",
       "       'review_scores_rating', 'instant_bookable', 'bathrooms_type',\n",
       "       'bathrooms_nbr', 'neigh_price_sqft', 'amenities_count'],\n",
       "      dtype='object')"
      ]
     },
     "execution_count": 647,
     "metadata": {},
     "output_type": "execute_result"
    }
   ],
   "source": [
    "df.columns"
   ]
  },
  {
   "cell_type": "code",
   "execution_count": 648,
   "metadata": {},
   "outputs": [
    {
     "data": {
      "text/html": [
       "<div>\n",
       "<style scoped>\n",
       "    .dataframe tbody tr th:only-of-type {\n",
       "        vertical-align: middle;\n",
       "    }\n",
       "\n",
       "    .dataframe tbody tr th {\n",
       "        vertical-align: top;\n",
       "    }\n",
       "\n",
       "    .dataframe thead th {\n",
       "        text-align: right;\n",
       "    }\n",
       "</style>\n",
       "<table border=\"1\" class=\"dataframe\">\n",
       "  <thead>\n",
       "    <tr style=\"text-align: right;\">\n",
       "      <th></th>\n",
       "      <th>host_is_superhost</th>\n",
       "      <th>host_has_profile_pic</th>\n",
       "      <th>host_identity_verified</th>\n",
       "      <th>neighbourhood_cleansed</th>\n",
       "      <th>room_type</th>\n",
       "      <th>accommodates</th>\n",
       "      <th>bedrooms</th>\n",
       "      <th>beds</th>\n",
       "      <th>price</th>\n",
       "      <th>minimum_nights</th>\n",
       "      <th>maximum_nights</th>\n",
       "      <th>review_scores_rating</th>\n",
       "      <th>instant_bookable</th>\n",
       "      <th>bathrooms_type</th>\n",
       "      <th>bathrooms_nbr</th>\n",
       "      <th>neigh_price_sqft</th>\n",
       "      <th>amenities_count</th>\n",
       "    </tr>\n",
       "  </thead>\n",
       "  <tbody>\n",
       "    <tr>\n",
       "      <th>0</th>\n",
       "      <td>0</td>\n",
       "      <td>1</td>\n",
       "      <td>1</td>\n",
       "      <td>kensington</td>\n",
       "      <td>Private room</td>\n",
       "      <td>2</td>\n",
       "      <td>1.0</td>\n",
       "      <td>1.0</td>\n",
       "      <td>299.0</td>\n",
       "      <td>30</td>\n",
       "      <td>730</td>\n",
       "      <td>4.89</td>\n",
       "      <td>0</td>\n",
       "      <td>shared</td>\n",
       "      <td>1.0</td>\n",
       "      <td>2.77</td>\n",
       "      <td>557</td>\n",
       "    </tr>\n",
       "    <tr>\n",
       "      <th>1</th>\n",
       "      <td>1</td>\n",
       "      <td>1</td>\n",
       "      <td>1</td>\n",
       "      <td>bedford-stuyvesant</td>\n",
       "      <td>Private room</td>\n",
       "      <td>2</td>\n",
       "      <td>1.0</td>\n",
       "      <td>1.0</td>\n",
       "      <td>60.0</td>\n",
       "      <td>30</td>\n",
       "      <td>730</td>\n",
       "      <td>4.52</td>\n",
       "      <td>0</td>\n",
       "      <td>private</td>\n",
       "      <td>0.0</td>\n",
       "      <td>2.83</td>\n",
       "      <td>77</td>\n",
       "    </tr>\n",
       "    <tr>\n",
       "      <th>2</th>\n",
       "      <td>0</td>\n",
       "      <td>1</td>\n",
       "      <td>1</td>\n",
       "      <td>sunset park</td>\n",
       "      <td>Entire home/apt</td>\n",
       "      <td>4</td>\n",
       "      <td>2.0</td>\n",
       "      <td>2.0</td>\n",
       "      <td>275.0</td>\n",
       "      <td>21</td>\n",
       "      <td>1125</td>\n",
       "      <td>5.00</td>\n",
       "      <td>0</td>\n",
       "      <td>private</td>\n",
       "      <td>1.5</td>\n",
       "      <td>2.31</td>\n",
       "      <td>386</td>\n",
       "    </tr>\n",
       "    <tr>\n",
       "      <th>3</th>\n",
       "      <td>1</td>\n",
       "      <td>1</td>\n",
       "      <td>1</td>\n",
       "      <td>greenpoint</td>\n",
       "      <td>Hotel room</td>\n",
       "      <td>2</td>\n",
       "      <td>1.0</td>\n",
       "      <td>1.0</td>\n",
       "      <td>308.0</td>\n",
       "      <td>2</td>\n",
       "      <td>365</td>\n",
       "      <td>4.90</td>\n",
       "      <td>0</td>\n",
       "      <td>private</td>\n",
       "      <td>1.0</td>\n",
       "      <td>3.83</td>\n",
       "      <td>432</td>\n",
       "    </tr>\n",
       "    <tr>\n",
       "      <th>4</th>\n",
       "      <td>0</td>\n",
       "      <td>1</td>\n",
       "      <td>1</td>\n",
       "      <td>east village</td>\n",
       "      <td>Private room</td>\n",
       "      <td>2</td>\n",
       "      <td>1.0</td>\n",
       "      <td>2.0</td>\n",
       "      <td>55.0</td>\n",
       "      <td>2</td>\n",
       "      <td>60</td>\n",
       "      <td>4.34</td>\n",
       "      <td>0</td>\n",
       "      <td>shared</td>\n",
       "      <td>1.5</td>\n",
       "      <td>5.71</td>\n",
       "      <td>266</td>\n",
       "    </tr>\n",
       "  </tbody>\n",
       "</table>\n",
       "</div>"
      ],
      "text/plain": [
       "   host_is_superhost  host_has_profile_pic  host_identity_verified  \\\n",
       "0                  0                     1                       1   \n",
       "1                  1                     1                       1   \n",
       "2                  0                     1                       1   \n",
       "3                  1                     1                       1   \n",
       "4                  0                     1                       1   \n",
       "\n",
       "  neighbourhood_cleansed        room_type  accommodates  bedrooms  beds  \\\n",
       "0             kensington     Private room             2       1.0   1.0   \n",
       "1     bedford-stuyvesant     Private room             2       1.0   1.0   \n",
       "2            sunset park  Entire home/apt             4       2.0   2.0   \n",
       "3             greenpoint       Hotel room             2       1.0   1.0   \n",
       "4           east village     Private room             2       1.0   2.0   \n",
       "\n",
       "   price  minimum_nights  maximum_nights  review_scores_rating  \\\n",
       "0  299.0              30             730                  4.89   \n",
       "1   60.0              30             730                  4.52   \n",
       "2  275.0              21            1125                  5.00   \n",
       "3  308.0               2             365                  4.90   \n",
       "4   55.0               2              60                  4.34   \n",
       "\n",
       "   instant_bookable bathrooms_type  bathrooms_nbr  neigh_price_sqft  \\\n",
       "0                 0         shared            1.0              2.77   \n",
       "1                 0        private            0.0              2.83   \n",
       "2                 0        private            1.5              2.31   \n",
       "3                 0        private            1.0              3.83   \n",
       "4                 0         shared            1.5              5.71   \n",
       "\n",
       "   amenities_count  \n",
       "0              557  \n",
       "1               77  \n",
       "2              386  \n",
       "3              432  \n",
       "4              266  "
      ]
     },
     "execution_count": 648,
     "metadata": {},
     "output_type": "execute_result"
    }
   ],
   "source": [
    "df.head()"
   ]
  },
  {
   "cell_type": "code",
   "execution_count": 649,
   "metadata": {},
   "outputs": [
    {
     "name": "stdout",
     "output_type": "stream",
     "text": [
      "<class 'pandas.core.frame.DataFrame'>\n",
      "RangeIndex: 22183 entries, 0 to 22182\n",
      "Data columns (total 17 columns):\n",
      " #   Column                  Non-Null Count  Dtype  \n",
      "---  ------                  --------------  -----  \n",
      " 0   host_is_superhost       22183 non-null  int64  \n",
      " 1   host_has_profile_pic    22183 non-null  int64  \n",
      " 2   host_identity_verified  22183 non-null  int64  \n",
      " 3   neighbourhood_cleansed  22183 non-null  object \n",
      " 4   room_type               22183 non-null  object \n",
      " 5   accommodates            22183 non-null  int64  \n",
      " 6   bedrooms                22183 non-null  float64\n",
      " 7   beds                    22183 non-null  float64\n",
      " 8   price                   22183 non-null  float64\n",
      " 9   minimum_nights          22183 non-null  int64  \n",
      " 10  maximum_nights          22183 non-null  int64  \n",
      " 11  review_scores_rating    22183 non-null  float64\n",
      " 12  instant_bookable        22183 non-null  int64  \n",
      " 13  bathrooms_type          22183 non-null  object \n",
      " 14  bathrooms_nbr           22183 non-null  float64\n",
      " 15  neigh_price_sqft        22183 non-null  float64\n",
      " 16  amenities_count         22183 non-null  int64  \n",
      "dtypes: float64(6), int64(8), object(3)\n",
      "memory usage: 2.9+ MB\n"
     ]
    }
   ],
   "source": [
    "df.info()"
   ]
  },
  {
   "cell_type": "code",
   "execution_count": 650,
   "metadata": {},
   "outputs": [],
   "source": [
    "#df.to_csv('../data/listing_preprocess.csv', index=False)"
   ]
  },
  {
   "cell_type": "markdown",
   "metadata": {},
   "source": [
    "## 3.2. Creating X and y "
   ]
  },
  {
   "cell_type": "code",
   "execution_count": 651,
   "metadata": {},
   "outputs": [
    {
     "name": "stdout",
     "output_type": "stream",
     "text": [
      "(22183, 16)\n",
      "(22183,)\n"
     ]
    }
   ],
   "source": [
    "X = df.drop(columns='price')\n",
    "y = np.log(df['price'])\n",
    "print(X.shape)\n",
    "print(y.shape)"
   ]
  },
  {
   "cell_type": "code",
   "execution_count": 652,
   "metadata": {},
   "outputs": [],
   "source": [
    "X_train, X_test, y_train, y_test = train_test_split(\n",
    "        X,  \n",
    "        y,\n",
    "        test_size = 0.3,     \n",
    "        random_state = 42\n",
    " )"
   ]
  },
  {
   "cell_type": "code",
   "execution_count": 653,
   "metadata": {},
   "outputs": [
    {
     "data": {
      "text/plain": [
       "((15528, 16), (6655, 16), (15528,), (6655,))"
      ]
     },
     "execution_count": 653,
     "metadata": {},
     "output_type": "execute_result"
    }
   ],
   "source": [
    "X_train.shape, X_test.shape, y_train.shape, y_test.shape"
   ]
  },
  {
   "cell_type": "markdown",
   "metadata": {},
   "source": [
    "## 3.3. Transformers"
   ]
  },
  {
   "cell_type": "code",
   "execution_count": 654,
   "metadata": {},
   "outputs": [
    {
     "data": {
      "text/plain": [
       "Index(['host_is_superhost', 'host_has_profile_pic', 'host_identity_verified',\n",
       "       'neighbourhood_cleansed', 'room_type', 'accommodates', 'bedrooms',\n",
       "       'beds', 'price', 'minimum_nights', 'maximum_nights',\n",
       "       'review_scores_rating', 'instant_bookable', 'bathrooms_type',\n",
       "       'bathrooms_nbr', 'neigh_price_sqft', 'amenities_count'],\n",
       "      dtype='object')"
      ]
     },
     "execution_count": 654,
     "metadata": {},
     "output_type": "execute_result"
    }
   ],
   "source": [
    "df.columns"
   ]
  },
  {
   "cell_type": "code",
   "execution_count": 655,
   "metadata": {},
   "outputs": [],
   "source": [
    "col_ss = ['accommodates', 'bedrooms','beds', 'minimum_nights', 'maximum_nights',\n",
    "          'review_scores_rating', 'bathrooms_nbr', 'neigh_price_sqft', 'amenities_count']\n",
    "col_ohe = ['neighbourhood_cleansed', 'bathrooms_type', 'room_type'] "
   ]
  },
  {
   "cell_type": "code",
   "execution_count": 656,
   "metadata": {},
   "outputs": [],
   "source": [
    "ctx = ColumnTransformer(\n",
    "    transformers =[\n",
    "        ('ohe', OneHotEncoder(drop = 'if_binary', sparse = False, handle_unknown = 'ignore'), col_ohe),\n",
    "        ('ss', StandardScaler(), col_ss)\n",
    "    ]\n",
    ")"
   ]
  },
  {
   "cell_type": "code",
   "execution_count": 657,
   "metadata": {},
   "outputs": [
    {
     "data": {
      "text/plain": [
       "Index(['host_is_superhost', 'host_has_profile_pic', 'host_identity_verified',\n",
       "       'neighbourhood_cleansed', 'room_type', 'accommodates', 'bedrooms',\n",
       "       'beds', 'minimum_nights', 'maximum_nights', 'review_scores_rating',\n",
       "       'instant_bookable', 'bathrooms_type', 'bathrooms_nbr',\n",
       "       'neigh_price_sqft', 'amenities_count'],\n",
       "      dtype='object')"
      ]
     },
     "execution_count": 657,
     "metadata": {},
     "output_type": "execute_result"
    }
   ],
   "source": [
    "X_train.columns"
   ]
  },
  {
   "cell_type": "code",
   "execution_count": 658,
   "metadata": {},
   "outputs": [
    {
     "name": "stderr",
     "output_type": "stream",
     "text": [
      "/opt/homebrew/Caskroom/miniforge/base/envs/tensorflow/lib/python3.9/site-packages/sklearn/preprocessing/_encoders.py:188: UserWarning: Found unknown categories in columns [0] during transform. These unknown categories will be encoded as all zeros\n",
      "  warnings.warn(\n"
     ]
    },
    {
     "data": {
      "text/plain": [
       "((15528, 167), (6655, 167))"
      ]
     },
     "execution_count": 658,
     "metadata": {},
     "output_type": "execute_result"
    }
   ],
   "source": [
    "X_train_sc = ctx.fit_transform(X_train)\n",
    "X_test_sc = ctx.transform(X_test)\n",
    "X_train_sc.shape, X_test_sc.shape"
   ]
  },
  {
   "cell_type": "markdown",
   "metadata": {},
   "source": [
    "# 4. Machine Learning Models\n",
    "____"
   ]
  },
  {
   "cell_type": "markdown",
   "metadata": {},
   "source": [
    "## 4.1. Baseline Model"
   ]
  },
  {
   "cell_type": "code",
   "execution_count": 659,
   "metadata": {},
   "outputs": [
    {
     "data": {
      "text/plain": [
       "-0.00019758509399592228"
      ]
     },
     "execution_count": 659,
     "metadata": {},
     "output_type": "execute_result"
    }
   ],
   "source": [
    "#Setting a Baseline and getting its Score\n",
    "baseline_model = [y_train.mean()] * len(y_test)\n",
    "r2_score(y_test, baseline_model)"
   ]
  },
  {
   "cell_type": "markdown",
   "metadata": {},
   "source": [
    "### Fitting Regression Model\n",
    "___"
   ]
  },
  {
   "cell_type": "code",
   "execution_count": 660,
   "metadata": {},
   "outputs": [
    {
     "data": {
      "text/html": [
       "<style>#sk-container-id-35 {color: black;background-color: white;}#sk-container-id-35 pre{padding: 0;}#sk-container-id-35 div.sk-toggleable {background-color: white;}#sk-container-id-35 label.sk-toggleable__label {cursor: pointer;display: block;width: 100%;margin-bottom: 0;padding: 0.3em;box-sizing: border-box;text-align: center;}#sk-container-id-35 label.sk-toggleable__label-arrow:before {content: \"▸\";float: left;margin-right: 0.25em;color: #696969;}#sk-container-id-35 label.sk-toggleable__label-arrow:hover:before {color: black;}#sk-container-id-35 div.sk-estimator:hover label.sk-toggleable__label-arrow:before {color: black;}#sk-container-id-35 div.sk-toggleable__content {max-height: 0;max-width: 0;overflow: hidden;text-align: left;background-color: #f0f8ff;}#sk-container-id-35 div.sk-toggleable__content pre {margin: 0.2em;color: black;border-radius: 0.25em;background-color: #f0f8ff;}#sk-container-id-35 input.sk-toggleable__control:checked~div.sk-toggleable__content {max-height: 200px;max-width: 100%;overflow: auto;}#sk-container-id-35 input.sk-toggleable__control:checked~label.sk-toggleable__label-arrow:before {content: \"▾\";}#sk-container-id-35 div.sk-estimator input.sk-toggleable__control:checked~label.sk-toggleable__label {background-color: #d4ebff;}#sk-container-id-35 div.sk-label input.sk-toggleable__control:checked~label.sk-toggleable__label {background-color: #d4ebff;}#sk-container-id-35 input.sk-hidden--visually {border: 0;clip: rect(1px 1px 1px 1px);clip: rect(1px, 1px, 1px, 1px);height: 1px;margin: -1px;overflow: hidden;padding: 0;position: absolute;width: 1px;}#sk-container-id-35 div.sk-estimator {font-family: monospace;background-color: #f0f8ff;border: 1px dotted black;border-radius: 0.25em;box-sizing: border-box;margin-bottom: 0.5em;}#sk-container-id-35 div.sk-estimator:hover {background-color: #d4ebff;}#sk-container-id-35 div.sk-parallel-item::after {content: \"\";width: 100%;border-bottom: 1px solid gray;flex-grow: 1;}#sk-container-id-35 div.sk-label:hover label.sk-toggleable__label {background-color: #d4ebff;}#sk-container-id-35 div.sk-serial::before {content: \"\";position: absolute;border-left: 1px solid gray;box-sizing: border-box;top: 0;bottom: 0;left: 50%;z-index: 0;}#sk-container-id-35 div.sk-serial {display: flex;flex-direction: column;align-items: center;background-color: white;padding-right: 0.2em;padding-left: 0.2em;position: relative;}#sk-container-id-35 div.sk-item {position: relative;z-index: 1;}#sk-container-id-35 div.sk-parallel {display: flex;align-items: stretch;justify-content: center;background-color: white;position: relative;}#sk-container-id-35 div.sk-item::before, #sk-container-id-35 div.sk-parallel-item::before {content: \"\";position: absolute;border-left: 1px solid gray;box-sizing: border-box;top: 0;bottom: 0;left: 50%;z-index: -1;}#sk-container-id-35 div.sk-parallel-item {display: flex;flex-direction: column;z-index: 1;position: relative;background-color: white;}#sk-container-id-35 div.sk-parallel-item:first-child::after {align-self: flex-end;width: 50%;}#sk-container-id-35 div.sk-parallel-item:last-child::after {align-self: flex-start;width: 50%;}#sk-container-id-35 div.sk-parallel-item:only-child::after {width: 0;}#sk-container-id-35 div.sk-dashed-wrapped {border: 1px dashed gray;margin: 0 0.4em 0.5em 0.4em;box-sizing: border-box;padding-bottom: 0.4em;background-color: white;}#sk-container-id-35 div.sk-label label {font-family: monospace;font-weight: bold;display: inline-block;line-height: 1.2em;}#sk-container-id-35 div.sk-label-container {text-align: center;}#sk-container-id-35 div.sk-container {/* jupyter's `normalize.less` sets `[hidden] { display: none; }` but bootstrap.min.css set `[hidden] { display: none !important; }` so we also need the `!important` here to be able to override the default hidden behavior on the sphinx rendered scikit-learn.org. See: https://github.com/scikit-learn/scikit-learn/issues/21755 */display: inline-block !important;position: relative;}#sk-container-id-35 div.sk-text-repr-fallback {display: none;}</style><div id=\"sk-container-id-35\" class=\"sk-top-container\"><div class=\"sk-text-repr-fallback\"><pre>LinearRegression()</pre><b>In a Jupyter environment, please rerun this cell to show the HTML representation or trust the notebook. <br />On GitHub, the HTML representation is unable to render, please try loading this page with nbviewer.org.</b></div><div class=\"sk-container\" hidden><div class=\"sk-item\"><div class=\"sk-estimator sk-toggleable\"><input class=\"sk-toggleable__control sk-hidden--visually\" id=\"sk-estimator-id-51\" type=\"checkbox\" checked><label for=\"sk-estimator-id-51\" class=\"sk-toggleable__label sk-toggleable__label-arrow\">LinearRegression</label><div class=\"sk-toggleable__content\"><pre>LinearRegression()</pre></div></div></div></div></div>"
      ],
      "text/plain": [
       "LinearRegression()"
      ]
     },
     "execution_count": 660,
     "metadata": {},
     "output_type": "execute_result"
    }
   ],
   "source": [
    "#Fitting Model\n",
    "lr = LinearRegression()\n",
    "lr.fit(X_train_sc, y_train)"
   ]
  },
  {
   "cell_type": "code",
   "execution_count": 661,
   "metadata": {},
   "outputs": [
    {
     "data": {
      "text/plain": [
       "-1.6279957810500911e+19"
      ]
     },
     "execution_count": 661,
     "metadata": {},
     "output_type": "execute_result"
    }
   ],
   "source": [
    "#Cross Vaditadion Score\n",
    "cross_val_score(lr, X_train_sc, y_train, cv=5).mean()\n",
    "# -3.3924557963554062e+25"
   ]
  },
  {
   "cell_type": "code",
   "execution_count": 662,
   "metadata": {},
   "outputs": [
    {
     "name": "stdout",
     "output_type": "stream",
     "text": [
      "Train set: 0.6493298597499471\n",
      "Test set: -4.4354846159887034e+17\n",
      "Diference (train/test): 4.4354846159887034e+17\n"
     ]
    }
   ],
   "source": [
    "#Comparing scores\n",
    "print(f'Train set: {lr.score(X_train_sc, y_train)}')\n",
    "print(f'Test set: {lr.score(X_test_sc, y_test)}')\n",
    "print(f'Diference (train/test): {lr.score(X_train_sc, y_train)-lr.score(X_test_sc, y_test)}')"
   ]
  },
  {
   "cell_type": "code",
   "execution_count": 663,
   "metadata": {
    "collapsed": true
   },
   "outputs": [
    {
     "name": "stdout",
     "output_type": "stream",
     "text": [
      "MAE: 130.0644276040149\n",
      "MSE: 21461.767848811694\n",
      "RMSE: 146.49835442356238\n",
      "R2: -56023.485027103736\n"
     ]
    }
   ],
   "source": [
    "# Calcuate residual\n",
    "lr_y_preds = np.exp(lr.predict(X_train_sc))\n",
    "residuals = y_train - lr_y_preds\n",
    "\n",
    "# Metrics\n",
    "print(f'MAE: {metrics.mean_absolute_error(y_train, lr_y_preds)}')\n",
    "print(f'MSE: {metrics.mean_squared_error(y_train, lr_y_preds)}')\n",
    "print(f'RMSE: {metrics.mean_squared_error(y_train, lr_y_preds, squared = False)}')\n",
    "print(f'R2: {metrics.r2_score(y_train, lr_y_preds)}')\n",
    "#MAE: 129.81014920371308\n",
    "#MSE: 21210.975157781893\n",
    "#RMSE: 145.63988175558882\n",
    "#R2: -55534.009329901186"
   ]
  },
  {
   "cell_type": "code",
   "execution_count": 664,
   "metadata": {},
   "outputs": [
    {
     "data": {
      "text/plain": [
       "array([ 1.27418095e+07,  2.37688123e+10, -8.47156907e+09,  7.64862160e+09,\n",
       "       -7.54976250e+10, -1.96693073e+09,  3.08390713e+10, -8.75437944e+09,\n",
       "       -8.47156907e+09, -1.89355525e+10,  1.27392081e+10, -7.38007629e+10,\n",
       "        4.53770761e+09, -5.36065508e+09,  2.27522471e+09, -8.11538323e+10,\n",
       "        1.55673118e+10, -7.62313798e+09,  1.18907770e+10, -3.22276395e+10,\n",
       "        6.51738015e+09,  8.21424233e+09, -1.41392440e+11, -1.19898852e+11,\n",
       "       -6.98414178e+10,  1.83954154e+10, -7.97397805e+10,  8.21424233e+09,\n",
       "        4.83733138e+10, -1.78043110e+10, -5.34384167e+10,  3.70608993e+10,\n",
       "        1.44360703e+10, -1.58246385e+10,  8.21424233e+09, -1.15824831e+10,\n",
       "        3.22531232e+10, -7.29523318e+10, -1.08586437e+11,  2.00922776e+10,\n",
       "        2.84084544e+09, -3.47729328e+10, -7.62313798e+09, -8.99209535e+10,\n",
       "        1.30220185e+10,  1.10423460e+10,  5.38613870e+09,  3.05562610e+10,\n",
       "        6.51738015e+09, -8.85069017e+10, -4.79503436e+09, -1.29231594e+11,\n",
       "        1.21735874e+10,  8.61172898e+08,  2.55803507e+09, -7.52148147e+10,\n",
       "        1.16079667e+10, -1.96693073e+09,  1.33048289e+10, -4.35400541e+10,\n",
       "        3.67780890e+10,  1.21735874e+10,  2.77281574e+10, -3.67526053e+10,\n",
       "       -1.25272249e+11, -9.03718980e+09, -9.07693846e+10,  5.14842278e+10,\n",
       "        1.70960399e+09,  1.24563978e+10,  1.99241435e+09, -3.10963981e+10,\n",
       "        2.27522471e+09, -8.75437944e+09,  1.24563978e+10, -6.77470690e+09,\n",
       "        1.42679362e+09, -3.09817218e+09,  5.78362535e+08, -8.11538323e+10,\n",
       "       -6.70133142e+10, -5.57008996e+10, -7.63460561e+10,  1.86782258e+10,\n",
       "        2.09407087e+10,  1.38704496e+10, -1.78043110e+10,  8.21424233e+09,\n",
       "        1.89610361e+10,  8.21424233e+09,  3.98890030e+10,  1.83954154e+10,\n",
       "       -2.53255146e+09, -5.52878916e+08, -9.21834364e+10,  2.71625366e+10,\n",
       "        2.65969159e+10,  3.25359335e+10, -1.37150284e+11, -9.47287297e+10,\n",
       "        1.13251563e+10,  4.89389346e+10,  2.43344330e+10, -2.91167256e+10,\n",
       "        2.84084544e+09,  1.69813636e+10,  1.81126050e+10,  2.80109677e+10,\n",
       "        4.86561242e+10, -4.15603815e+10, -4.15603815e+10, -4.91962613e+10,\n",
       "       -1.92183629e+10, -3.09817218e+09,  9.34548378e+09, -5.64346545e+09,\n",
       "        2.95552172e+08,  1.75469843e+10, -3.70354157e+10,  2.63141055e+10,\n",
       "        3.40646616e+09, -6.77470690e+09, -1.19050421e+11,  3.16875024e+10,\n",
       "        8.77986305e+09,  1.64157428e+10,  1.86782258e+10,  2.06578983e+10,\n",
       "        6.23456979e+09, -8.65272292e+10,  1.35876392e+10,  3.45156061e+10,\n",
       "       -5.36065508e+09,  1.24563978e+10, -1.44503354e+11, -7.69116769e+10,\n",
       "        3.40646616e+09,  1.30220185e+10, -7.06898489e+10, -8.48303670e+10,\n",
       "        1.30220185e+10, -3.33588810e+10,  1.27392081e+10, -1.83699318e+10,\n",
       "        1.75469843e+10,  1.50016910e+10, -1.45634595e+11,  2.06578983e+10,\n",
       "       -7.40835732e+10, -2.34605183e+10,  1.35876392e+10,  4.58280206e+10,\n",
       "       -1.40131000e+09, -1.91811562e-01,  1.79787411e+12,  1.79787411e+12,\n",
       "        1.79787411e+12,  1.79787411e+12,  1.35684967e-01,  6.22692108e-02,\n",
       "       -1.46408081e-02, -6.01730347e-02,  7.40814209e-03,  2.17628479e-02,\n",
       "        7.04193115e-03,  4.21962431e+10,  1.12388611e-01])"
      ]
     },
     "execution_count": 664,
     "metadata": {},
     "output_type": "execute_result"
    }
   ],
   "source": [
    "lr.coef_"
   ]
  },
  {
   "cell_type": "code",
   "execution_count": 665,
   "metadata": {},
   "outputs": [],
   "source": [
    "# Creating a list of coeficients\n",
    "list_coef = list(zip(lr.coef_, ctx.get_feature_names_out()))"
   ]
  },
  {
   "cell_type": "code",
   "execution_count": 666,
   "metadata": {},
   "outputs": [],
   "source": [
    "X_train_df = pd.DataFrame(X_train_sc, columns = ctx.get_feature_names_out())"
   ]
  },
  {
   "cell_type": "code",
   "execution_count": 667,
   "metadata": {},
   "outputs": [],
   "source": [
    "# Turn it into a data frame\n",
    "df_coef = pd.DataFrame(lr.coef_, index = ctx.get_feature_names_out(), columns = ['Coefficient'])"
   ]
  },
  {
   "cell_type": "code",
   "execution_count": 668,
   "metadata": {},
   "outputs": [
    {
     "data": {
      "text/html": [
       "<div>\n",
       "<style scoped>\n",
       "    .dataframe tbody tr th:only-of-type {\n",
       "        vertical-align: middle;\n",
       "    }\n",
       "\n",
       "    .dataframe tbody tr th {\n",
       "        vertical-align: top;\n",
       "    }\n",
       "\n",
       "    .dataframe thead th {\n",
       "        text-align: right;\n",
       "    }\n",
       "</style>\n",
       "<table border=\"1\" class=\"dataframe\">\n",
       "  <thead>\n",
       "    <tr style=\"text-align: right;\">\n",
       "      <th></th>\n",
       "      <th>Coefficient</th>\n",
       "    </tr>\n",
       "  </thead>\n",
       "  <tbody>\n",
       "    <tr>\n",
       "      <th>ohe__room_type_Hotel room</th>\n",
       "      <td>1.797874e+12</td>\n",
       "    </tr>\n",
       "    <tr>\n",
       "      <th>ohe__room_type_Entire home/apt</th>\n",
       "      <td>1.797874e+12</td>\n",
       "    </tr>\n",
       "    <tr>\n",
       "      <th>ohe__room_type_Private room</th>\n",
       "      <td>1.797874e+12</td>\n",
       "    </tr>\n",
       "    <tr>\n",
       "      <th>ohe__room_type_Shared room</th>\n",
       "      <td>1.797874e+12</td>\n",
       "    </tr>\n",
       "    <tr>\n",
       "      <th>ohe__neighbourhood_cleansed_highbridge</th>\n",
       "      <td>5.148423e+10</td>\n",
       "    </tr>\n",
       "    <tr>\n",
       "      <th>...</th>\n",
       "      <td>...</td>\n",
       "    </tr>\n",
       "    <tr>\n",
       "      <th>ohe__neighbourhood_cleansed_flatiron district</th>\n",
       "      <td>-1.292316e+11</td>\n",
       "    </tr>\n",
       "    <tr>\n",
       "      <th>ohe__neighbourhood_cleansed_noho</th>\n",
       "      <td>-1.371503e+11</td>\n",
       "    </tr>\n",
       "    <tr>\n",
       "      <th>ohe__neighbourhood_cleansed_central park</th>\n",
       "      <td>-1.413924e+11</td>\n",
       "    </tr>\n",
       "    <tr>\n",
       "      <th>ohe__neighbourhood_cleansed_tribeca</th>\n",
       "      <td>-1.445034e+11</td>\n",
       "    </tr>\n",
       "    <tr>\n",
       "      <th>ohe__neighbourhood_cleansed_west village</th>\n",
       "      <td>-1.456346e+11</td>\n",
       "    </tr>\n",
       "  </tbody>\n",
       "</table>\n",
       "<p>167 rows × 1 columns</p>\n",
       "</div>"
      ],
      "text/plain": [
       "                                                Coefficient\n",
       "ohe__room_type_Hotel room                      1.797874e+12\n",
       "ohe__room_type_Entire home/apt                 1.797874e+12\n",
       "ohe__room_type_Private room                    1.797874e+12\n",
       "ohe__room_type_Shared room                     1.797874e+12\n",
       "ohe__neighbourhood_cleansed_highbridge         5.148423e+10\n",
       "...                                                     ...\n",
       "ohe__neighbourhood_cleansed_flatiron district -1.292316e+11\n",
       "ohe__neighbourhood_cleansed_noho              -1.371503e+11\n",
       "ohe__neighbourhood_cleansed_central park      -1.413924e+11\n",
       "ohe__neighbourhood_cleansed_tribeca           -1.445034e+11\n",
       "ohe__neighbourhood_cleansed_west village      -1.456346e+11\n",
       "\n",
       "[167 rows x 1 columns]"
      ]
     },
     "execution_count": 668,
     "metadata": {},
     "output_type": "execute_result"
    }
   ],
   "source": [
    "df_coef.sort_values(by='Coefficient', ascending=False)"
   ]
  },
  {
   "cell_type": "markdown",
   "metadata": {},
   "source": [
    "### Residuals\n",
    "___"
   ]
  },
  {
   "cell_type": "code",
   "execution_count": 669,
   "metadata": {},
   "outputs": [
    {
     "data": {
      "image/png": "[encoded data removed]",
      "text/plain": [
       "<Figure size 1000x600 with 1 Axes>"
      ]
     },
     "metadata": {},
     "output_type": "display_data"
    }
   ],
   "source": [
    "# Normality assumption \n",
    "plt.figure(figsize = (10, 6))\n",
    "plt.hist(residuals, bins = 100);\n",
    "plt.tight_layout()"
   ]
  },
  {
   "cell_type": "code",
   "execution_count": 670,
   "metadata": {},
   "outputs": [
    {
     "data": {
      "image/png": "[encoded data removed]",
      "text/plain": [
       "<Figure size 1000x600 with 1 Axes>"
      ]
     },
     "metadata": {},
     "output_type": "display_data"
    }
   ],
   "source": [
    "# Normality assumption \n",
    "plt.figure(figsize = (10,6))\n",
    "plt.title(\"Scatter plot Residuals\")\n",
    "#Ploting Residuals - Scatter Plotf SLR Model \n",
    "plt.scatter(lr_y_preds, residuals,s=2);\n",
    "plt.axhline(residuals.mean(), color='grey');\n",
    "plt.tight_layout()"
   ]
  },
  {
   "cell_type": "markdown",
   "metadata": {},
   "source": [
    "## 4.2. Lasso Regularization"
   ]
  },
  {
   "cell_type": "code",
   "execution_count": 671,
   "metadata": {},
   "outputs": [
    {
     "data": {
      "text/html": [
       "<style>#sk-container-id-36 {color: black;background-color: white;}#sk-container-id-36 pre{padding: 0;}#sk-container-id-36 div.sk-toggleable {background-color: white;}#sk-container-id-36 label.sk-toggleable__label {cursor: pointer;display: block;width: 100%;margin-bottom: 0;padding: 0.3em;box-sizing: border-box;text-align: center;}#sk-container-id-36 label.sk-toggleable__label-arrow:before {content: \"▸\";float: left;margin-right: 0.25em;color: #696969;}#sk-container-id-36 label.sk-toggleable__label-arrow:hover:before {color: black;}#sk-container-id-36 div.sk-estimator:hover label.sk-toggleable__label-arrow:before {color: black;}#sk-container-id-36 div.sk-toggleable__content {max-height: 0;max-width: 0;overflow: hidden;text-align: left;background-color: #f0f8ff;}#sk-container-id-36 div.sk-toggleable__content pre {margin: 0.2em;color: black;border-radius: 0.25em;background-color: #f0f8ff;}#sk-container-id-36 input.sk-toggleable__control:checked~div.sk-toggleable__content {max-height: 200px;max-width: 100%;overflow: auto;}#sk-container-id-36 input.sk-toggleable__control:checked~label.sk-toggleable__label-arrow:before {content: \"▾\";}#sk-container-id-36 div.sk-estimator input.sk-toggleable__control:checked~label.sk-toggleable__label {background-color: #d4ebff;}#sk-container-id-36 div.sk-label input.sk-toggleable__control:checked~label.sk-toggleable__label {background-color: #d4ebff;}#sk-container-id-36 input.sk-hidden--visually {border: 0;clip: rect(1px 1px 1px 1px);clip: rect(1px, 1px, 1px, 1px);height: 1px;margin: -1px;overflow: hidden;padding: 0;position: absolute;width: 1px;}#sk-container-id-36 div.sk-estimator {font-family: monospace;background-color: #f0f8ff;border: 1px dotted black;border-radius: 0.25em;box-sizing: border-box;margin-bottom: 0.5em;}#sk-container-id-36 div.sk-estimator:hover {background-color: #d4ebff;}#sk-container-id-36 div.sk-parallel-item::after {content: \"\";width: 100%;border-bottom: 1px solid gray;flex-grow: 1;}#sk-container-id-36 div.sk-label:hover label.sk-toggleable__label {background-color: #d4ebff;}#sk-container-id-36 div.sk-serial::before {content: \"\";position: absolute;border-left: 1px solid gray;box-sizing: border-box;top: 0;bottom: 0;left: 50%;z-index: 0;}#sk-container-id-36 div.sk-serial {display: flex;flex-direction: column;align-items: center;background-color: white;padding-right: 0.2em;padding-left: 0.2em;position: relative;}#sk-container-id-36 div.sk-item {position: relative;z-index: 1;}#sk-container-id-36 div.sk-parallel {display: flex;align-items: stretch;justify-content: center;background-color: white;position: relative;}#sk-container-id-36 div.sk-item::before, #sk-container-id-36 div.sk-parallel-item::before {content: \"\";position: absolute;border-left: 1px solid gray;box-sizing: border-box;top: 0;bottom: 0;left: 50%;z-index: -1;}#sk-container-id-36 div.sk-parallel-item {display: flex;flex-direction: column;z-index: 1;position: relative;background-color: white;}#sk-container-id-36 div.sk-parallel-item:first-child::after {align-self: flex-end;width: 50%;}#sk-container-id-36 div.sk-parallel-item:last-child::after {align-self: flex-start;width: 50%;}#sk-container-id-36 div.sk-parallel-item:only-child::after {width: 0;}#sk-container-id-36 div.sk-dashed-wrapped {border: 1px dashed gray;margin: 0 0.4em 0.5em 0.4em;box-sizing: border-box;padding-bottom: 0.4em;background-color: white;}#sk-container-id-36 div.sk-label label {font-family: monospace;font-weight: bold;display: inline-block;line-height: 1.2em;}#sk-container-id-36 div.sk-label-container {text-align: center;}#sk-container-id-36 div.sk-container {/* jupyter's `normalize.less` sets `[hidden] { display: none; }` but bootstrap.min.css set `[hidden] { display: none !important; }` so we also need the `!important` here to be able to override the default hidden behavior on the sphinx rendered scikit-learn.org. See: https://github.com/scikit-learn/scikit-learn/issues/21755 */display: inline-block !important;position: relative;}#sk-container-id-36 div.sk-text-repr-fallback {display: none;}</style><div id=\"sk-container-id-36\" class=\"sk-top-container\"><div class=\"sk-text-repr-fallback\"><pre>LassoCV(alphas=array([0.001     , 0.00107227, 0.00114976, 0.00123285, 0.00132194,\n",
       "       0.00141747, 0.00151991, 0.00162975, 0.00174753, 0.00187382,\n",
       "       0.00200923, 0.00215443, 0.00231013, 0.00247708, 0.00265609,\n",
       "       0.00284804, 0.00305386, 0.00327455, 0.00351119, 0.00376494,\n",
       "       0.00403702, 0.00432876, 0.00464159, 0.00497702, 0.0053367 ,\n",
       "       0.00572237, 0.00613591, 0.00657933, 0.0070548 , 0.00756463,\n",
       "       0.008...\n",
       "       0.09326033, 0.1       , 0.10722672, 0.1149757 , 0.12328467,\n",
       "       0.13219411, 0.14174742, 0.15199111, 0.16297508, 0.17475284,\n",
       "       0.18738174, 0.2009233 , 0.21544347, 0.23101297, 0.24770764,\n",
       "       0.26560878, 0.28480359, 0.30538555, 0.32745492, 0.35111917,\n",
       "       0.37649358, 0.40370173, 0.43287613, 0.46415888, 0.49770236,\n",
       "       0.53366992, 0.57223677, 0.61359073, 0.65793322, 0.70548023,\n",
       "       0.75646333, 0.81113083, 0.869749  , 0.93260335, 1.        ]))</pre><b>In a Jupyter environment, please rerun this cell to show the HTML representation or trust the notebook. <br />On GitHub, the HTML representation is unable to render, please try loading this page with nbviewer.org.</b></div><div class=\"sk-container\" hidden><div class=\"sk-item\"><div class=\"sk-estimator sk-toggleable\"><input class=\"sk-toggleable__control sk-hidden--visually\" id=\"sk-estimator-id-52\" type=\"checkbox\" checked><label for=\"sk-estimator-id-52\" class=\"sk-toggleable__label sk-toggleable__label-arrow\">LassoCV</label><div class=\"sk-toggleable__content\"><pre>LassoCV(alphas=array([0.001     , 0.00107227, 0.00114976, 0.00123285, 0.00132194,\n",
       "       0.00141747, 0.00151991, 0.00162975, 0.00174753, 0.00187382,\n",
       "       0.00200923, 0.00215443, 0.00231013, 0.00247708, 0.00265609,\n",
       "       0.00284804, 0.00305386, 0.00327455, 0.00351119, 0.00376494,\n",
       "       0.00403702, 0.00432876, 0.00464159, 0.00497702, 0.0053367 ,\n",
       "       0.00572237, 0.00613591, 0.00657933, 0.0070548 , 0.00756463,\n",
       "       0.008...\n",
       "       0.09326033, 0.1       , 0.10722672, 0.1149757 , 0.12328467,\n",
       "       0.13219411, 0.14174742, 0.15199111, 0.16297508, 0.17475284,\n",
       "       0.18738174, 0.2009233 , 0.21544347, 0.23101297, 0.24770764,\n",
       "       0.26560878, 0.28480359, 0.30538555, 0.32745492, 0.35111917,\n",
       "       0.37649358, 0.40370173, 0.43287613, 0.46415888, 0.49770236,\n",
       "       0.53366992, 0.57223677, 0.61359073, 0.65793322, 0.70548023,\n",
       "       0.75646333, 0.81113083, 0.869749  , 0.93260335, 1.        ]))</pre></div></div></div></div></div>"
      ],
      "text/plain": [
       "LassoCV(alphas=array([0.001     , 0.00107227, 0.00114976, 0.00123285, 0.00132194,\n",
       "       0.00141747, 0.00151991, 0.00162975, 0.00174753, 0.00187382,\n",
       "       0.00200923, 0.00215443, 0.00231013, 0.00247708, 0.00265609,\n",
       "       0.00284804, 0.00305386, 0.00327455, 0.00351119, 0.00376494,\n",
       "       0.00403702, 0.00432876, 0.00464159, 0.00497702, 0.0053367 ,\n",
       "       0.00572237, 0.00613591, 0.00657933, 0.0070548 , 0.00756463,\n",
       "       0.008...\n",
       "       0.09326033, 0.1       , 0.10722672, 0.1149757 , 0.12328467,\n",
       "       0.13219411, 0.14174742, 0.15199111, 0.16297508, 0.17475284,\n",
       "       0.18738174, 0.2009233 , 0.21544347, 0.23101297, 0.24770764,\n",
       "       0.26560878, 0.28480359, 0.30538555, 0.32745492, 0.35111917,\n",
       "       0.37649358, 0.40370173, 0.43287613, 0.46415888, 0.49770236,\n",
       "       0.53366992, 0.57223677, 0.61359073, 0.65793322, 0.70548023,\n",
       "       0.75646333, 0.81113083, 0.869749  , 0.93260335, 1.        ]))"
      ]
     },
     "execution_count": 671,
     "metadata": {},
     "output_type": "execute_result"
    }
   ],
   "source": [
    "# Set up a list of Lasso alphas to check.\n",
    "l_alphas = np.logspace(-3, 0, 100)\n",
    "\n",
    "# Cross-validate over our list of Lasso alphas.\n",
    "lasso_cv = LassoCV(alphas=l_alphas)\n",
    "\n",
    "# Fit model using best ridge alpha!\n",
    "lasso_cv.fit(X_train_sc, y_train)"
   ]
  },
  {
   "cell_type": "code",
   "execution_count": 672,
   "metadata": {},
   "outputs": [
    {
     "name": "stdout",
     "output_type": "stream",
     "text": [
      "Best Value of alpha:  0.001\n",
      "Lasson Train Score:  0.6361272959823889\n",
      "Lasso Test Score 0.6272351998879183\n"
     ]
    }
   ],
   "source": [
    "# Here is the optimal value of alpha\n",
    "print(\"Best Value of alpha: \",lasso_cv.alpha_)\n",
    "\n",
    "# Scores on Train a\n",
    "print(\"Lasson Train Score: \", lasso_cv.score(X_train_sc, y_train))\n",
    "print(\"Lasso Test Score\", lasso_cv.score(X_test_sc, y_test))"
   ]
  },
  {
   "cell_type": "code",
   "execution_count": 673,
   "metadata": {},
   "outputs": [
    {
     "name": "stdout",
     "output_type": "stream",
     "text": [
      "MAE: 129.35162016641215\n",
      "MSE: 21013.713228805504\n",
      "RMSE: 144.9610748746211\n",
      "R2: -54853.868920607114\n"
     ]
    }
   ],
   "source": [
    "# Calcuate residual\n",
    "lasso_y_preds = np.exp(lasso_cv.predict(X_train_sc))\n",
    "residuals = y_train - lasso_y_preds\n",
    "\n",
    "# Metrics\n",
    "print(f'MAE: {metrics.mean_absolute_error(y_train, lasso_y_preds)}')\n",
    "print(f'MSE: {metrics.mean_squared_error(y_train, lasso_y_preds)}')\n",
    "print(f'RMSE: {metrics.mean_squared_error(y_train, lasso_y_preds, squared = False)}')\n",
    "print(f'R2: {metrics.r2_score(y_train, lasso_y_preds)}')"
   ]
  },
  {
   "cell_type": "markdown",
   "metadata": {},
   "source": [
    "## 4.3. Ridge Regularization"
   ]
  },
  {
   "cell_type": "code",
   "execution_count": 674,
   "metadata": {},
   "outputs": [
    {
     "name": "stdout",
     "output_type": "stream",
     "text": [
      "Training Score: 0.6401766198186942\n",
      "Testing Score: 0.6295447314841209\n"
     ]
    }
   ],
   "source": [
    "# Instantiate.\n",
    "ridge = Ridge(alpha = 100)\n",
    "\n",
    "# Fit.\n",
    "ridge.fit(X_train_sc, y_train)\n",
    "\n",
    "# Evaluate model using R2.\n",
    "print(f'Training Score: {ridge.score(X_train_sc, y_train)}')\n",
    "print(f'Testing Score: {ridge.score(X_test_sc, y_test)}')"
   ]
  },
  {
   "cell_type": "code",
   "execution_count": 675,
   "metadata": {},
   "outputs": [
    {
     "name": "stdout",
     "output_type": "stream",
     "text": [
      "MAE: 129.29965180080228\n",
      "MSE: 20959.746324633317\n",
      "RMSE: 144.77481246623432\n",
      "R2: -54712.99198837802\n"
     ]
    }
   ],
   "source": [
    "# Calcuate residual\n",
    "ridge_y_preds = np.exp(ridge.predict(X_train_sc))\n",
    "residuals = y_train - ridge_y_preds\n",
    "\n",
    "# Metrics\n",
    "print(f'MAE: {metrics.mean_absolute_error(y_train, ridge_y_preds)}')\n",
    "print(f'MSE: {metrics.mean_squared_error(y_train, ridge_y_preds)}')\n",
    "print(f'RMSE: {metrics.mean_squared_error(y_train, ridge_y_preds, squared = False)}')\n",
    "print(f'R2: {metrics.r2_score(y_train, ridge_y_preds)}')"
   ]
  },
  {
   "cell_type": "markdown",
   "metadata": {},
   "source": [
    "## 4.4. KNNeighbors Regressor\n"
   ]
  },
  {
   "cell_type": "code",
   "execution_count": 676,
   "metadata": {},
   "outputs": [
    {
     "data": {
      "text/html": [
       "<style>#sk-container-id-37 {color: black;background-color: white;}#sk-container-id-37 pre{padding: 0;}#sk-container-id-37 div.sk-toggleable {background-color: white;}#sk-container-id-37 label.sk-toggleable__label {cursor: pointer;display: block;width: 100%;margin-bottom: 0;padding: 0.3em;box-sizing: border-box;text-align: center;}#sk-container-id-37 label.sk-toggleable__label-arrow:before {content: \"▸\";float: left;margin-right: 0.25em;color: #696969;}#sk-container-id-37 label.sk-toggleable__label-arrow:hover:before {color: black;}#sk-container-id-37 div.sk-estimator:hover label.sk-toggleable__label-arrow:before {color: black;}#sk-container-id-37 div.sk-toggleable__content {max-height: 0;max-width: 0;overflow: hidden;text-align: left;background-color: #f0f8ff;}#sk-container-id-37 div.sk-toggleable__content pre {margin: 0.2em;color: black;border-radius: 0.25em;background-color: #f0f8ff;}#sk-container-id-37 input.sk-toggleable__control:checked~div.sk-toggleable__content {max-height: 200px;max-width: 100%;overflow: auto;}#sk-container-id-37 input.sk-toggleable__control:checked~label.sk-toggleable__label-arrow:before {content: \"▾\";}#sk-container-id-37 div.sk-estimator input.sk-toggleable__control:checked~label.sk-toggleable__label {background-color: #d4ebff;}#sk-container-id-37 div.sk-label input.sk-toggleable__control:checked~label.sk-toggleable__label {background-color: #d4ebff;}#sk-container-id-37 input.sk-hidden--visually {border: 0;clip: rect(1px 1px 1px 1px);clip: rect(1px, 1px, 1px, 1px);height: 1px;margin: -1px;overflow: hidden;padding: 0;position: absolute;width: 1px;}#sk-container-id-37 div.sk-estimator {font-family: monospace;background-color: #f0f8ff;border: 1px dotted black;border-radius: 0.25em;box-sizing: border-box;margin-bottom: 0.5em;}#sk-container-id-37 div.sk-estimator:hover {background-color: #d4ebff;}#sk-container-id-37 div.sk-parallel-item::after {content: \"\";width: 100%;border-bottom: 1px solid gray;flex-grow: 1;}#sk-container-id-37 div.sk-label:hover label.sk-toggleable__label {background-color: #d4ebff;}#sk-container-id-37 div.sk-serial::before {content: \"\";position: absolute;border-left: 1px solid gray;box-sizing: border-box;top: 0;bottom: 0;left: 50%;z-index: 0;}#sk-container-id-37 div.sk-serial {display: flex;flex-direction: column;align-items: center;background-color: white;padding-right: 0.2em;padding-left: 0.2em;position: relative;}#sk-container-id-37 div.sk-item {position: relative;z-index: 1;}#sk-container-id-37 div.sk-parallel {display: flex;align-items: stretch;justify-content: center;background-color: white;position: relative;}#sk-container-id-37 div.sk-item::before, #sk-container-id-37 div.sk-parallel-item::before {content: \"\";position: absolute;border-left: 1px solid gray;box-sizing: border-box;top: 0;bottom: 0;left: 50%;z-index: -1;}#sk-container-id-37 div.sk-parallel-item {display: flex;flex-direction: column;z-index: 1;position: relative;background-color: white;}#sk-container-id-37 div.sk-parallel-item:first-child::after {align-self: flex-end;width: 50%;}#sk-container-id-37 div.sk-parallel-item:last-child::after {align-self: flex-start;width: 50%;}#sk-container-id-37 div.sk-parallel-item:only-child::after {width: 0;}#sk-container-id-37 div.sk-dashed-wrapped {border: 1px dashed gray;margin: 0 0.4em 0.5em 0.4em;box-sizing: border-box;padding-bottom: 0.4em;background-color: white;}#sk-container-id-37 div.sk-label label {font-family: monospace;font-weight: bold;display: inline-block;line-height: 1.2em;}#sk-container-id-37 div.sk-label-container {text-align: center;}#sk-container-id-37 div.sk-container {/* jupyter's `normalize.less` sets `[hidden] { display: none; }` but bootstrap.min.css set `[hidden] { display: none !important; }` so we also need the `!important` here to be able to override the default hidden behavior on the sphinx rendered scikit-learn.org. See: https://github.com/scikit-learn/scikit-learn/issues/21755 */display: inline-block !important;position: relative;}#sk-container-id-37 div.sk-text-repr-fallback {display: none;}</style><div id=\"sk-container-id-37\" class=\"sk-top-container\"><div class=\"sk-text-repr-fallback\"><pre>GridSearchCV(cv=5, estimator=KNeighborsRegressor(),\n",
       "             param_grid={&#x27;algorithm&#x27;: [&#x27;auto&#x27;, &#x27;ball_tree&#x27;, &#x27;kd_tree&#x27;, &#x27;brute&#x27;],\n",
       "                         &#x27;n_neighbors&#x27;: [3, 5, 7, 9, 11, 13, 15], &#x27;p&#x27;: [1, 2]},\n",
       "             verbose=-1)</pre><b>In a Jupyter environment, please rerun this cell to show the HTML representation or trust the notebook. <br />On GitHub, the HTML representation is unable to render, please try loading this page with nbviewer.org.</b></div><div class=\"sk-container\" hidden><div class=\"sk-item sk-dashed-wrapped\"><div class=\"sk-label-container\"><div class=\"sk-label sk-toggleable\"><input class=\"sk-toggleable__control sk-hidden--visually\" id=\"sk-estimator-id-53\" type=\"checkbox\" ><label for=\"sk-estimator-id-53\" class=\"sk-toggleable__label sk-toggleable__label-arrow\">GridSearchCV</label><div class=\"sk-toggleable__content\"><pre>GridSearchCV(cv=5, estimator=KNeighborsRegressor(),\n",
       "             param_grid={&#x27;algorithm&#x27;: [&#x27;auto&#x27;, &#x27;ball_tree&#x27;, &#x27;kd_tree&#x27;, &#x27;brute&#x27;],\n",
       "                         &#x27;n_neighbors&#x27;: [3, 5, 7, 9, 11, 13, 15], &#x27;p&#x27;: [1, 2]},\n",
       "             verbose=-1)</pre></div></div></div><div class=\"sk-parallel\"><div class=\"sk-parallel-item\"><div class=\"sk-item\"><div class=\"sk-label-container\"><div class=\"sk-label sk-toggleable\"><input class=\"sk-toggleable__control sk-hidden--visually\" id=\"sk-estimator-id-54\" type=\"checkbox\" ><label for=\"sk-estimator-id-54\" class=\"sk-toggleable__label sk-toggleable__label-arrow\">estimator: KNeighborsRegressor</label><div class=\"sk-toggleable__content\"><pre>KNeighborsRegressor()</pre></div></div></div><div class=\"sk-serial\"><div class=\"sk-item\"><div class=\"sk-estimator sk-toggleable\"><input class=\"sk-toggleable__control sk-hidden--visually\" id=\"sk-estimator-id-55\" type=\"checkbox\" ><label for=\"sk-estimator-id-55\" class=\"sk-toggleable__label sk-toggleable__label-arrow\">KNeighborsRegressor</label><div class=\"sk-toggleable__content\"><pre>KNeighborsRegressor()</pre></div></div></div></div></div></div></div></div></div></div>"
      ],
      "text/plain": [
       "GridSearchCV(cv=5, estimator=KNeighborsRegressor(),\n",
       "             param_grid={'algorithm': ['auto', 'ball_tree', 'kd_tree', 'brute'],\n",
       "                         'n_neighbors': [3, 5, 7, 9, 11, 13, 15], 'p': [1, 2]},\n",
       "             verbose=-1)"
      ]
     },
     "execution_count": 676,
     "metadata": {},
     "output_type": "execute_result"
    }
   ],
   "source": [
    "knn_params = {\n",
    "    'n_neighbors': [3, 5, 7, 9, 11, 13, 15],\n",
    "    'algorithm': ['auto', 'ball_tree', 'kd_tree', 'brute'],\n",
    "    'p': [1, 2]\n",
    "}\n",
    "\n",
    "# define the grid search\n",
    "knn_grid= GridSearchCV(KNeighborsRegressor(), param_grid=knn_params, cv=5, verbose = -1)\n",
    "knn_grid.fit(X_train_sc, y_train)"
   ]
  },
  {
   "cell_type": "code",
   "execution_count": 535,
   "metadata": {},
   "outputs": [
    {
     "data": {
      "text/plain": [
       "{'algorithm': 'auto', 'n_neighbors': 15, 'p': 1}"
      ]
     },
     "execution_count": 535,
     "metadata": {},
     "output_type": "execute_result"
    }
   ],
   "source": [
    "knn_grid.best_params_"
   ]
  },
  {
   "cell_type": "code",
   "execution_count": 536,
   "metadata": {},
   "outputs": [
    {
     "name": "stdout",
     "output_type": "stream",
     "text": [
      "Training Score: 0.7198295137423087\n",
      "Testing Score: 0.6619027948256624\n",
      "MAE: 130.38341023920955\n",
      "MSE: 21465.543509344367\n",
      "RMSE: 146.51124021502366\n",
      "R2: -56033.34113208402\n"
     ]
    }
   ],
   "source": [
    "print(f'Training Score: {knn_grid.score(X_train_sc, y_train)}')\n",
    "print(f'Testing Score: {knn_grid.score(X_test_sc, y_test)}')\n",
    "\n",
    "# Calcuate residual\n",
    "knn_grid_y_preds = np.exp(knn_grid.best_estimator_.predict(X_train_sc))\n",
    "residuals = y_train - knn_grid_y_preds\n",
    "\n",
    "# Metrics\n",
    "print(f'MAE: {metrics.mean_absolute_error(y_train, knn_grid_y_preds)}')\n",
    "print(f'MSE: {metrics.mean_squared_error(y_train, knn_grid_y_preds)}')\n",
    "print(f'RMSE: {metrics.mean_squared_error(y_train, knn_grid_y_preds, squared = False)}')\n",
    "print(f'R2: {metrics.r2_score(y_train, knn_grid_y_preds)}')"
   ]
  },
  {
   "cell_type": "code",
   "execution_count": 537,
   "metadata": {},
   "outputs": [
    {
     "name": "stdout",
     "output_type": "stream",
     "text": [
      "Training Score: 0.766742257090349\n",
      "Testing Score: 0.6338158087385041\n",
      "MAE: 132.4699085239637\n",
      "MSE: 22646.359589001717\n",
      "RMSE: 150.4870744914716\n",
      "R2: -59115.78118271523\n"
     ]
    }
   ],
   "source": [
    "knn = KNeighborsRegressor(n_neighbors=5, p=2)\n",
    "knn.fit(X_train_sc, y_train)\n",
    "\n",
    "print(f'Training Score: {knn.score(X_train_sc, y_train)}')\n",
    "print(f'Testing Score: {knn.score(X_test_sc, y_test)}')\n",
    "\n",
    "# Calcuate residual\n",
    "knn_y_preds = np.exp(knn.predict(X_train_sc))\n",
    "residuals = y_train - knn_y_preds\n",
    "\n",
    "# Metrics\n",
    "print(f'MAE: {metrics.mean_absolute_error(y_train, knn_y_preds)}')\n",
    "print(f'MSE: {metrics.mean_squared_error(y_train, knn_y_preds)}')\n",
    "print(f'RMSE: {metrics.mean_squared_error(y_train, knn_y_preds, squared = False)}')\n",
    "print(f'R2: {metrics.r2_score(y_train, knn_y_preds)}')"
   ]
  },
  {
   "cell_type": "markdown",
   "metadata": {},
   "source": [
    "## 4.5. CART "
   ]
  },
  {
   "cell_type": "code",
   "execution_count": 538,
   "metadata": {},
   "outputs": [
    {
     "name": "stdout",
     "output_type": "stream",
     "text": [
      "Fitting 5 folds for each of 400 candidates, totalling 2000 fits\n",
      "Best Estimator:  DecisionTreeRegressor(ccp_alpha=0.001, max_depth=7, min_samples_leaf=2,\n",
      "                      min_samples_split=5, random_state=42)\n",
      "Best Score:  0.6145204730166037\n",
      "Score on training set: 0.6231104171892097\n",
      "Score on testing set: 0.6029381329430296\n"
     ]
    }
   ],
   "source": [
    "# Instantiate model with:\n",
    "# - a maximum depth of .\n",
    "# - at least  samples required in order to split an internal node.\n",
    "# - at least  samples in each leaf node.\n",
    "# - a cost complexity of 0.01.\n",
    "# - random state of 42.\n",
    "\n",
    "dt_params = {\n",
    "    'max_depth': [2, 3, 5, 7],\n",
    "    'min_samples_split': [5, 10, 15, 20],\n",
    "    'min_samples_leaf': [2, 3, 4, 5, 6],\n",
    "    'ccp_alpha': [0.001, 0.01, 0.1, 1, 10]\n",
    "}\n",
    "\n",
    "dt_grid = GridSearchCV(\n",
    "                    estimator = DecisionTreeRegressor(random_state=42),\n",
    "                    param_grid = dt_params,\n",
    "                    cv = 5,\n",
    "                    verbose = 1)\n",
    "\n",
    "# GridSearch!\n",
    "dt_grid.fit(X_train_sc, y_train)\n",
    "\n",
    "# What is our best decision tree?\n",
    "print(\"Best Estimator: \", dt_grid.best_estimator_)\n",
    "\n",
    "# What was the cross-validated score of the above decision tree?\n",
    "print(\"Best Score: \", dt_grid.best_score_)\n",
    "\n",
    "# Evaluate model.\n",
    "print(f'Score on training set: {dt_grid.score(X_train_sc, y_train)}')\n",
    "print(f'Score on testing set: {dt_grid.score(X_test_sc, y_test)}')\n"
   ]
  },
  {
   "cell_type": "code",
   "execution_count": 539,
   "metadata": {},
   "outputs": [
    {
     "name": "stdout",
     "output_type": "stream",
     "text": [
      "MAE: 129.03700239303083\n",
      "MSE: 20476.175754086602\n",
      "RMSE: 143.09498857083221\n",
      "R2: -53450.66390897693\n"
     ]
    }
   ],
   "source": [
    "# Calcuate residual\n",
    "dt_y_preds = np.exp(dt_grid.best_estimator_.predict(X_train_sc))\n",
    "residuals = y_train - dt_y_preds\n",
    "\n",
    "# Metrics\n",
    "print(f'MAE: {metrics.mean_absolute_error(y_train, dt_y_preds)}')\n",
    "print(f'MSE: {metrics.mean_squared_error(y_train, dt_y_preds)}')\n",
    "print(f'RMSE: {metrics.mean_squared_error(y_train, dt_y_preds, squared = False)}')\n",
    "print(f'R2: {metrics.r2_score(y_train, dt_y_preds)}')"
   ]
  },
  {
   "cell_type": "markdown",
   "metadata": {},
   "source": [
    "## 4.6. Random Forest"
   ]
  },
  {
   "cell_type": "code",
   "execution_count": 540,
   "metadata": {},
   "outputs": [
    {
     "name": "stdout",
     "output_type": "stream",
     "text": [
      "Best Score : 0.6961960062052944\n",
      "Best Parameters: {'max_depth': None, 'min_samples_leaf': 3, 'n_estimators': 400, 'n_jobs': -1}\n",
      "Score on training set: 0.8865569149957151\n",
      "Score on test set: 0.6817863215376742\n"
     ]
    }
   ],
   "source": [
    "# Taking 47 min to run\n",
    "# Gridsearch Parameters\n",
    "rf_params = {\n",
    "    'n_estimators': [200, 250, 300, 400],\n",
    "    'min_samples_leaf': [2, 3, 4, 5],\n",
    "    'max_depth' : [None, 3, 4, 5, 6],\n",
    "    # max_features = TO DO\n",
    "    'n_jobs': [-1]\n",
    "}\n",
    "# Setting Gridsearch\n",
    "rf_grid = GridSearchCV(\n",
    "    estimator = RandomForestRegressor(), \n",
    "    param_grid = rf_params, \n",
    "    cv = 5\n",
    ")\n",
    "# Fitting Model\n",
    "rf_grid.fit(X_train_sc, y_train)\n",
    "\n",
    "# Printing Outputs\n",
    "print(f'Best Score : {rf_grid.best_score_}')\n",
    "print(f'Best Parameters: {rf_grid.best_params_}') \n",
    "print(f'Score on training set: {rf_grid.score(X_train_sc, y_train)}')\n",
    "print(f'Score on test set: {rf_grid.score(X_test_sc, y_test)}')"
   ]
  },
  {
   "cell_type": "code",
   "execution_count": 541,
   "metadata": {},
   "outputs": [
    {
     "name": "stdout",
     "output_type": "stream",
     "text": [
      "MAE: 132.4863503584238\n",
      "MSE: 22639.58032479946\n",
      "RMSE: 150.46454839861602\n",
      "R2: -59098.08437467641\n"
     ]
    }
   ],
   "source": [
    "# Calcuate residual\n",
    "rf_y_preds = np.exp(rf_grid.best_estimator_.predict(X_train_sc))\n",
    "residuals = y_train - rf_y_preds\n",
    "\n",
    "# Metrics\n",
    "print(f'MAE: {metrics.mean_absolute_error(y_train, rf_y_preds)}')\n",
    "print(f'MSE: {metrics.mean_squared_error(y_train, rf_y_preds)}')\n",
    "print(f'RMSE: {metrics.mean_squared_error(y_train, rf_y_preds, squared = False)}')\n",
    "print(f'R2: {metrics.r2_score(y_train, rf_y_preds)}')"
   ]
  },
  {
   "cell_type": "markdown",
   "metadata": {},
   "source": [
    "## 4.7. Neural Network"
   ]
  },
  {
   "cell_type": "code",
   "execution_count": 542,
   "metadata": {},
   "outputs": [],
   "source": [
    "def model_fn(h1_neurons = 32, h2_neurons=32, drop = 0.5):\n",
    "  \n",
    "  print(f'h1: {h1_neurons}, h2: {h2_neurons}, drop: {drop}')\n",
    "  \n",
    "  inputs = Input(shape = (X_train_sc.shape[1],))\n",
    "  \n",
    "  h1 = Dense(h1_neurons, activation = 'relu')(inputs)\n",
    "  d1 = Dropout(drop)(h1)\n",
    "  h2 = Dense(h2_neurons, activation = 'relu')(d1)\n",
    "  \n",
    "  out = Dense(1, activation = None)(h2)\n",
    "\n",
    "  model = Model(inputs = inputs, outputs = out)\n",
    "\n",
    "  model.compile(loss = 'mse',\n",
    "                optimizer = 'adam', \n",
    "                metrics='mse')\n",
    "\n",
    "  \n",
    "  return model"
   ]
  },
  {
   "cell_type": "code",
   "execution_count": 543,
   "metadata": {},
   "outputs": [],
   "source": [
    "# kind of like when lr = LinearRegression()\n",
    "nn = KerasRegressor(build_fn = model_fn, batch_size = 256, verbose = 0)"
   ]
  },
  {
   "cell_type": "code",
   "execution_count": null,
   "metadata": {},
   "outputs": [],
   "source": [
    "nn."
   ]
  },
  {
   "cell_type": "code",
   "execution_count": 544,
   "metadata": {},
   "outputs": [],
   "source": [
    "params = {\n",
    "    'epochs': [100],\n",
    "    'h1_neurons': [16, 64, 128],\n",
    "    'h2_neurons': [64, 128],\n",
    "    'drop':[0.1,0.25, 0.5]\n",
    "}"
   ]
  },
  {
   "cell_type": "code",
   "execution_count": 545,
   "metadata": {},
   "outputs": [
    {
     "name": "stdout",
     "output_type": "stream",
     "text": [
      "h1: 16, h2: 64, drop: 0.1\n"
     ]
    },
    {
     "name": "stderr",
     "output_type": "stream",
     "text": [
      "2022-11-14 12:57:19.728437: I tensorflow/core/grappler/optimizers/custom_graph_optimizer_registry.cc:112] Plugin optimizer for device_type GPU is enabled.\n",
      "2022-11-14 12:57:41.646287: I tensorflow/core/grappler/optimizers/custom_graph_optimizer_registry.cc:112] Plugin optimizer for device_type GPU is enabled.\n"
     ]
    },
    {
     "name": "stdout",
     "output_type": "stream",
     "text": [
      "h1: 16, h2: 64, drop: 0.1\n"
     ]
    },
    {
     "name": "stderr",
     "output_type": "stream",
     "text": [
      "2022-11-14 12:57:42.285179: I tensorflow/core/grappler/optimizers/custom_graph_optimizer_registry.cc:112] Plugin optimizer for device_type GPU is enabled.\n",
      "2022-11-14 12:58:01.840329: I tensorflow/core/grappler/optimizers/custom_graph_optimizer_registry.cc:112] Plugin optimizer for device_type GPU is enabled.\n"
     ]
    },
    {
     "name": "stdout",
     "output_type": "stream",
     "text": [
      "h1: 16, h2: 64, drop: 0.1\n"
     ]
    },
    {
     "name": "stderr",
     "output_type": "stream",
     "text": [
      "2022-11-14 12:58:02.555249: I tensorflow/core/grappler/optimizers/custom_graph_optimizer_registry.cc:112] Plugin optimizer for device_type GPU is enabled.\n",
      "2022-11-14 12:58:21.616464: I tensorflow/core/grappler/optimizers/custom_graph_optimizer_registry.cc:112] Plugin optimizer for device_type GPU is enabled.\n"
     ]
    },
    {
     "name": "stdout",
     "output_type": "stream",
     "text": [
      "h1: 16, h2: 128, drop: 0.1\n"
     ]
    },
    {
     "name": "stderr",
     "output_type": "stream",
     "text": [
      "2022-11-14 12:58:22.327287: I tensorflow/core/grappler/optimizers/custom_graph_optimizer_registry.cc:112] Plugin optimizer for device_type GPU is enabled.\n",
      "2022-11-14 12:58:41.890508: I tensorflow/core/grappler/optimizers/custom_graph_optimizer_registry.cc:112] Plugin optimizer for device_type GPU is enabled.\n"
     ]
    },
    {
     "name": "stdout",
     "output_type": "stream",
     "text": [
      "h1: 16, h2: 128, drop: 0.1\n"
     ]
    },
    {
     "name": "stderr",
     "output_type": "stream",
     "text": [
      "2022-11-14 12:58:42.444328: I tensorflow/core/grappler/optimizers/custom_graph_optimizer_registry.cc:112] Plugin optimizer for device_type GPU is enabled.\n",
      "2022-11-14 12:59:01.724460: I tensorflow/core/grappler/optimizers/custom_graph_optimizer_registry.cc:112] Plugin optimizer for device_type GPU is enabled.\n"
     ]
    },
    {
     "name": "stdout",
     "output_type": "stream",
     "text": [
      "h1: 16, h2: 128, drop: 0.1\n"
     ]
    },
    {
     "name": "stderr",
     "output_type": "stream",
     "text": [
      "2022-11-14 12:59:03.249274: I tensorflow/core/grappler/optimizers/custom_graph_optimizer_registry.cc:112] Plugin optimizer for device_type GPU is enabled.\n",
      "2022-11-14 12:59:23.853320: I tensorflow/core/grappler/optimizers/custom_graph_optimizer_registry.cc:112] Plugin optimizer for device_type GPU is enabled.\n"
     ]
    },
    {
     "name": "stdout",
     "output_type": "stream",
     "text": [
      "h1: 64, h2: 64, drop: 0.1\n"
     ]
    },
    {
     "name": "stderr",
     "output_type": "stream",
     "text": [
      "2022-11-14 12:59:24.348909: I tensorflow/core/grappler/optimizers/custom_graph_optimizer_registry.cc:112] Plugin optimizer for device_type GPU is enabled.\n",
      "2022-11-14 12:59:43.782674: I tensorflow/core/grappler/optimizers/custom_graph_optimizer_registry.cc:112] Plugin optimizer for device_type GPU is enabled.\n"
     ]
    },
    {
     "name": "stdout",
     "output_type": "stream",
     "text": [
      "h1: 64, h2: 64, drop: 0.1\n"
     ]
    },
    {
     "name": "stderr",
     "output_type": "stream",
     "text": [
      "2022-11-14 12:59:44.277479: I tensorflow/core/grappler/optimizers/custom_graph_optimizer_registry.cc:112] Plugin optimizer for device_type GPU is enabled.\n",
      "2022-11-14 13:00:02.472286: I tensorflow/core/grappler/optimizers/custom_graph_optimizer_registry.cc:112] Plugin optimizer for device_type GPU is enabled.\n"
     ]
    },
    {
     "name": "stdout",
     "output_type": "stream",
     "text": [
      "h1: 64, h2: 64, drop: 0.1\n"
     ]
    },
    {
     "name": "stderr",
     "output_type": "stream",
     "text": [
      "2022-11-14 13:00:02.945563: I tensorflow/core/grappler/optimizers/custom_graph_optimizer_registry.cc:112] Plugin optimizer for device_type GPU is enabled.\n",
      "2022-11-14 13:00:21.645398: I tensorflow/core/grappler/optimizers/custom_graph_optimizer_registry.cc:112] Plugin optimizer for device_type GPU is enabled.\n"
     ]
    },
    {
     "name": "stdout",
     "output_type": "stream",
     "text": [
      "h1: 64, h2: 128, drop: 0.1\n"
     ]
    },
    {
     "name": "stderr",
     "output_type": "stream",
     "text": [
      "2022-11-14 13:00:22.114640: I tensorflow/core/grappler/optimizers/custom_graph_optimizer_registry.cc:112] Plugin optimizer for device_type GPU is enabled.\n",
      "2022-11-14 13:00:41.155122: I tensorflow/core/grappler/optimizers/custom_graph_optimizer_registry.cc:112] Plugin optimizer for device_type GPU is enabled.\n"
     ]
    },
    {
     "name": "stdout",
     "output_type": "stream",
     "text": [
      "h1: 64, h2: 128, drop: 0.1\n"
     ]
    },
    {
     "name": "stderr",
     "output_type": "stream",
     "text": [
      "2022-11-14 13:00:41.607484: I tensorflow/core/grappler/optimizers/custom_graph_optimizer_registry.cc:112] Plugin optimizer for device_type GPU is enabled.\n",
      "2022-11-14 13:01:00.750637: I tensorflow/core/grappler/optimizers/custom_graph_optimizer_registry.cc:112] Plugin optimizer for device_type GPU is enabled.\n"
     ]
    },
    {
     "name": "stdout",
     "output_type": "stream",
     "text": [
      "h1: 64, h2: 128, drop: 0.1\n"
     ]
    },
    {
     "name": "stderr",
     "output_type": "stream",
     "text": [
      "2022-11-14 13:01:01.356016: I tensorflow/core/grappler/optimizers/custom_graph_optimizer_registry.cc:112] Plugin optimizer for device_type GPU is enabled.\n",
      "2022-11-14 13:01:20.843384: I tensorflow/core/grappler/optimizers/custom_graph_optimizer_registry.cc:112] Plugin optimizer for device_type GPU is enabled.\n"
     ]
    },
    {
     "name": "stdout",
     "output_type": "stream",
     "text": [
      "h1: 128, h2: 64, drop: 0.1\n"
     ]
    },
    {
     "name": "stderr",
     "output_type": "stream",
     "text": [
      "2022-11-14 13:01:21.566309: I tensorflow/core/grappler/optimizers/custom_graph_optimizer_registry.cc:112] Plugin optimizer for device_type GPU is enabled.\n",
      "2022-11-14 13:01:41.642640: I tensorflow/core/grappler/optimizers/custom_graph_optimizer_registry.cc:112] Plugin optimizer for device_type GPU is enabled.\n"
     ]
    },
    {
     "name": "stdout",
     "output_type": "stream",
     "text": [
      "h1: 128, h2: 64, drop: 0.1\n"
     ]
    },
    {
     "name": "stderr",
     "output_type": "stream",
     "text": [
      "2022-11-14 13:01:42.383530: I tensorflow/core/grappler/optimizers/custom_graph_optimizer_registry.cc:112] Plugin optimizer for device_type GPU is enabled.\n",
      "2022-11-14 13:02:01.649608: I tensorflow/core/grappler/optimizers/custom_graph_optimizer_registry.cc:112] Plugin optimizer for device_type GPU is enabled.\n"
     ]
    },
    {
     "name": "stdout",
     "output_type": "stream",
     "text": [
      "h1: 128, h2: 64, drop: 0.1\n"
     ]
    },
    {
     "name": "stderr",
     "output_type": "stream",
     "text": [
      "2022-11-14 13:02:03.370548: I tensorflow/core/grappler/optimizers/custom_graph_optimizer_registry.cc:112] Plugin optimizer for device_type GPU is enabled.\n",
      "2022-11-14 13:02:24.982745: I tensorflow/core/grappler/optimizers/custom_graph_optimizer_registry.cc:112] Plugin optimizer for device_type GPU is enabled.\n"
     ]
    },
    {
     "name": "stdout",
     "output_type": "stream",
     "text": [
      "h1: 128, h2: 128, drop: 0.1\n"
     ]
    },
    {
     "name": "stderr",
     "output_type": "stream",
     "text": [
      "2022-11-14 13:02:25.477207: I tensorflow/core/grappler/optimizers/custom_graph_optimizer_registry.cc:112] Plugin optimizer for device_type GPU is enabled.\n",
      "2022-11-14 13:02:44.623734: I tensorflow/core/grappler/optimizers/custom_graph_optimizer_registry.cc:112] Plugin optimizer for device_type GPU is enabled.\n"
     ]
    },
    {
     "name": "stdout",
     "output_type": "stream",
     "text": [
      "h1: 128, h2: 128, drop: 0.1\n"
     ]
    },
    {
     "name": "stderr",
     "output_type": "stream",
     "text": [
      "2022-11-14 13:02:45.136599: I tensorflow/core/grappler/optimizers/custom_graph_optimizer_registry.cc:112] Plugin optimizer for device_type GPU is enabled.\n",
      "2022-11-14 13:03:03.278467: I tensorflow/core/grappler/optimizers/custom_graph_optimizer_registry.cc:112] Plugin optimizer for device_type GPU is enabled.\n"
     ]
    },
    {
     "name": "stdout",
     "output_type": "stream",
     "text": [
      "h1: 128, h2: 128, drop: 0.1\n"
     ]
    },
    {
     "name": "stderr",
     "output_type": "stream",
     "text": [
      "2022-11-14 13:03:03.827917: I tensorflow/core/grappler/optimizers/custom_graph_optimizer_registry.cc:112] Plugin optimizer for device_type GPU is enabled.\n",
      "2022-11-14 13:03:21.513874: I tensorflow/core/grappler/optimizers/custom_graph_optimizer_registry.cc:112] Plugin optimizer for device_type GPU is enabled.\n"
     ]
    },
    {
     "name": "stdout",
     "output_type": "stream",
     "text": [
      "h1: 16, h2: 64, drop: 0.25\n"
     ]
    },
    {
     "name": "stderr",
     "output_type": "stream",
     "text": [
      "2022-11-14 13:03:22.170375: I tensorflow/core/grappler/optimizers/custom_graph_optimizer_registry.cc:112] Plugin optimizer for device_type GPU is enabled.\n",
      "2022-11-14 13:03:39.919716: I tensorflow/core/grappler/optimizers/custom_graph_optimizer_registry.cc:112] Plugin optimizer for device_type GPU is enabled.\n"
     ]
    },
    {
     "name": "stdout",
     "output_type": "stream",
     "text": [
      "h1: 16, h2: 64, drop: 0.25\n"
     ]
    },
    {
     "name": "stderr",
     "output_type": "stream",
     "text": [
      "2022-11-14 13:03:40.376421: I tensorflow/core/grappler/optimizers/custom_graph_optimizer_registry.cc:112] Plugin optimizer for device_type GPU is enabled.\n",
      "2022-11-14 13:03:57.977660: I tensorflow/core/grappler/optimizers/custom_graph_optimizer_registry.cc:112] Plugin optimizer for device_type GPU is enabled.\n"
     ]
    },
    {
     "name": "stdout",
     "output_type": "stream",
     "text": [
      "h1: 16, h2: 64, drop: 0.25\n"
     ]
    },
    {
     "name": "stderr",
     "output_type": "stream",
     "text": [
      "2022-11-14 13:03:58.534104: I tensorflow/core/grappler/optimizers/custom_graph_optimizer_registry.cc:112] Plugin optimizer for device_type GPU is enabled.\n",
      "2022-11-14 13:04:16.192811: I tensorflow/core/grappler/optimizers/custom_graph_optimizer_registry.cc:112] Plugin optimizer for device_type GPU is enabled.\n"
     ]
    },
    {
     "name": "stdout",
     "output_type": "stream",
     "text": [
      "h1: 16, h2: 128, drop: 0.25\n"
     ]
    },
    {
     "name": "stderr",
     "output_type": "stream",
     "text": [
      "2022-11-14 13:04:16.526390: I tensorflow/core/grappler/optimizers/custom_graph_optimizer_registry.cc:112] Plugin optimizer for device_type GPU is enabled.\n",
      "2022-11-14 13:04:33.991990: I tensorflow/core/grappler/optimizers/custom_graph_optimizer_registry.cc:112] Plugin optimizer for device_type GPU is enabled.\n"
     ]
    },
    {
     "name": "stdout",
     "output_type": "stream",
     "text": [
      "h1: 16, h2: 128, drop: 0.25\n"
     ]
    },
    {
     "name": "stderr",
     "output_type": "stream",
     "text": [
      "2022-11-14 13:04:34.364218: I tensorflow/core/grappler/optimizers/custom_graph_optimizer_registry.cc:112] Plugin optimizer for device_type GPU is enabled.\n",
      "2022-11-14 13:04:51.899418: I tensorflow/core/grappler/optimizers/custom_graph_optimizer_registry.cc:112] Plugin optimizer for device_type GPU is enabled.\n"
     ]
    },
    {
     "name": "stdout",
     "output_type": "stream",
     "text": [
      "h1: 16, h2: 128, drop: 0.25\n"
     ]
    },
    {
     "name": "stderr",
     "output_type": "stream",
     "text": [
      "2022-11-14 13:04:52.379855: I tensorflow/core/grappler/optimizers/custom_graph_optimizer_registry.cc:112] Plugin optimizer for device_type GPU is enabled.\n",
      "2022-11-14 13:05:09.704282: I tensorflow/core/grappler/optimizers/custom_graph_optimizer_registry.cc:112] Plugin optimizer for device_type GPU is enabled.\n"
     ]
    },
    {
     "name": "stdout",
     "output_type": "stream",
     "text": [
      "h1: 64, h2: 64, drop: 0.25\n"
     ]
    },
    {
     "name": "stderr",
     "output_type": "stream",
     "text": [
      "2022-11-14 13:05:11.264184: I tensorflow/core/grappler/optimizers/custom_graph_optimizer_registry.cc:112] Plugin optimizer for device_type GPU is enabled.\n",
      "2022-11-14 13:05:31.139093: I tensorflow/core/grappler/optimizers/custom_graph_optimizer_registry.cc:112] Plugin optimizer for device_type GPU is enabled.\n"
     ]
    },
    {
     "name": "stdout",
     "output_type": "stream",
     "text": [
      "h1: 64, h2: 64, drop: 0.25\n"
     ]
    },
    {
     "name": "stderr",
     "output_type": "stream",
     "text": [
      "2022-11-14 13:05:31.704806: I tensorflow/core/grappler/optimizers/custom_graph_optimizer_registry.cc:112] Plugin optimizer for device_type GPU is enabled.\n",
      "2022-11-14 13:05:50.172430: I tensorflow/core/grappler/optimizers/custom_graph_optimizer_registry.cc:112] Plugin optimizer for device_type GPU is enabled.\n"
     ]
    },
    {
     "name": "stdout",
     "output_type": "stream",
     "text": [
      "h1: 64, h2: 64, drop: 0.25\n"
     ]
    },
    {
     "name": "stderr",
     "output_type": "stream",
     "text": [
      "2022-11-14 13:05:50.827190: I tensorflow/core/grappler/optimizers/custom_graph_optimizer_registry.cc:112] Plugin optimizer for device_type GPU is enabled.\n",
      "2022-11-14 13:06:09.152918: I tensorflow/core/grappler/optimizers/custom_graph_optimizer_registry.cc:112] Plugin optimizer for device_type GPU is enabled.\n"
     ]
    },
    {
     "name": "stdout",
     "output_type": "stream",
     "text": [
      "h1: 64, h2: 128, drop: 0.25\n"
     ]
    },
    {
     "name": "stderr",
     "output_type": "stream",
     "text": [
      "2022-11-14 13:06:09.764957: I tensorflow/core/grappler/optimizers/custom_graph_optimizer_registry.cc:112] Plugin optimizer for device_type GPU is enabled.\n",
      "2022-11-14 13:06:30.638661: I tensorflow/core/grappler/optimizers/custom_graph_optimizer_registry.cc:112] Plugin optimizer for device_type GPU is enabled.\n"
     ]
    },
    {
     "name": "stdout",
     "output_type": "stream",
     "text": [
      "h1: 64, h2: 128, drop: 0.25\n"
     ]
    },
    {
     "name": "stderr",
     "output_type": "stream",
     "text": [
      "2022-11-14 13:06:31.521618: I tensorflow/core/grappler/optimizers/custom_graph_optimizer_registry.cc:112] Plugin optimizer for device_type GPU is enabled.\n",
      "2022-11-14 13:06:53.280147: I tensorflow/core/grappler/optimizers/custom_graph_optimizer_registry.cc:112] Plugin optimizer for device_type GPU is enabled.\n"
     ]
    },
    {
     "name": "stdout",
     "output_type": "stream",
     "text": [
      "h1: 64, h2: 128, drop: 0.25\n"
     ]
    },
    {
     "name": "stderr",
     "output_type": "stream",
     "text": [
      "2022-11-14 13:06:53.867473: I tensorflow/core/grappler/optimizers/custom_graph_optimizer_registry.cc:112] Plugin optimizer for device_type GPU is enabled.\n",
      "2022-11-14 13:07:13.288682: I tensorflow/core/grappler/optimizers/custom_graph_optimizer_registry.cc:112] Plugin optimizer for device_type GPU is enabled.\n"
     ]
    },
    {
     "name": "stdout",
     "output_type": "stream",
     "text": [
      "h1: 128, h2: 64, drop: 0.25\n"
     ]
    },
    {
     "name": "stderr",
     "output_type": "stream",
     "text": [
      "2022-11-14 13:07:14.044608: I tensorflow/core/grappler/optimizers/custom_graph_optimizer_registry.cc:112] Plugin optimizer for device_type GPU is enabled.\n",
      "2022-11-14 13:07:34.566862: I tensorflow/core/grappler/optimizers/custom_graph_optimizer_registry.cc:112] Plugin optimizer for device_type GPU is enabled.\n"
     ]
    },
    {
     "name": "stdout",
     "output_type": "stream",
     "text": [
      "h1: 128, h2: 64, drop: 0.25\n"
     ]
    },
    {
     "name": "stderr",
     "output_type": "stream",
     "text": [
      "2022-11-14 13:07:35.322693: I tensorflow/core/grappler/optimizers/custom_graph_optimizer_registry.cc:112] Plugin optimizer for device_type GPU is enabled.\n",
      "2022-11-14 13:07:57.802232: I tensorflow/core/grappler/optimizers/custom_graph_optimizer_registry.cc:112] Plugin optimizer for device_type GPU is enabled.\n"
     ]
    },
    {
     "name": "stdout",
     "output_type": "stream",
     "text": [
      "h1: 128, h2: 64, drop: 0.25\n"
     ]
    },
    {
     "name": "stderr",
     "output_type": "stream",
     "text": [
      "2022-11-14 13:07:58.353904: I tensorflow/core/grappler/optimizers/custom_graph_optimizer_registry.cc:112] Plugin optimizer for device_type GPU is enabled.\n",
      "2022-11-14 13:08:18.204793: I tensorflow/core/grappler/optimizers/custom_graph_optimizer_registry.cc:112] Plugin optimizer for device_type GPU is enabled.\n"
     ]
    },
    {
     "name": "stdout",
     "output_type": "stream",
     "text": [
      "h1: 128, h2: 128, drop: 0.25\n"
     ]
    },
    {
     "name": "stderr",
     "output_type": "stream",
     "text": [
      "2022-11-14 13:08:19.728382: I tensorflow/core/grappler/optimizers/custom_graph_optimizer_registry.cc:112] Plugin optimizer for device_type GPU is enabled.\n",
      "2022-11-14 13:08:39.012854: I tensorflow/core/grappler/optimizers/custom_graph_optimizer_registry.cc:112] Plugin optimizer for device_type GPU is enabled.\n"
     ]
    },
    {
     "name": "stdout",
     "output_type": "stream",
     "text": [
      "h1: 128, h2: 128, drop: 0.25\n"
     ]
    },
    {
     "name": "stderr",
     "output_type": "stream",
     "text": [
      "2022-11-14 13:08:39.398859: I tensorflow/core/grappler/optimizers/custom_graph_optimizer_registry.cc:112] Plugin optimizer for device_type GPU is enabled.\n",
      "2022-11-14 13:08:56.717013: I tensorflow/core/grappler/optimizers/custom_graph_optimizer_registry.cc:112] Plugin optimizer for device_type GPU is enabled.\n"
     ]
    },
    {
     "name": "stdout",
     "output_type": "stream",
     "text": [
      "h1: 128, h2: 128, drop: 0.25\n"
     ]
    },
    {
     "name": "stderr",
     "output_type": "stream",
     "text": [
      "2022-11-14 13:08:57.048273: I tensorflow/core/grappler/optimizers/custom_graph_optimizer_registry.cc:112] Plugin optimizer for device_type GPU is enabled.\n",
      "2022-11-14 13:09:14.748158: I tensorflow/core/grappler/optimizers/custom_graph_optimizer_registry.cc:112] Plugin optimizer for device_type GPU is enabled.\n"
     ]
    },
    {
     "name": "stdout",
     "output_type": "stream",
     "text": [
      "h1: 16, h2: 64, drop: 0.5\n"
     ]
    },
    {
     "name": "stderr",
     "output_type": "stream",
     "text": [
      "2022-11-14 13:09:15.074232: I tensorflow/core/grappler/optimizers/custom_graph_optimizer_registry.cc:112] Plugin optimizer for device_type GPU is enabled.\n",
      "2022-11-14 13:09:32.618808: I tensorflow/core/grappler/optimizers/custom_graph_optimizer_registry.cc:112] Plugin optimizer for device_type GPU is enabled.\n"
     ]
    },
    {
     "name": "stdout",
     "output_type": "stream",
     "text": [
      "h1: 16, h2: 64, drop: 0.5\n"
     ]
    },
    {
     "name": "stderr",
     "output_type": "stream",
     "text": [
      "2022-11-14 13:09:32.955654: I tensorflow/core/grappler/optimizers/custom_graph_optimizer_registry.cc:112] Plugin optimizer for device_type GPU is enabled.\n",
      "2022-11-14 13:09:50.450840: I tensorflow/core/grappler/optimizers/custom_graph_optimizer_registry.cc:112] Plugin optimizer for device_type GPU is enabled.\n"
     ]
    },
    {
     "name": "stdout",
     "output_type": "stream",
     "text": [
      "h1: 16, h2: 64, drop: 0.5\n"
     ]
    },
    {
     "name": "stderr",
     "output_type": "stream",
     "text": [
      "2022-11-14 13:09:50.871727: I tensorflow/core/grappler/optimizers/custom_graph_optimizer_registry.cc:112] Plugin optimizer for device_type GPU is enabled.\n",
      "2022-11-14 13:10:09.009561: I tensorflow/core/grappler/optimizers/custom_graph_optimizer_registry.cc:112] Plugin optimizer for device_type GPU is enabled.\n"
     ]
    },
    {
     "name": "stdout",
     "output_type": "stream",
     "text": [
      "h1: 16, h2: 128, drop: 0.5\n"
     ]
    },
    {
     "name": "stderr",
     "output_type": "stream",
     "text": [
      "2022-11-14 13:10:09.554862: I tensorflow/core/grappler/optimizers/custom_graph_optimizer_registry.cc:112] Plugin optimizer for device_type GPU is enabled.\n",
      "2022-11-14 13:10:27.184406: I tensorflow/core/grappler/optimizers/custom_graph_optimizer_registry.cc:112] Plugin optimizer for device_type GPU is enabled.\n"
     ]
    },
    {
     "name": "stdout",
     "output_type": "stream",
     "text": [
      "h1: 16, h2: 128, drop: 0.5\n"
     ]
    },
    {
     "name": "stderr",
     "output_type": "stream",
     "text": [
      "2022-11-14 13:10:27.568555: I tensorflow/core/grappler/optimizers/custom_graph_optimizer_registry.cc:112] Plugin optimizer for device_type GPU is enabled.\n",
      "2022-11-14 13:10:44.638648: I tensorflow/core/grappler/optimizers/custom_graph_optimizer_registry.cc:112] Plugin optimizer for device_type GPU is enabled.\n"
     ]
    },
    {
     "name": "stdout",
     "output_type": "stream",
     "text": [
      "h1: 16, h2: 128, drop: 0.5\n"
     ]
    },
    {
     "name": "stderr",
     "output_type": "stream",
     "text": [
      "2022-11-14 13:10:44.976744: I tensorflow/core/grappler/optimizers/custom_graph_optimizer_registry.cc:112] Plugin optimizer for device_type GPU is enabled.\n",
      "2022-11-14 13:11:02.146898: I tensorflow/core/grappler/optimizers/custom_graph_optimizer_registry.cc:112] Plugin optimizer for device_type GPU is enabled.\n"
     ]
    },
    {
     "name": "stdout",
     "output_type": "stream",
     "text": [
      "h1: 64, h2: 64, drop: 0.5\n"
     ]
    },
    {
     "name": "stderr",
     "output_type": "stream",
     "text": [
      "2022-11-14 13:11:02.489359: I tensorflow/core/grappler/optimizers/custom_graph_optimizer_registry.cc:112] Plugin optimizer for device_type GPU is enabled.\n",
      "2022-11-14 13:11:20.508780: I tensorflow/core/grappler/optimizers/custom_graph_optimizer_registry.cc:112] Plugin optimizer for device_type GPU is enabled.\n"
     ]
    },
    {
     "name": "stdout",
     "output_type": "stream",
     "text": [
      "h1: 64, h2: 64, drop: 0.5\n"
     ]
    },
    {
     "name": "stderr",
     "output_type": "stream",
     "text": [
      "2022-11-14 13:11:20.909809: I tensorflow/core/grappler/optimizers/custom_graph_optimizer_registry.cc:112] Plugin optimizer for device_type GPU is enabled.\n",
      "2022-11-14 13:11:39.015183: I tensorflow/core/grappler/optimizers/custom_graph_optimizer_registry.cc:112] Plugin optimizer for device_type GPU is enabled.\n"
     ]
    },
    {
     "name": "stdout",
     "output_type": "stream",
     "text": [
      "h1: 64, h2: 64, drop: 0.5\n"
     ]
    },
    {
     "name": "stderr",
     "output_type": "stream",
     "text": [
      "2022-11-14 13:11:39.343481: I tensorflow/core/grappler/optimizers/custom_graph_optimizer_registry.cc:112] Plugin optimizer for device_type GPU is enabled.\n",
      "2022-11-14 13:11:56.889006: I tensorflow/core/grappler/optimizers/custom_graph_optimizer_registry.cc:112] Plugin optimizer for device_type GPU is enabled.\n"
     ]
    },
    {
     "name": "stdout",
     "output_type": "stream",
     "text": [
      "h1: 64, h2: 128, drop: 0.5\n"
     ]
    },
    {
     "name": "stderr",
     "output_type": "stream",
     "text": [
      "2022-11-14 13:11:57.311546: I tensorflow/core/grappler/optimizers/custom_graph_optimizer_registry.cc:112] Plugin optimizer for device_type GPU is enabled.\n",
      "2022-11-14 13:12:14.799457: I tensorflow/core/grappler/optimizers/custom_graph_optimizer_registry.cc:112] Plugin optimizer for device_type GPU is enabled.\n"
     ]
    },
    {
     "name": "stdout",
     "output_type": "stream",
     "text": [
      "h1: 64, h2: 128, drop: 0.5\n"
     ]
    },
    {
     "name": "stderr",
     "output_type": "stream",
     "text": [
      "2022-11-14 13:12:15.140763: I tensorflow/core/grappler/optimizers/custom_graph_optimizer_registry.cc:112] Plugin optimizer for device_type GPU is enabled.\n",
      "2022-11-14 13:12:32.413039: I tensorflow/core/grappler/optimizers/custom_graph_optimizer_registry.cc:112] Plugin optimizer for device_type GPU is enabled.\n"
     ]
    },
    {
     "name": "stdout",
     "output_type": "stream",
     "text": [
      "h1: 64, h2: 128, drop: 0.5\n"
     ]
    },
    {
     "name": "stderr",
     "output_type": "stream",
     "text": [
      "2022-11-14 13:12:33.050930: I tensorflow/core/grappler/optimizers/custom_graph_optimizer_registry.cc:112] Plugin optimizer for device_type GPU is enabled.\n",
      "2022-11-14 13:12:50.501680: I tensorflow/core/grappler/optimizers/custom_graph_optimizer_registry.cc:112] Plugin optimizer for device_type GPU is enabled.\n"
     ]
    },
    {
     "name": "stdout",
     "output_type": "stream",
     "text": [
      "h1: 128, h2: 64, drop: 0.5\n"
     ]
    },
    {
     "name": "stderr",
     "output_type": "stream",
     "text": [
      "2022-11-14 13:12:50.847107: I tensorflow/core/grappler/optimizers/custom_graph_optimizer_registry.cc:112] Plugin optimizer for device_type GPU is enabled.\n",
      "2022-11-14 13:13:08.618521: I tensorflow/core/grappler/optimizers/custom_graph_optimizer_registry.cc:112] Plugin optimizer for device_type GPU is enabled.\n"
     ]
    },
    {
     "name": "stdout",
     "output_type": "stream",
     "text": [
      "h1: 128, h2: 64, drop: 0.5\n"
     ]
    },
    {
     "name": "stderr",
     "output_type": "stream",
     "text": [
      "2022-11-14 13:13:09.007005: I tensorflow/core/grappler/optimizers/custom_graph_optimizer_registry.cc:112] Plugin optimizer for device_type GPU is enabled.\n",
      "2022-11-14 13:13:26.734635: I tensorflow/core/grappler/optimizers/custom_graph_optimizer_registry.cc:112] Plugin optimizer for device_type GPU is enabled.\n"
     ]
    },
    {
     "name": "stdout",
     "output_type": "stream",
     "text": [
      "h1: 128, h2: 64, drop: 0.5\n"
     ]
    },
    {
     "name": "stderr",
     "output_type": "stream",
     "text": [
      "2022-11-14 13:13:27.200218: I tensorflow/core/grappler/optimizers/custom_graph_optimizer_registry.cc:112] Plugin optimizer for device_type GPU is enabled.\n",
      "2022-11-14 13:13:44.924292: I tensorflow/core/grappler/optimizers/custom_graph_optimizer_registry.cc:112] Plugin optimizer for device_type GPU is enabled.\n"
     ]
    },
    {
     "name": "stdout",
     "output_type": "stream",
     "text": [
      "h1: 128, h2: 128, drop: 0.5\n"
     ]
    },
    {
     "name": "stderr",
     "output_type": "stream",
     "text": [
      "2022-11-14 13:13:45.295929: I tensorflow/core/grappler/optimizers/custom_graph_optimizer_registry.cc:112] Plugin optimizer for device_type GPU is enabled.\n",
      "2022-11-14 13:14:02.521398: I tensorflow/core/grappler/optimizers/custom_graph_optimizer_registry.cc:112] Plugin optimizer for device_type GPU is enabled.\n"
     ]
    },
    {
     "name": "stdout",
     "output_type": "stream",
     "text": [
      "h1: 128, h2: 128, drop: 0.5\n"
     ]
    },
    {
     "name": "stderr",
     "output_type": "stream",
     "text": [
      "2022-11-14 13:14:03.793763: I tensorflow/core/grappler/optimizers/custom_graph_optimizer_registry.cc:112] Plugin optimizer for device_type GPU is enabled.\n",
      "2022-11-14 13:14:23.257176: I tensorflow/core/grappler/optimizers/custom_graph_optimizer_registry.cc:112] Plugin optimizer for device_type GPU is enabled.\n"
     ]
    },
    {
     "name": "stdout",
     "output_type": "stream",
     "text": [
      "h1: 128, h2: 128, drop: 0.5\n"
     ]
    },
    {
     "name": "stderr",
     "output_type": "stream",
     "text": [
      "2022-11-14 13:14:23.664643: I tensorflow/core/grappler/optimizers/custom_graph_optimizer_registry.cc:112] Plugin optimizer for device_type GPU is enabled.\n",
      "2022-11-14 13:14:41.597443: I tensorflow/core/grappler/optimizers/custom_graph_optimizer_registry.cc:112] Plugin optimizer for device_type GPU is enabled.\n"
     ]
    },
    {
     "name": "stdout",
     "output_type": "stream",
     "text": [
      "h1: 16, h2: 128, drop: 0.1\n"
     ]
    },
    {
     "name": "stderr",
     "output_type": "stream",
     "text": [
      "2022-11-14 13:14:42.021709: I tensorflow/core/grappler/optimizers/custom_graph_optimizer_registry.cc:112] Plugin optimizer for device_type GPU is enabled.\n"
     ]
    },
    {
     "data": {
      "text/html": [
       "<style>#sk-container-id-29 {color: black;background-color: white;}#sk-container-id-29 pre{padding: 0;}#sk-container-id-29 div.sk-toggleable {background-color: white;}#sk-container-id-29 label.sk-toggleable__label {cursor: pointer;display: block;width: 100%;margin-bottom: 0;padding: 0.3em;box-sizing: border-box;text-align: center;}#sk-container-id-29 label.sk-toggleable__label-arrow:before {content: \"▸\";float: left;margin-right: 0.25em;color: #696969;}#sk-container-id-29 label.sk-toggleable__label-arrow:hover:before {color: black;}#sk-container-id-29 div.sk-estimator:hover label.sk-toggleable__label-arrow:before {color: black;}#sk-container-id-29 div.sk-toggleable__content {max-height: 0;max-width: 0;overflow: hidden;text-align: left;background-color: #f0f8ff;}#sk-container-id-29 div.sk-toggleable__content pre {margin: 0.2em;color: black;border-radius: 0.25em;background-color: #f0f8ff;}#sk-container-id-29 input.sk-toggleable__control:checked~div.sk-toggleable__content {max-height: 200px;max-width: 100%;overflow: auto;}#sk-container-id-29 input.sk-toggleable__control:checked~label.sk-toggleable__label-arrow:before {content: \"▾\";}#sk-container-id-29 div.sk-estimator input.sk-toggleable__control:checked~label.sk-toggleable__label {background-color: #d4ebff;}#sk-container-id-29 div.sk-label input.sk-toggleable__control:checked~label.sk-toggleable__label {background-color: #d4ebff;}#sk-container-id-29 input.sk-hidden--visually {border: 0;clip: rect(1px 1px 1px 1px);clip: rect(1px, 1px, 1px, 1px);height: 1px;margin: -1px;overflow: hidden;padding: 0;position: absolute;width: 1px;}#sk-container-id-29 div.sk-estimator {font-family: monospace;background-color: #f0f8ff;border: 1px dotted black;border-radius: 0.25em;box-sizing: border-box;margin-bottom: 0.5em;}#sk-container-id-29 div.sk-estimator:hover {background-color: #d4ebff;}#sk-container-id-29 div.sk-parallel-item::after {content: \"\";width: 100%;border-bottom: 1px solid gray;flex-grow: 1;}#sk-container-id-29 div.sk-label:hover label.sk-toggleable__label {background-color: #d4ebff;}#sk-container-id-29 div.sk-serial::before {content: \"\";position: absolute;border-left: 1px solid gray;box-sizing: border-box;top: 0;bottom: 0;left: 50%;z-index: 0;}#sk-container-id-29 div.sk-serial {display: flex;flex-direction: column;align-items: center;background-color: white;padding-right: 0.2em;padding-left: 0.2em;position: relative;}#sk-container-id-29 div.sk-item {position: relative;z-index: 1;}#sk-container-id-29 div.sk-parallel {display: flex;align-items: stretch;justify-content: center;background-color: white;position: relative;}#sk-container-id-29 div.sk-item::before, #sk-container-id-29 div.sk-parallel-item::before {content: \"\";position: absolute;border-left: 1px solid gray;box-sizing: border-box;top: 0;bottom: 0;left: 50%;z-index: -1;}#sk-container-id-29 div.sk-parallel-item {display: flex;flex-direction: column;z-index: 1;position: relative;background-color: white;}#sk-container-id-29 div.sk-parallel-item:first-child::after {align-self: flex-end;width: 50%;}#sk-container-id-29 div.sk-parallel-item:last-child::after {align-self: flex-start;width: 50%;}#sk-container-id-29 div.sk-parallel-item:only-child::after {width: 0;}#sk-container-id-29 div.sk-dashed-wrapped {border: 1px dashed gray;margin: 0 0.4em 0.5em 0.4em;box-sizing: border-box;padding-bottom: 0.4em;background-color: white;}#sk-container-id-29 div.sk-label label {font-family: monospace;font-weight: bold;display: inline-block;line-height: 1.2em;}#sk-container-id-29 div.sk-label-container {text-align: center;}#sk-container-id-29 div.sk-container {/* jupyter's `normalize.less` sets `[hidden] { display: none; }` but bootstrap.min.css set `[hidden] { display: none !important; }` so we also need the `!important` here to be able to override the default hidden behavior on the sphinx rendered scikit-learn.org. See: https://github.com/scikit-learn/scikit-learn/issues/21755 */display: inline-block !important;position: relative;}#sk-container-id-29 div.sk-text-repr-fallback {display: none;}</style><div id=\"sk-container-id-29\" class=\"sk-top-container\"><div class=\"sk-text-repr-fallback\"><pre>GridSearchCV(cv=3,\n",
       "             estimator=&lt;tensorflow.python.keras.wrappers.scikit_learn.KerasRegressor object at 0x2e3f5ae50&gt;,\n",
       "             param_grid={&#x27;drop&#x27;: [0.1, 0.25, 0.5], &#x27;epochs&#x27;: [100],\n",
       "                         &#x27;h1_neurons&#x27;: [16, 64, 128], &#x27;h2_neurons&#x27;: [64, 128]})</pre><b>In a Jupyter environment, please rerun this cell to show the HTML representation or trust the notebook. <br />On GitHub, the HTML representation is unable to render, please try loading this page with nbviewer.org.</b></div><div class=\"sk-container\" hidden><div class=\"sk-item sk-dashed-wrapped\"><div class=\"sk-label-container\"><div class=\"sk-label sk-toggleable\"><input class=\"sk-toggleable__control sk-hidden--visually\" id=\"sk-estimator-id-43\" type=\"checkbox\" ><label for=\"sk-estimator-id-43\" class=\"sk-toggleable__label sk-toggleable__label-arrow\">GridSearchCV</label><div class=\"sk-toggleable__content\"><pre>GridSearchCV(cv=3,\n",
       "             estimator=&lt;tensorflow.python.keras.wrappers.scikit_learn.KerasRegressor object at 0x2e3f5ae50&gt;,\n",
       "             param_grid={&#x27;drop&#x27;: [0.1, 0.25, 0.5], &#x27;epochs&#x27;: [100],\n",
       "                         &#x27;h1_neurons&#x27;: [16, 64, 128], &#x27;h2_neurons&#x27;: [64, 128]})</pre></div></div></div><div class=\"sk-parallel\"><div class=\"sk-parallel-item\"><div class=\"sk-item\"><div class=\"sk-label-container\"><div class=\"sk-label sk-toggleable\"><input class=\"sk-toggleable__control sk-hidden--visually\" id=\"sk-estimator-id-44\" type=\"checkbox\" ><label for=\"sk-estimator-id-44\" class=\"sk-toggleable__label sk-toggleable__label-arrow\">estimator: KerasRegressor</label><div class=\"sk-toggleable__content\"><pre>&lt;tensorflow.python.keras.wrappers.scikit_learn.KerasRegressor object at 0x2e3f5ae50&gt;</pre></div></div></div><div class=\"sk-serial\"><div class=\"sk-item\"><div class=\"sk-estimator sk-toggleable\"><input class=\"sk-toggleable__control sk-hidden--visually\" id=\"sk-estimator-id-45\" type=\"checkbox\" ><label for=\"sk-estimator-id-45\" class=\"sk-toggleable__label sk-toggleable__label-arrow\">KerasRegressor</label><div class=\"sk-toggleable__content\"><pre>&lt;tensorflow.python.keras.wrappers.scikit_learn.KerasRegressor object at 0x2e3f5ae50&gt;</pre></div></div></div></div></div></div></div></div></div></div>"
      ],
      "text/plain": [
       "GridSearchCV(cv=3,\n",
       "             estimator=<tensorflow.python.keras.wrappers.scikit_learn.KerasRegressor object at 0x2e3f5ae50>,\n",
       "             param_grid={'drop': [0.1, 0.25, 0.5], 'epochs': [100],\n",
       "                         'h1_neurons': [16, 64, 128], 'h2_neurons': [64, 128]})"
      ]
     },
     "execution_count": 545,
     "metadata": {},
     "output_type": "execute_result"
    }
   ],
   "source": [
    "# 19 min to run\n",
    "nn_grid = GridSearchCV(nn, param_grid = params, cv = 3)\n",
    "nn_grid.fit(X_train_sc, y_train)"
   ]
  },
  {
   "cell_type": "code",
   "execution_count": null,
   "metadata": {},
   "outputs": [],
   "source": [
    "nn_grid.best_esti"
   ]
  },
  {
   "cell_type": "code",
   "execution_count": 546,
   "metadata": {},
   "outputs": [
    {
     "name": "stdout",
     "output_type": "stream",
     "text": [
      "Best Score: -0.12310518324375153\n",
      "Best parameters: {'drop': 0.1, 'epochs': 100, 'h1_neurons': 16, 'h2_neurons': 128}\n"
     ]
    }
   ],
   "source": [
    "print(f'Best Score: {nn_grid.best_score_}')\n",
    "print(f'Best parameters: {nn_grid.best_params_}')"
   ]
  },
  {
   "cell_type": "code",
   "execution_count": 547,
   "metadata": {},
   "outputs": [
    {
     "name": "stdout",
     "output_type": "stream",
     "text": [
      "Best Score : -0.12310518324375153\n",
      "Best Parameters: {'drop': 0.1, 'epochs': 100, 'h1_neurons': 16, 'h2_neurons': 128}\n"
     ]
    },
    {
     "name": "stderr",
     "output_type": "stream",
     "text": [
      "2022-11-14 13:15:08.845516: I tensorflow/core/grappler/optimizers/custom_graph_optimizer_registry.cc:112] Plugin optimizer for device_type GPU is enabled.\n"
     ]
    },
    {
     "name": "stdout",
     "output_type": "stream",
     "text": [
      "Score on training set: -0.1099712923169136\n",
      "Score on test set: -0.12766656279563904\n"
     ]
    }
   ],
   "source": [
    "# Printing Outputs\n",
    "print(f'Best Score : {nn_grid.best_score_}')\n",
    "print(f'Best Parameters: {nn_grid.best_params_}') \n",
    "print(f'Score on training set: {nn_grid.score(X_train_sc, y_train)}')\n",
    "print(f'Score on test set: {nn_grid.score(X_test_sc, y_test)}')"
   ]
  },
  {
   "cell_type": "code",
   "execution_count": 548,
   "metadata": {},
   "outputs": [
    {
     "name": "stdout",
     "output_type": "stream",
     "text": [
      "MAE: 122.35860490551669\n",
      "MSE: 18266.814435877004\n",
      "RMSE: 135.1547795524709\n",
      "R2: -47683.27648015665\n"
     ]
    },
    {
     "name": "stderr",
     "output_type": "stream",
     "text": [
      "2022-11-14 13:15:09.705956: I tensorflow/core/grappler/optimizers/custom_graph_optimizer_registry.cc:112] Plugin optimizer for device_type GPU is enabled.\n"
     ]
    }
   ],
   "source": [
    "# Calculate residual\n",
    "nn_y_preds = np.exp(nn_grid.best_estimator_.predict(X_train_sc))\n",
    "residuals = y_train - nn_y_preds\n",
    "\n",
    "# Metrics\n",
    "print(f'MAE: {metrics.mean_absolute_error(y_train, nn_y_preds)}')\n",
    "print(f'MSE: {metrics.mean_squared_error(y_train, nn_y_preds)}')\n",
    "print(f'RMSE: {metrics.mean_squared_error(y_train, nn_y_preds, squared = False)}')\n",
    "print(f'R2: {metrics.r2_score(y_train, nn_y_preds)}')"
   ]
  },
  {
   "cell_type": "markdown",
   "metadata": {},
   "source": [
    "## 4.8. Stacking \n"
   ]
  },
  {
   "cell_type": "markdown",
   "metadata": {},
   "source": [
    "Getting the predictions from models (level 1) to use as features for an another model (level 2)"
   ]
  },
  {
   "cell_type": "code",
   "execution_count": 549,
   "metadata": {},
   "outputs": [
    {
     "data": {
      "text/html": [
       "<div>\n",
       "<style scoped>\n",
       "    .dataframe tbody tr th:only-of-type {\n",
       "        vertical-align: middle;\n",
       "    }\n",
       "\n",
       "    .dataframe tbody tr th {\n",
       "        vertical-align: top;\n",
       "    }\n",
       "\n",
       "    .dataframe thead th {\n",
       "        text-align: right;\n",
       "    }\n",
       "</style>\n",
       "<table border=\"1\" class=\"dataframe\">\n",
       "  <thead>\n",
       "    <tr style=\"text-align: right;\">\n",
       "      <th></th>\n",
       "      <th>model_rf</th>\n",
       "      <th>model_dt</th>\n",
       "      <th>model_ridge</th>\n",
       "    </tr>\n",
       "  </thead>\n",
       "  <tbody>\n",
       "    <tr>\n",
       "      <th>8131</th>\n",
       "      <td>4.970762</td>\n",
       "      <td>5.441017</td>\n",
       "      <td>4.707234</td>\n",
       "    </tr>\n",
       "    <tr>\n",
       "      <th>1276</th>\n",
       "      <td>4.668608</td>\n",
       "      <td>4.689441</td>\n",
       "      <td>4.789196</td>\n",
       "    </tr>\n",
       "    <tr>\n",
       "      <th>13904</th>\n",
       "      <td>3.855575</td>\n",
       "      <td>3.907209</td>\n",
       "      <td>4.467619</td>\n",
       "    </tr>\n",
       "    <tr>\n",
       "      <th>6259</th>\n",
       "      <td>4.632141</td>\n",
       "      <td>4.962515</td>\n",
       "      <td>4.826465</td>\n",
       "    </tr>\n",
       "    <tr>\n",
       "      <th>7348</th>\n",
       "      <td>4.253366</td>\n",
       "      <td>4.738057</td>\n",
       "      <td>4.499918</td>\n",
       "    </tr>\n",
       "    <tr>\n",
       "      <th>...</th>\n",
       "      <td>...</td>\n",
       "      <td>...</td>\n",
       "      <td>...</td>\n",
       "    </tr>\n",
       "    <tr>\n",
       "      <th>11964</th>\n",
       "      <td>4.930740</td>\n",
       "      <td>5.482325</td>\n",
       "      <td>5.073221</td>\n",
       "    </tr>\n",
       "    <tr>\n",
       "      <th>21575</th>\n",
       "      <td>5.226996</td>\n",
       "      <td>5.206480</td>\n",
       "      <td>5.095550</td>\n",
       "    </tr>\n",
       "    <tr>\n",
       "      <th>5390</th>\n",
       "      <td>4.670734</td>\n",
       "      <td>4.689441</td>\n",
       "      <td>4.636119</td>\n",
       "    </tr>\n",
       "    <tr>\n",
       "      <th>860</th>\n",
       "      <td>5.386128</td>\n",
       "      <td>5.441017</td>\n",
       "      <td>5.286280</td>\n",
       "    </tr>\n",
       "    <tr>\n",
       "      <th>15795</th>\n",
       "      <td>5.354595</td>\n",
       "      <td>4.917092</td>\n",
       "      <td>5.068191</td>\n",
       "    </tr>\n",
       "  </tbody>\n",
       "</table>\n",
       "<p>15528 rows × 3 columns</p>\n",
       "</div>"
      ],
      "text/plain": [
       "       model_rf  model_dt  model_ridge\n",
       "8131   4.970762  5.441017     4.707234\n",
       "1276   4.668608  4.689441     4.789196\n",
       "13904  3.855575  3.907209     4.467619\n",
       "6259   4.632141  4.962515     4.826465\n",
       "7348   4.253366  4.738057     4.499918\n",
       "...         ...       ...          ...\n",
       "11964  4.930740  5.482325     5.073221\n",
       "21575  5.226996  5.206480     5.095550\n",
       "5390   4.670734  4.689441     4.636119\n",
       "860    5.386128  5.441017     5.286280\n",
       "15795  5.354595  4.917092     5.068191\n",
       "\n",
       "[15528 rows x 3 columns]"
      ]
     },
     "execution_count": 549,
     "metadata": {},
     "output_type": "execute_result"
    }
   ],
   "source": [
    "X_pred_train = pd.DataFrame(index = X_train.index)\n",
    "\n",
    "X_pred_train['model_rf'] = rf_grid.best_estimator_.predict(X_train_sc) # Radom Forest Model Predictions\n",
    "X_pred_train['model_dt'] = dt_grid.best_estimator_.predict(X_train_sc) # Decision Trees Model Predictions\n",
    "X_pred_train['model_ridge'] = ridge.predict(X_train_sc) # Linear Regression Ridge Regulatization Predictions\n",
    "X_pred_train"
   ]
  },
  {
   "cell_type": "code",
   "execution_count": 550,
   "metadata": {},
   "outputs": [
    {
     "data": {
      "text/plain": [
       "-1.6279957810500911e+19"
      ]
     },
     "execution_count": 550,
     "metadata": {},
     "output_type": "execute_result"
    }
   ],
   "source": [
    "stacked_model = LinearRegression()\n",
    "cross_val_score(stacked_model, X_train_sc, y_train).mean()"
   ]
  },
  {
   "cell_type": "code",
   "execution_count": 551,
   "metadata": {},
   "outputs": [
    {
     "data": {
      "text/html": [
       "<style>#sk-container-id-30 {color: black;background-color: white;}#sk-container-id-30 pre{padding: 0;}#sk-container-id-30 div.sk-toggleable {background-color: white;}#sk-container-id-30 label.sk-toggleable__label {cursor: pointer;display: block;width: 100%;margin-bottom: 0;padding: 0.3em;box-sizing: border-box;text-align: center;}#sk-container-id-30 label.sk-toggleable__label-arrow:before {content: \"▸\";float: left;margin-right: 0.25em;color: #696969;}#sk-container-id-30 label.sk-toggleable__label-arrow:hover:before {color: black;}#sk-container-id-30 div.sk-estimator:hover label.sk-toggleable__label-arrow:before {color: black;}#sk-container-id-30 div.sk-toggleable__content {max-height: 0;max-width: 0;overflow: hidden;text-align: left;background-color: #f0f8ff;}#sk-container-id-30 div.sk-toggleable__content pre {margin: 0.2em;color: black;border-radius: 0.25em;background-color: #f0f8ff;}#sk-container-id-30 input.sk-toggleable__control:checked~div.sk-toggleable__content {max-height: 200px;max-width: 100%;overflow: auto;}#sk-container-id-30 input.sk-toggleable__control:checked~label.sk-toggleable__label-arrow:before {content: \"▾\";}#sk-container-id-30 div.sk-estimator input.sk-toggleable__control:checked~label.sk-toggleable__label {background-color: #d4ebff;}#sk-container-id-30 div.sk-label input.sk-toggleable__control:checked~label.sk-toggleable__label {background-color: #d4ebff;}#sk-container-id-30 input.sk-hidden--visually {border: 0;clip: rect(1px 1px 1px 1px);clip: rect(1px, 1px, 1px, 1px);height: 1px;margin: -1px;overflow: hidden;padding: 0;position: absolute;width: 1px;}#sk-container-id-30 div.sk-estimator {font-family: monospace;background-color: #f0f8ff;border: 1px dotted black;border-radius: 0.25em;box-sizing: border-box;margin-bottom: 0.5em;}#sk-container-id-30 div.sk-estimator:hover {background-color: #d4ebff;}#sk-container-id-30 div.sk-parallel-item::after {content: \"\";width: 100%;border-bottom: 1px solid gray;flex-grow: 1;}#sk-container-id-30 div.sk-label:hover label.sk-toggleable__label {background-color: #d4ebff;}#sk-container-id-30 div.sk-serial::before {content: \"\";position: absolute;border-left: 1px solid gray;box-sizing: border-box;top: 0;bottom: 0;left: 50%;z-index: 0;}#sk-container-id-30 div.sk-serial {display: flex;flex-direction: column;align-items: center;background-color: white;padding-right: 0.2em;padding-left: 0.2em;position: relative;}#sk-container-id-30 div.sk-item {position: relative;z-index: 1;}#sk-container-id-30 div.sk-parallel {display: flex;align-items: stretch;justify-content: center;background-color: white;position: relative;}#sk-container-id-30 div.sk-item::before, #sk-container-id-30 div.sk-parallel-item::before {content: \"\";position: absolute;border-left: 1px solid gray;box-sizing: border-box;top: 0;bottom: 0;left: 50%;z-index: -1;}#sk-container-id-30 div.sk-parallel-item {display: flex;flex-direction: column;z-index: 1;position: relative;background-color: white;}#sk-container-id-30 div.sk-parallel-item:first-child::after {align-self: flex-end;width: 50%;}#sk-container-id-30 div.sk-parallel-item:last-child::after {align-self: flex-start;width: 50%;}#sk-container-id-30 div.sk-parallel-item:only-child::after {width: 0;}#sk-container-id-30 div.sk-dashed-wrapped {border: 1px dashed gray;margin: 0 0.4em 0.5em 0.4em;box-sizing: border-box;padding-bottom: 0.4em;background-color: white;}#sk-container-id-30 div.sk-label label {font-family: monospace;font-weight: bold;display: inline-block;line-height: 1.2em;}#sk-container-id-30 div.sk-label-container {text-align: center;}#sk-container-id-30 div.sk-container {/* jupyter's `normalize.less` sets `[hidden] { display: none; }` but bootstrap.min.css set `[hidden] { display: none !important; }` so we also need the `!important` here to be able to override the default hidden behavior on the sphinx rendered scikit-learn.org. See: https://github.com/scikit-learn/scikit-learn/issues/21755 */display: inline-block !important;position: relative;}#sk-container-id-30 div.sk-text-repr-fallback {display: none;}</style><div id=\"sk-container-id-30\" class=\"sk-top-container\"><div class=\"sk-text-repr-fallback\"><pre>LinearRegression()</pre><b>In a Jupyter environment, please rerun this cell to show the HTML representation or trust the notebook. <br />On GitHub, the HTML representation is unable to render, please try loading this page with nbviewer.org.</b></div><div class=\"sk-container\" hidden><div class=\"sk-item\"><div class=\"sk-estimator sk-toggleable\"><input class=\"sk-toggleable__control sk-hidden--visually\" id=\"sk-estimator-id-46\" type=\"checkbox\" checked><label for=\"sk-estimator-id-46\" class=\"sk-toggleable__label sk-toggleable__label-arrow\">LinearRegression</label><div class=\"sk-toggleable__content\"><pre>LinearRegression()</pre></div></div></div></div></div>"
      ],
      "text/plain": [
       "LinearRegression()"
      ]
     },
     "execution_count": 551,
     "metadata": {},
     "output_type": "execute_result"
    }
   ],
   "source": [
    "# Fit\n",
    "stacked_model.fit(X_pred_train, y_train)"
   ]
  },
  {
   "cell_type": "code",
   "execution_count": 552,
   "metadata": {},
   "outputs": [
    {
     "data": {
      "text/plain": [
       "0.9220075916897965"
      ]
     },
     "execution_count": 552,
     "metadata": {},
     "output_type": "execute_result"
    }
   ],
   "source": [
    "# Train score\n",
    "stacked_model.score(X_pred_train, y_train)"
   ]
  },
  {
   "cell_type": "code",
   "execution_count": 553,
   "metadata": {},
   "outputs": [
    {
     "data": {
      "text/html": [
       "<div>\n",
       "<style scoped>\n",
       "    .dataframe tbody tr th:only-of-type {\n",
       "        vertical-align: middle;\n",
       "    }\n",
       "\n",
       "    .dataframe tbody tr th {\n",
       "        vertical-align: top;\n",
       "    }\n",
       "\n",
       "    .dataframe thead th {\n",
       "        text-align: right;\n",
       "    }\n",
       "</style>\n",
       "<table border=\"1\" class=\"dataframe\">\n",
       "  <thead>\n",
       "    <tr style=\"text-align: right;\">\n",
       "      <th></th>\n",
       "      <th>model_rf</th>\n",
       "      <th>model_dt</th>\n",
       "      <th>model_ridge</th>\n",
       "    </tr>\n",
       "  </thead>\n",
       "  <tbody>\n",
       "    <tr>\n",
       "      <th>563</th>\n",
       "      <td>5.215140</td>\n",
       "      <td>5.070878</td>\n",
       "      <td>4.658836</td>\n",
       "    </tr>\n",
       "    <tr>\n",
       "      <th>1383</th>\n",
       "      <td>5.195512</td>\n",
       "      <td>5.070878</td>\n",
       "      <td>5.272317</td>\n",
       "    </tr>\n",
       "    <tr>\n",
       "      <th>2404</th>\n",
       "      <td>4.122993</td>\n",
       "      <td>4.390333</td>\n",
       "      <td>4.239829</td>\n",
       "    </tr>\n",
       "    <tr>\n",
       "      <th>16430</th>\n",
       "      <td>5.318358</td>\n",
       "      <td>5.206480</td>\n",
       "      <td>5.293973</td>\n",
       "    </tr>\n",
       "    <tr>\n",
       "      <th>13160</th>\n",
       "      <td>4.068425</td>\n",
       "      <td>4.185936</td>\n",
       "      <td>4.011853</td>\n",
       "    </tr>\n",
       "    <tr>\n",
       "      <th>...</th>\n",
       "      <td>...</td>\n",
       "      <td>...</td>\n",
       "      <td>...</td>\n",
       "    </tr>\n",
       "    <tr>\n",
       "      <th>7003</th>\n",
       "      <td>4.912697</td>\n",
       "      <td>5.246970</td>\n",
       "      <td>5.074118</td>\n",
       "    </tr>\n",
       "    <tr>\n",
       "      <th>16719</th>\n",
       "      <td>5.048679</td>\n",
       "      <td>4.696957</td>\n",
       "      <td>4.819623</td>\n",
       "    </tr>\n",
       "    <tr>\n",
       "      <th>3788</th>\n",
       "      <td>5.319094</td>\n",
       "      <td>5.420421</td>\n",
       "      <td>5.116751</td>\n",
       "    </tr>\n",
       "    <tr>\n",
       "      <th>9068</th>\n",
       "      <td>5.507681</td>\n",
       "      <td>5.206480</td>\n",
       "      <td>5.365740</td>\n",
       "    </tr>\n",
       "    <tr>\n",
       "      <th>8288</th>\n",
       "      <td>4.374744</td>\n",
       "      <td>4.113701</td>\n",
       "      <td>4.562523</td>\n",
       "    </tr>\n",
       "  </tbody>\n",
       "</table>\n",
       "<p>6655 rows × 3 columns</p>\n",
       "</div>"
      ],
      "text/plain": [
       "       model_rf  model_dt  model_ridge\n",
       "563    5.215140  5.070878     4.658836\n",
       "1383   5.195512  5.070878     5.272317\n",
       "2404   4.122993  4.390333     4.239829\n",
       "16430  5.318358  5.206480     5.293973\n",
       "13160  4.068425  4.185936     4.011853\n",
       "...         ...       ...          ...\n",
       "7003   4.912697  5.246970     5.074118\n",
       "16719  5.048679  4.696957     4.819623\n",
       "3788   5.319094  5.420421     5.116751\n",
       "9068   5.507681  5.206480     5.365740\n",
       "8288   4.374744  4.113701     4.562523\n",
       "\n",
       "[6655 rows x 3 columns]"
      ]
     },
     "execution_count": 553,
     "metadata": {},
     "output_type": "execute_result"
    }
   ],
   "source": [
    "X_pred_test = pd.DataFrame(index = X_test.index)\n",
    "\n",
    "X_pred_test['model_rf'] = rf_grid.best_estimator_.predict(X_test_sc) # Radom Forest Model Predictions\n",
    "X_pred_test['model_dt'] = dt_grid.best_estimator_.predict(X_test_sc)# Decision Trees Model Predictions\n",
    "X_pred_test['model_ridge'] = ridge.predict(X_test_sc)# Linear Regression Ridge Regulatization Predictions\n",
    "X_pred_test"
   ]
  },
  {
   "cell_type": "code",
   "execution_count": 554,
   "metadata": {},
   "outputs": [
    {
     "data": {
      "text/plain": [
       "0.6389786799416926"
      ]
     },
     "execution_count": 554,
     "metadata": {},
     "output_type": "execute_result"
    }
   ],
   "source": [
    "# Test score\n",
    "stacked_model.score(X_pred_test, y_test)"
   ]
  },
  {
   "cell_type": "code",
   "execution_count": 555,
   "metadata": {},
   "outputs": [
    {
     "name": "stdout",
     "output_type": "stream",
     "text": [
      "MAE: 136.76804097083485\n",
      "MSE: 25637.531582008527\n",
      "RMSE: 160.11724323759927\n",
      "R2: -66924.03219522354\n"
     ]
    }
   ],
   "source": [
    "# Calcuate residual\n",
    "stacked_y_preds = np.exp(stacked_model.predict(X_pred_train))\n",
    "residuals = y_train - stacked_y_preds\n",
    "\n",
    "# Metrics\n",
    "print(f'MAE: {metrics.mean_absolute_error(y_train, stacked_y_preds)}')\n",
    "print(f'MSE: {metrics.mean_squared_error(y_train, stacked_y_preds)}')\n",
    "print(f'RMSE: {metrics.mean_squared_error(y_train, stacked_y_preds, squared = False)}')\n",
    "print(f'R2: {metrics.r2_score(y_train, stacked_y_preds)}')"
   ]
  },
  {
   "cell_type": "markdown",
   "metadata": {},
   "source": [
    "## 4.9. Stacked Model ElasticNet"
   ]
  },
  {
   "cell_type": "code",
   "execution_count": 556,
   "metadata": {},
   "outputs": [
    {
     "name": "stdout",
     "output_type": "stream",
     "text": [
      "0.6526381208593044\n",
      "0.5790260339389759\n"
     ]
    }
   ],
   "source": [
    "# Set up a list of alphas to check.\n",
    "enet_alphas = np.linspace(0.5, 1.0, 100)\n",
    "\n",
    "# Set up our l1 ratio - the amount of L1 vs L2 penalty. \n",
    "# An l1_ratio of 0 is equivalent to the Ridge, whereas an l1_ratio of 1 is equivalent to the Lasso.\n",
    "enet_ratio = 0.01\n",
    "\n",
    "# Instantiate model.\n",
    "enet_model = ElasticNetCV(alphas=enet_alphas, l1_ratio=enet_ratio, cv=5)\n",
    "\n",
    "# Fit model using optimal alpha.\n",
    "enet_model = enet_model.fit(X_pred_train, y_train)\n",
    "\n",
    "# Evaluate model.\n",
    "print(enet_model.score(X_pred_train, y_train))\n",
    "print(enet_model.score(X_pred_test, y_test))"
   ]
  },
  {
   "cell_type": "code",
   "execution_count": 557,
   "metadata": {},
   "outputs": [
    {
     "name": "stdout",
     "output_type": "stream",
     "text": [
      "MAE: 120.59322882336973\n",
      "MSE: 15994.901801669508\n",
      "RMSE: 126.4709524027929\n",
      "R2: -41752.60309599305\n"
     ]
    }
   ],
   "source": [
    "# Calcuate residual\n",
    "enet_model_preds_train = np.exp(enet_model.predict(X_pred_train))\n",
    "residuals = y_train - enet_model_preds_train\n",
    "\n",
    "# Metrics\n",
    "print(f'MAE: {metrics.mean_absolute_error(y_train, enet_model_preds_train)}')\n",
    "print(f'MSE: {metrics.mean_squared_error(y_train, enet_model_preds_train)}')\n",
    "print(f'RMSE: {metrics.mean_squared_error(y_train, enet_model_preds_train, squared = False)}')\n",
    "print(f'R2: {metrics.r2_score(y_train, enet_model_preds_train)}')"
   ]
  },
  {
   "cell_type": "markdown",
   "metadata": {},
   "source": [
    "## 4.10. Models Benchmarks\n",
    "_________________"
   ]
  },
  {
   "cell_type": "code",
   "execution_count": 563,
   "metadata": {},
   "outputs": [
    {
     "name": "stdout",
     "output_type": "stream",
     "text": [
      " ### Linear Regression\n",
      "Training Score: 0.6493298597499471\n",
      "Testing Score: -4.4354846159887034e+17\n",
      "MSE: 21461.767848811694\n",
      "RMSE: 146.49835442356238\n",
      "\n",
      " ### Lasso Regularization\n",
      "Lasson Train Score:  0.6361272959823889\n",
      "Lasso Test Score 0.6272351998879183\n",
      "MSE: 21013.713228805504\n",
      "RMSE: 144.9610748746211\n",
      "\n",
      " ### Ridge Regularization \n",
      "Training Score: 0.6401766198186942\n",
      "Testing Score: 0.6295447314841209\n",
      "MSE: 20959.746324633317\n",
      "RMSE: 144.77481246623432\n",
      "\n",
      " ### KNearestNeighborhood GridSearch\n",
      "Training Score: 0.7198295137423087\n",
      "Testing Score: 0.6619027948256624\n",
      "MSE: 22646.359589001717\n",
      "RMSE: 150.4870744914716\n",
      "\n",
      " ### DecisionTrees GridSearch\n",
      "Score on training set: 0.6231104171892097\n",
      "Score on testing set: 0.6029381329430296\n",
      "MSE: 20476.175754086602\n",
      "RMSE: 143.09498857083221\n",
      "\n",
      " ### RainForest GridSearch\n",
      "Score on training set: 0.8865569149957151\n",
      "Score on test set: 0.6817863215376742\n",
      "MSE: 22639.58032479946\n",
      "RMSE: 150.46454839861602\n",
      "\n",
      " ### NeuralNetworks GridSearch\n",
      "Score on training set: -0.1099712923169136\n",
      "Score on test set: -0.12766656279563904\n",
      "MSE: 18266.814435877004\n",
      "RMSE: 135.1547795524709\n",
      "\n",
      " ### Stacking Model\n",
      "Train score:0.9220075916897965\n",
      "Test score:0.6389786799416926\n",
      "MSE: 25637.531582008527\n",
      "RMSE: 160.11724323759927\n",
      "\n",
      " ### ElasticNet Stacking Model\n",
      "MSE: 15994.901801669508\n",
      "RMSE: 126.4709524027929\n",
      "Training Score:0.6526381208593044\n",
      "Testining Score:0.5790260339389759\n"
     ]
    }
   ],
   "source": [
    "print(f' ### Linear Regression')\n",
    "print(f'Training Score: {lr.score(X_train_sc, y_train)}')\n",
    "print(f'Testing Score: {lr.score(X_test_sc, y_test)}')\n",
    "print(f'MSE: {metrics.mean_squared_error(y_train, lr_y_preds)}')\n",
    "print(f'RMSE: {metrics.mean_squared_error(y_train, lr_y_preds, squared = False)}')\n",
    "print(f'')\n",
    "\n",
    "print(f' ### Lasso Regularization')\n",
    "print(\"Lasson Train Score: \", lasso_cv.score(X_train_sc, y_train))\n",
    "print(\"Lasso Test Score\", lasso_cv.score(X_test_sc, y_test))\n",
    "print(f'MSE: {metrics.mean_squared_error(y_train, lasso_y_preds)}')\n",
    "print(f'RMSE: {metrics.mean_squared_error(y_train, lasso_y_preds, squared = False)}')\n",
    "print(f'')\n",
    "print(f' ### Ridge Regularization ')\n",
    "print(f'Training Score: {ridge.score(X_train_sc, y_train)}')\n",
    "print(f'Testing Score: {ridge.score(X_test_sc, y_test)}')\n",
    "print(f'MSE: {metrics.mean_squared_error(y_train, ridge_y_preds)}')\n",
    "print(f'RMSE: {metrics.mean_squared_error(y_train, ridge_y_preds, squared = False)}')\n",
    "print(f'')\n",
    "print(f' ### KNearestNeighborhood GridSearch')\n",
    "print(f'Training Score: {knn_grid.score(X_train_sc, y_train)}')\n",
    "print(f'Testing Score: {knn_grid.score(X_test_sc, y_test)}')\n",
    "print(f'MSE: {metrics.mean_squared_error(y_train, knn_y_preds)}')\n",
    "print(f'RMSE: {metrics.mean_squared_error(y_train, knn_y_preds, squared = False)}')\n",
    "print(f'')\n",
    "print(f' ### DecisionTrees GridSearch')\n",
    "print(f'Score on training set: {dt_grid.score(X_train_sc, y_train)}')\n",
    "print(f'Score on testing set: {dt_grid.score(X_test_sc, y_test)}')\n",
    "print(f'MSE: {metrics.mean_squared_error(y_train, dt_y_preds)}')\n",
    "print(f'RMSE: {metrics.mean_squared_error(y_train, dt_y_preds, squared = False)}')\n",
    "print(f'')\n",
    "print(f' ### RainForest GridSearch')\n",
    "print(f'Score on training set: {rf_grid.score(X_train_sc, y_train)}')\n",
    "print(f'Score on test set: {rf_grid.score(X_test_sc, y_test)}')\n",
    "print(f'MSE: {metrics.mean_squared_error(y_train, rf_y_preds)}')\n",
    "print(f'RMSE: {metrics.mean_squared_error(y_train, rf_y_preds, squared = False)}')\n",
    "print(f'')\n",
    "print(f' ### NeuralNetworks GridSearch')\n",
    "print(f'Score on training set: {nn_grid.score(X_train_sc, y_train)}')\n",
    "print(f'Score on test set: {nn_grid.score(X_test_sc, y_test)}')\n",
    "print(f'MSE: {metrics.mean_squared_error(y_train, nn_y_preds)}')\n",
    "print(f'RMSE: {metrics.mean_squared_error(y_train, nn_y_preds, squared = False)}')\n",
    "print(f'')\n",
    "print(f' ### Stacking Model')\n",
    "print(f'Train score:{stacked_model.score(X_pred_train, y_train)}')\n",
    "print(f'Test score:{stacked_model.score(X_pred_test, y_test)}')\n",
    "print(f'MSE: {metrics.mean_squared_error(y_train, stacked_y_preds)}')\n",
    "print(f'RMSE: {metrics.mean_squared_error(y_train, stacked_y_preds, squared = False)}')\n",
    "print(f'')\n",
    "print(f' ### ElasticNet Stacking Model')\n",
    "print(f'MSE: {metrics.mean_squared_error(y_train, enet_model_preds_train)}')\n",
    "print(f'RMSE: {metrics.mean_squared_error(y_train, enet_model_preds_train, squared = False)}')\n",
    "print(f'Training Score:{enet_model.score(X_pred_train, y_train)}')\n",
    "print(f'Testining Score:{enet_model.score(X_pred_test, y_test)}')"
   ]
  },
  {
   "cell_type": "markdown",
   "metadata": {},
   "source": [
    "# 5. Pickling a Model\n",
    "___"
   ]
  },
  {
   "cell_type": "markdown",
   "metadata": {},
   "source": [
    "Pickling a model to build a streamlit app."
   ]
  },
  {
   "cell_type": "code",
   "execution_count": 559,
   "metadata": {},
   "outputs": [],
   "source": [
    "with open('../models/rf_model.pkl', 'wb') as f:\n",
    "    pickle.dump(rf_grid, f)"
   ]
  }
 ],
 "metadata": {
  "kernelspec": {
   "display_name": "Python 3.9.13 ('tensorflow')",
   "language": "python",
   "name": "python3"
  },
  "language_info": {
   "codemirror_mode": {
    "name": "ipython",
    "version": 3
   },
   "file_extension": ".py",
   "mimetype": "text/x-python",
   "name": "python",
   "nbconvert_exporter": "python",
   "pygments_lexer": "ipython3",
   "version": "3.9.13"
  },
  "vscode": {
   "interpreter": {
    "hash": "4bd624a0593993fe43ac4046b27b898fb2ef75c21c08f81e89e64ea0f51df676"
   }
  }
 },
 "nbformat": 4,
 "nbformat_minor": 2
}
