{
 "cells": [
  {
   "cell_type": "markdown",
   "metadata": {},
   "source": [
    "# Capstone Project: Airbnb Prediciting Prices \n",
    "____"
   ]
  },
  {
   "cell_type": "code",
   "execution_count": 368,
   "metadata": {},
   "outputs": [],
   "source": [
    "# Importing libraries\n",
    "import pandas as pd\n",
    "import numpy as np\n",
    "import matplotlib.pyplot as plt\n",
    "\n",
    "from sklearn.model_selection import train_test_split, cross_val_score, GridSearchCV\n",
    "from sklearn.preprocessing import StandardScaler\n",
    "from sklearn.linear_model import RidgeCV, Ridge\n",
    "from sklearn.linear_model import Lasso, LassoCV\n",
    "from sklearn.linear_model import LinearRegression\n",
    "from sklearn.linear_model import ElasticNet\n",
    "from sklearn.linear_model import ElasticNetCV\n",
    "\n",
    "from sklearn import metrics\n",
    "from sklearn.metrics import r2_score\n",
    "\n",
    "from sklearn.neighbors import KNeighborsRegressor\n",
    "from sklearn.tree import DecisionTreeRegressor\n",
    "from sklearn.ensemble import RandomForestRegressor, ExtraTreesRegressor\n",
    "\n",
    "from tensorflow.keras.models import Sequential, Model\n",
    "from tensorflow.keras.wrappers.scikit_learn import KerasRegressor\n",
    "from tensorflow.keras.layers import Dense, Dropout, Input\n",
    "\n",
    "from sklearn.model_selection import cross_val_predict, cross_val_score\n",
    "\n",
    "import pickle"
   ]
  },
  {
   "cell_type": "code",
   "execution_count": 369,
   "metadata": {},
   "outputs": [],
   "source": [
    "# Reading dataset\n",
    "listing = pd.read_csv('../data/listings_model.csv')"
   ]
  },
  {
   "cell_type": "code",
   "execution_count": 370,
   "metadata": {},
   "outputs": [
    {
     "data": {
      "text/plain": [
       "Index(['host_is_superhost', 'host_verifications', 'host_has_profile_pic',\n",
       "       'host_identity_verified', 'neighbourhood_cleansed',\n",
       "       'neighbourhood_group_cleansed', 'latitude', 'longitude', 'room_type',\n",
       "       'accommodates', 'bedrooms', 'beds', 'price', 'minimum_nights',\n",
       "       'maximum_nights', 'number_of_reviews', 'review_scores_rating',\n",
       "       'instant_bookable', 'bathrooms_type', 'bathrooms_nbr',\n",
       "       'neigh_price_sqft', 'description_count', 'description_words',\n",
       "       'amenities_count'],\n",
       "      dtype='object')"
      ]
     },
     "execution_count": 370,
     "metadata": {},
     "output_type": "execute_result"
    }
   ],
   "source": [
    "listing.columns"
   ]
  },
  {
   "cell_type": "markdown",
   "metadata": {},
   "source": [
    "# 3. Pre-Processing Data \n",
    "____"
   ]
  },
  {
   "cell_type": "markdown",
   "metadata": {},
   "source": [
    "Check Distribution Data \n",
    "Check Outliers\n",
    "Visualizations:\n",
    "    - Barcharts by accomodation type\n",
    "    - Scatter plot price acomodation (type accomodation legend) (?)\n",
    "    - Map location lat/log (Folium) (?)\n",
    "    - Time/price (?)     \n"
   ]
  },
  {
   "cell_type": "code",
   "execution_count": 371,
   "metadata": {
    "collapsed": true
   },
   "outputs": [
    {
     "data": {
      "text/plain": [
       "(22183, 24)"
      ]
     },
     "execution_count": 371,
     "metadata": {},
     "output_type": "execute_result"
    }
   ],
   "source": [
    "listing.shape"
   ]
  },
  {
   "cell_type": "code",
   "execution_count": 372,
   "metadata": {},
   "outputs": [
    {
     "data": {
      "text/plain": [
       "Entire home/apt    11942\n",
       "Private room        9843\n",
       "Shared room          336\n",
       "Hotel room            62\n",
       "Name: room_type, dtype: int64"
      ]
     },
     "execution_count": 372,
     "metadata": {},
     "output_type": "execute_result"
    }
   ],
   "source": [
    "listing['room_type'].value_counts()"
   ]
  },
  {
   "cell_type": "code",
   "execution_count": 373,
   "metadata": {},
   "outputs": [
    {
     "data": {
      "text/plain": [
       "host_is_superhost                                                               0\n",
       "host_verifications                                             ['email', 'phone']\n",
       "host_has_profile_pic                                                            1\n",
       "host_identity_verified                                                          1\n",
       "neighbourhood_cleansed                                                 kensington\n",
       "neighbourhood_group_cleansed                                             Brooklyn\n",
       "latitude                                                                 40.64529\n",
       "longitude                                                               -73.97238\n",
       "room_type                                                            Private room\n",
       "accommodates                                                                    2\n",
       "bedrooms                                                                      1.0\n",
       "beds                                                                          1.0\n",
       "price                                                                       299.0\n",
       "minimum_nights                                                                 30\n",
       "maximum_nights                                                                730\n",
       "number_of_reviews                                                               9\n",
       "review_scores_rating                                                         4.89\n",
       "instant_bookable                                                                0\n",
       "bathrooms_type                                                             shared\n",
       "bathrooms_nbr                                                                 1.0\n",
       "neigh_price_sqft                                                             2.77\n",
       "description_count                                                             165\n",
       "description_words               ['Renovated', 'apt', 'home', 'in', 'elevator',...\n",
       "amenities_count                                                               557\n",
       "Name: 0, dtype: object"
      ]
     },
     "execution_count": 373,
     "metadata": {},
     "output_type": "execute_result"
    }
   ],
   "source": [
    "listing[listing['room_type']=='Private room'].loc[0]"
   ]
  },
  {
   "cell_type": "code",
   "execution_count": 374,
   "metadata": {},
   "outputs": [
    {
     "data": {
      "text/plain": [
       "(22183, 24)"
      ]
     },
     "execution_count": 374,
     "metadata": {},
     "output_type": "execute_result"
    }
   ],
   "source": [
    "listing.shape"
   ]
  },
  {
   "cell_type": "code",
   "execution_count": 375,
   "metadata": {},
   "outputs": [],
   "source": [
    "#listing = listing[listing['room_type']=='Entire home/apt']\n",
    "#listing = listing[listing['room_type']=='Private room']\n",
    "#listing.drop(columns='room_type', inplace=True)\n",
    "#listing.shape"
   ]
  },
  {
   "cell_type": "code",
   "execution_count": 376,
   "metadata": {
    "collapsed": true
   },
   "outputs": [],
   "source": [
    "df  = listing.copy()\n",
    "# Running model only on Private room\n",
    "#df = listing[listing['room_type']=='Private room']"
   ]
  },
  {
   "cell_type": "code",
   "execution_count": 377,
   "metadata": {
    "collapsed": true
   },
   "outputs": [
    {
     "data": {
      "text/plain": [
       "Index(['host_is_superhost', 'host_verifications', 'host_has_profile_pic',\n",
       "       'host_identity_verified', 'neighbourhood_cleansed',\n",
       "       'neighbourhood_group_cleansed', 'latitude', 'longitude', 'room_type',\n",
       "       'accommodates', 'bedrooms', 'beds', 'price', 'minimum_nights',\n",
       "       'maximum_nights', 'number_of_reviews', 'review_scores_rating',\n",
       "       'instant_bookable', 'bathrooms_type', 'bathrooms_nbr',\n",
       "       'neigh_price_sqft', 'description_count', 'description_words',\n",
       "       'amenities_count'],\n",
       "      dtype='object')"
      ]
     },
     "execution_count": 377,
     "metadata": {},
     "output_type": "execute_result"
    }
   ],
   "source": [
    "df.columns"
   ]
  },
  {
   "cell_type": "code",
   "execution_count": 378,
   "metadata": {},
   "outputs": [],
   "source": [
    "df.drop( columns=['host_verifications', 'neighbourhood_group_cleansed',\n",
    "                'longitude', 'description_words', 'description_count','number_of_reviews'], #'latitude','\n",
    "         inplace=True)"
   ]
  },
  {
   "cell_type": "code",
   "execution_count": 379,
   "metadata": {},
   "outputs": [
    {
     "data": {
      "text/plain": [
       "Index(['host_is_superhost', 'host_has_profile_pic', 'host_identity_verified',\n",
       "       'neighbourhood_cleansed', 'latitude', 'room_type', 'accommodates',\n",
       "       'bedrooms', 'beds', 'price', 'minimum_nights', 'maximum_nights',\n",
       "       'review_scores_rating', 'instant_bookable', 'bathrooms_type',\n",
       "       'bathrooms_nbr', 'neigh_price_sqft', 'amenities_count'],\n",
       "      dtype='object')"
      ]
     },
     "execution_count": 379,
     "metadata": {},
     "output_type": "execute_result"
    }
   ],
   "source": [
    "df.columns"
   ]
  },
  {
   "cell_type": "code",
   "execution_count": 380,
   "metadata": {},
   "outputs": [
    {
     "data": {
      "text/html": [
       "<div>\n",
       "<style scoped>\n",
       "    .dataframe tbody tr th:only-of-type {\n",
       "        vertical-align: middle;\n",
       "    }\n",
       "\n",
       "    .dataframe tbody tr th {\n",
       "        vertical-align: top;\n",
       "    }\n",
       "\n",
       "    .dataframe thead th {\n",
       "        text-align: right;\n",
       "    }\n",
       "</style>\n",
       "<table border=\"1\" class=\"dataframe\">\n",
       "  <thead>\n",
       "    <tr style=\"text-align: right;\">\n",
       "      <th></th>\n",
       "      <th>host_is_superhost</th>\n",
       "      <th>host_has_profile_pic</th>\n",
       "      <th>host_identity_verified</th>\n",
       "      <th>neighbourhood_cleansed</th>\n",
       "      <th>latitude</th>\n",
       "      <th>room_type</th>\n",
       "      <th>accommodates</th>\n",
       "      <th>bedrooms</th>\n",
       "      <th>beds</th>\n",
       "      <th>price</th>\n",
       "      <th>minimum_nights</th>\n",
       "      <th>maximum_nights</th>\n",
       "      <th>review_scores_rating</th>\n",
       "      <th>instant_bookable</th>\n",
       "      <th>bathrooms_type</th>\n",
       "      <th>bathrooms_nbr</th>\n",
       "      <th>neigh_price_sqft</th>\n",
       "      <th>amenities_count</th>\n",
       "    </tr>\n",
       "  </thead>\n",
       "  <tbody>\n",
       "    <tr>\n",
       "      <th>0</th>\n",
       "      <td>0</td>\n",
       "      <td>1</td>\n",
       "      <td>1</td>\n",
       "      <td>kensington</td>\n",
       "      <td>40.64529</td>\n",
       "      <td>Private room</td>\n",
       "      <td>2</td>\n",
       "      <td>1.0</td>\n",
       "      <td>1.0</td>\n",
       "      <td>299.0</td>\n",
       "      <td>30</td>\n",
       "      <td>730</td>\n",
       "      <td>4.89</td>\n",
       "      <td>0</td>\n",
       "      <td>shared</td>\n",
       "      <td>1.0</td>\n",
       "      <td>2.77</td>\n",
       "      <td>557</td>\n",
       "    </tr>\n",
       "    <tr>\n",
       "      <th>1</th>\n",
       "      <td>1</td>\n",
       "      <td>1</td>\n",
       "      <td>1</td>\n",
       "      <td>bedford-stuyvesant</td>\n",
       "      <td>40.68535</td>\n",
       "      <td>Private room</td>\n",
       "      <td>2</td>\n",
       "      <td>1.0</td>\n",
       "      <td>1.0</td>\n",
       "      <td>60.0</td>\n",
       "      <td>30</td>\n",
       "      <td>730</td>\n",
       "      <td>4.52</td>\n",
       "      <td>0</td>\n",
       "      <td>private</td>\n",
       "      <td>0.0</td>\n",
       "      <td>2.83</td>\n",
       "      <td>77</td>\n",
       "    </tr>\n",
       "    <tr>\n",
       "      <th>2</th>\n",
       "      <td>0</td>\n",
       "      <td>1</td>\n",
       "      <td>1</td>\n",
       "      <td>sunset park</td>\n",
       "      <td>40.66265</td>\n",
       "      <td>Entire home/apt</td>\n",
       "      <td>4</td>\n",
       "      <td>2.0</td>\n",
       "      <td>2.0</td>\n",
       "      <td>275.0</td>\n",
       "      <td>21</td>\n",
       "      <td>1125</td>\n",
       "      <td>5.00</td>\n",
       "      <td>0</td>\n",
       "      <td>private</td>\n",
       "      <td>1.5</td>\n",
       "      <td>2.31</td>\n",
       "      <td>386</td>\n",
       "    </tr>\n",
       "    <tr>\n",
       "      <th>3</th>\n",
       "      <td>1</td>\n",
       "      <td>1</td>\n",
       "      <td>1</td>\n",
       "      <td>greenpoint</td>\n",
       "      <td>40.73777</td>\n",
       "      <td>Hotel room</td>\n",
       "      <td>2</td>\n",
       "      <td>1.0</td>\n",
       "      <td>1.0</td>\n",
       "      <td>308.0</td>\n",
       "      <td>2</td>\n",
       "      <td>365</td>\n",
       "      <td>4.90</td>\n",
       "      <td>0</td>\n",
       "      <td>private</td>\n",
       "      <td>1.0</td>\n",
       "      <td>3.83</td>\n",
       "      <td>432</td>\n",
       "    </tr>\n",
       "    <tr>\n",
       "      <th>4</th>\n",
       "      <td>0</td>\n",
       "      <td>1</td>\n",
       "      <td>1</td>\n",
       "      <td>east village</td>\n",
       "      <td>40.72322</td>\n",
       "      <td>Private room</td>\n",
       "      <td>2</td>\n",
       "      <td>1.0</td>\n",
       "      <td>2.0</td>\n",
       "      <td>55.0</td>\n",
       "      <td>2</td>\n",
       "      <td>60</td>\n",
       "      <td>4.34</td>\n",
       "      <td>0</td>\n",
       "      <td>shared</td>\n",
       "      <td>1.5</td>\n",
       "      <td>5.71</td>\n",
       "      <td>266</td>\n",
       "    </tr>\n",
       "  </tbody>\n",
       "</table>\n",
       "</div>"
      ],
      "text/plain": [
       "   host_is_superhost  host_has_profile_pic  host_identity_verified  \\\n",
       "0                  0                     1                       1   \n",
       "1                  1                     1                       1   \n",
       "2                  0                     1                       1   \n",
       "3                  1                     1                       1   \n",
       "4                  0                     1                       1   \n",
       "\n",
       "  neighbourhood_cleansed  latitude        room_type  accommodates  bedrooms  \\\n",
       "0             kensington  40.64529     Private room             2       1.0   \n",
       "1     bedford-stuyvesant  40.68535     Private room             2       1.0   \n",
       "2            sunset park  40.66265  Entire home/apt             4       2.0   \n",
       "3             greenpoint  40.73777       Hotel room             2       1.0   \n",
       "4           east village  40.72322     Private room             2       1.0   \n",
       "\n",
       "   beds  price  minimum_nights  maximum_nights  review_scores_rating  \\\n",
       "0   1.0  299.0              30             730                  4.89   \n",
       "1   1.0   60.0              30             730                  4.52   \n",
       "2   2.0  275.0              21            1125                  5.00   \n",
       "3   1.0  308.0               2             365                  4.90   \n",
       "4   2.0   55.0               2              60                  4.34   \n",
       "\n",
       "   instant_bookable bathrooms_type  bathrooms_nbr  neigh_price_sqft  \\\n",
       "0                 0         shared            1.0              2.77   \n",
       "1                 0        private            0.0              2.83   \n",
       "2                 0        private            1.5              2.31   \n",
       "3                 0        private            1.0              3.83   \n",
       "4                 0         shared            1.5              5.71   \n",
       "\n",
       "   amenities_count  \n",
       "0              557  \n",
       "1               77  \n",
       "2              386  \n",
       "3              432  \n",
       "4              266  "
      ]
     },
     "execution_count": 380,
     "metadata": {},
     "output_type": "execute_result"
    }
   ],
   "source": [
    "df.head()"
   ]
  },
  {
   "cell_type": "code",
   "execution_count": 381,
   "metadata": {},
   "outputs": [
    {
     "name": "stdout",
     "output_type": "stream",
     "text": [
      "<class 'pandas.core.frame.DataFrame'>\n",
      "RangeIndex: 22183 entries, 0 to 22182\n",
      "Data columns (total 18 columns):\n",
      " #   Column                  Non-Null Count  Dtype  \n",
      "---  ------                  --------------  -----  \n",
      " 0   host_is_superhost       22183 non-null  int64  \n",
      " 1   host_has_profile_pic    22183 non-null  int64  \n",
      " 2   host_identity_verified  22183 non-null  int64  \n",
      " 3   neighbourhood_cleansed  22183 non-null  object \n",
      " 4   latitude                22183 non-null  float64\n",
      " 5   room_type               22183 non-null  object \n",
      " 6   accommodates            22183 non-null  int64  \n",
      " 7   bedrooms                22183 non-null  float64\n",
      " 8   beds                    22183 non-null  float64\n",
      " 9   price                   22183 non-null  float64\n",
      " 10  minimum_nights          22183 non-null  int64  \n",
      " 11  maximum_nights          22183 non-null  int64  \n",
      " 12  review_scores_rating    22183 non-null  float64\n",
      " 13  instant_bookable        22183 non-null  int64  \n",
      " 14  bathrooms_type          22183 non-null  object \n",
      " 15  bathrooms_nbr           22183 non-null  float64\n",
      " 16  neigh_price_sqft        22183 non-null  float64\n",
      " 17  amenities_count         22183 non-null  int64  \n",
      "dtypes: float64(7), int64(8), object(3)\n",
      "memory usage: 3.0+ MB\n"
     ]
    }
   ],
   "source": [
    "df.info()"
   ]
  },
  {
   "cell_type": "markdown",
   "metadata": {},
   "source": [
    "## 3.1. Dummifying"
   ]
  },
  {
   "cell_type": "code",
   "execution_count": 382,
   "metadata": {},
   "outputs": [
    {
     "data": {
      "text/plain": [
       "Index(['host_is_superhost', 'host_has_profile_pic', 'host_identity_verified',\n",
       "       'neighbourhood_cleansed', 'latitude', 'room_type', 'accommodates',\n",
       "       'bedrooms', 'beds', 'price', 'minimum_nights', 'maximum_nights',\n",
       "       'review_scores_rating', 'instant_bookable', 'bathrooms_type',\n",
       "       'bathrooms_nbr', 'neigh_price_sqft', 'amenities_count'],\n",
       "      dtype='object')"
      ]
     },
     "execution_count": 382,
     "metadata": {},
     "output_type": "execute_result"
    }
   ],
   "source": [
    "df.columns"
   ]
  },
  {
   "cell_type": "code",
   "execution_count": 383,
   "metadata": {},
   "outputs": [],
   "source": [
    "# Setting category columns to Dummify\n",
    "col_dummies = ['neighbourhood_cleansed', 'bathrooms_type','room_type' ] #'neighbourhood_group_cleansed','room_type'"
   ]
  },
  {
   "cell_type": "code",
   "execution_count": 384,
   "metadata": {},
   "outputs": [
    {
     "data": {
      "text/plain": [
       "(22183, 18)"
      ]
     },
     "execution_count": 384,
     "metadata": {},
     "output_type": "execute_result"
    }
   ],
   "source": [
    "df.shape"
   ]
  },
  {
   "cell_type": "code",
   "execution_count": 385,
   "metadata": {},
   "outputs": [],
   "source": [
    "df = pd.get_dummies(df, prefix_sep=\"__\", columns = col_dummies, drop_first = True);"
   ]
  },
  {
   "cell_type": "code",
   "execution_count": 386,
   "metadata": {},
   "outputs": [
    {
     "data": {
      "text/plain": [
       "(22183, 172)"
      ]
     },
     "execution_count": 386,
     "metadata": {},
     "output_type": "execute_result"
    }
   ],
   "source": [
    "df.shape"
   ]
  },
  {
   "cell_type": "code",
   "execution_count": 387,
   "metadata": {},
   "outputs": [],
   "source": [
    "#df.to_csv('../data/listing_preprocess.csv', index=False)"
   ]
  },
  {
   "cell_type": "markdown",
   "metadata": {},
   "source": [
    "## 3.2. Creating X and y "
   ]
  },
  {
   "cell_type": "code",
   "execution_count": 388,
   "metadata": {},
   "outputs": [
    {
     "name": "stdout",
     "output_type": "stream",
     "text": [
      "(22183, 171)\n",
      "(22183,)\n"
     ]
    }
   ],
   "source": [
    "X = df.drop(columns='price')\n",
    "y = np.log(df['price'])\n",
    "print(X.shape)\n",
    "print(y.shape)"
   ]
  },
  {
   "cell_type": "code",
   "execution_count": 389,
   "metadata": {},
   "outputs": [],
   "source": [
    "X_train, X_test, y_train, y_test = train_test_split(\n",
    "        X,  \n",
    "        y,\n",
    "        test_size = 0.3,     \n",
    "        random_state = 42\n",
    " )"
   ]
  },
  {
   "cell_type": "code",
   "execution_count": 390,
   "metadata": {},
   "outputs": [
    {
     "data": {
      "text/plain": [
       "((15528, 171), (6655, 171), (15528,), (6655,))"
      ]
     },
     "execution_count": 390,
     "metadata": {},
     "output_type": "execute_result"
    }
   ],
   "source": [
    "X_train.shape, X_test.shape, y_train.shape, y_test.shape"
   ]
  },
  {
   "cell_type": "markdown",
   "metadata": {},
   "source": [
    "## 3.3. Scaling Data"
   ]
  },
  {
   "cell_type": "code",
   "execution_count": 391,
   "metadata": {},
   "outputs": [],
   "source": [
    "sc = StandardScaler()\n",
    "X_train_sc = sc.fit_transform(X_train)\n",
    "X_test_sc = sc.transform(X_test)"
   ]
  },
  {
   "cell_type": "markdown",
   "metadata": {},
   "source": [
    "# 4. Machine Learning Models\n",
    "____"
   ]
  },
  {
   "cell_type": "markdown",
   "metadata": {},
   "source": [
    "## 4.1. Baseline Model"
   ]
  },
  {
   "cell_type": "code",
   "execution_count": 392,
   "metadata": {},
   "outputs": [
    {
     "data": {
      "text/plain": [
       "-0.00019758509399592228"
      ]
     },
     "execution_count": 392,
     "metadata": {},
     "output_type": "execute_result"
    }
   ],
   "source": [
    "#Setting a Baseline and getting its Score\n",
    "baseline_model = [y_train.mean()] * len(y_test)\n",
    "r2_score(y_test, baseline_model)"
   ]
  },
  {
   "cell_type": "markdown",
   "metadata": {},
   "source": [
    "### Fitting Linear Regression Model\n",
    "___"
   ]
  },
  {
   "cell_type": "code",
   "execution_count": 393,
   "metadata": {},
   "outputs": [
    {
     "data": {
      "text/html": [
       "<style>#sk-container-id-18 {color: black;background-color: white;}#sk-container-id-18 pre{padding: 0;}#sk-container-id-18 div.sk-toggleable {background-color: white;}#sk-container-id-18 label.sk-toggleable__label {cursor: pointer;display: block;width: 100%;margin-bottom: 0;padding: 0.3em;box-sizing: border-box;text-align: center;}#sk-container-id-18 label.sk-toggleable__label-arrow:before {content: \"▸\";float: left;margin-right: 0.25em;color: #696969;}#sk-container-id-18 label.sk-toggleable__label-arrow:hover:before {color: black;}#sk-container-id-18 div.sk-estimator:hover label.sk-toggleable__label-arrow:before {color: black;}#sk-container-id-18 div.sk-toggleable__content {max-height: 0;max-width: 0;overflow: hidden;text-align: left;background-color: #f0f8ff;}#sk-container-id-18 div.sk-toggleable__content pre {margin: 0.2em;color: black;border-radius: 0.25em;background-color: #f0f8ff;}#sk-container-id-18 input.sk-toggleable__control:checked~div.sk-toggleable__content {max-height: 200px;max-width: 100%;overflow: auto;}#sk-container-id-18 input.sk-toggleable__control:checked~label.sk-toggleable__label-arrow:before {content: \"▾\";}#sk-container-id-18 div.sk-estimator input.sk-toggleable__control:checked~label.sk-toggleable__label {background-color: #d4ebff;}#sk-container-id-18 div.sk-label input.sk-toggleable__control:checked~label.sk-toggleable__label {background-color: #d4ebff;}#sk-container-id-18 input.sk-hidden--visually {border: 0;clip: rect(1px 1px 1px 1px);clip: rect(1px, 1px, 1px, 1px);height: 1px;margin: -1px;overflow: hidden;padding: 0;position: absolute;width: 1px;}#sk-container-id-18 div.sk-estimator {font-family: monospace;background-color: #f0f8ff;border: 1px dotted black;border-radius: 0.25em;box-sizing: border-box;margin-bottom: 0.5em;}#sk-container-id-18 div.sk-estimator:hover {background-color: #d4ebff;}#sk-container-id-18 div.sk-parallel-item::after {content: \"\";width: 100%;border-bottom: 1px solid gray;flex-grow: 1;}#sk-container-id-18 div.sk-label:hover label.sk-toggleable__label {background-color: #d4ebff;}#sk-container-id-18 div.sk-serial::before {content: \"\";position: absolute;border-left: 1px solid gray;box-sizing: border-box;top: 0;bottom: 0;left: 50%;z-index: 0;}#sk-container-id-18 div.sk-serial {display: flex;flex-direction: column;align-items: center;background-color: white;padding-right: 0.2em;padding-left: 0.2em;position: relative;}#sk-container-id-18 div.sk-item {position: relative;z-index: 1;}#sk-container-id-18 div.sk-parallel {display: flex;align-items: stretch;justify-content: center;background-color: white;position: relative;}#sk-container-id-18 div.sk-item::before, #sk-container-id-18 div.sk-parallel-item::before {content: \"\";position: absolute;border-left: 1px solid gray;box-sizing: border-box;top: 0;bottom: 0;left: 50%;z-index: -1;}#sk-container-id-18 div.sk-parallel-item {display: flex;flex-direction: column;z-index: 1;position: relative;background-color: white;}#sk-container-id-18 div.sk-parallel-item:first-child::after {align-self: flex-end;width: 50%;}#sk-container-id-18 div.sk-parallel-item:last-child::after {align-self: flex-start;width: 50%;}#sk-container-id-18 div.sk-parallel-item:only-child::after {width: 0;}#sk-container-id-18 div.sk-dashed-wrapped {border: 1px dashed gray;margin: 0 0.4em 0.5em 0.4em;box-sizing: border-box;padding-bottom: 0.4em;background-color: white;}#sk-container-id-18 div.sk-label label {font-family: monospace;font-weight: bold;display: inline-block;line-height: 1.2em;}#sk-container-id-18 div.sk-label-container {text-align: center;}#sk-container-id-18 div.sk-container {/* jupyter's `normalize.less` sets `[hidden] { display: none; }` but bootstrap.min.css set `[hidden] { display: none !important; }` so we also need the `!important` here to be able to override the default hidden behavior on the sphinx rendered scikit-learn.org. See: https://github.com/scikit-learn/scikit-learn/issues/21755 */display: inline-block !important;position: relative;}#sk-container-id-18 div.sk-text-repr-fallback {display: none;}</style><div id=\"sk-container-id-18\" class=\"sk-top-container\"><div class=\"sk-text-repr-fallback\"><pre>LinearRegression()</pre><b>In a Jupyter environment, please rerun this cell to show the HTML representation or trust the notebook. <br />On GitHub, the HTML representation is unable to render, please try loading this page with nbviewer.org.</b></div><div class=\"sk-container\" hidden><div class=\"sk-item\"><div class=\"sk-estimator sk-toggleable\"><input class=\"sk-toggleable__control sk-hidden--visually\" id=\"sk-estimator-id-22\" type=\"checkbox\" checked><label for=\"sk-estimator-id-22\" class=\"sk-toggleable__label sk-toggleable__label-arrow\">LinearRegression</label><div class=\"sk-toggleable__content\"><pre>LinearRegression()</pre></div></div></div></div></div>"
      ],
      "text/plain": [
       "LinearRegression()"
      ]
     },
     "execution_count": 393,
     "metadata": {},
     "output_type": "execute_result"
    }
   ],
   "source": [
    "#Fitting Model\n",
    "lr = LinearRegression()\n",
    "lr.fit(X_train_sc, y_train)"
   ]
  },
  {
   "cell_type": "code",
   "execution_count": 394,
   "metadata": {},
   "outputs": [
    {
     "data": {
      "text/plain": [
       "-2.52333141395823e+26"
      ]
     },
     "execution_count": 394,
     "metadata": {},
     "output_type": "execute_result"
    }
   ],
   "source": [
    "#Cross Vaditadion Score\n",
    "cross_val_score(lr, X_train_sc, y_train, cv=5).mean()\n",
    "# -3.3924557963554062e+25"
   ]
  },
  {
   "cell_type": "code",
   "execution_count": 395,
   "metadata": {
    "collapsed": true
   },
   "outputs": [
    {
     "name": "stdout",
     "output_type": "stream",
     "text": [
      "MAE: 130.905234268579\n",
      "MSE: 21963.881985130003\n",
      "RMSE: 148.20216592590677\n",
      "R2: -57334.21982352079\n"
     ]
    }
   ],
   "source": [
    "# Calcuate residual\n",
    "lr_y_preds = np.exp(lr.predict(X_train_sc))\n",
    "residuals = y_train - lr_y_preds\n",
    "\n",
    "# Metrics\n",
    "print(f'MAE: {metrics.mean_absolute_error(y_train, lr_y_preds)}')\n",
    "print(f'MSE: {metrics.mean_squared_error(y_train, lr_y_preds)}')\n",
    "print(f'RMSE: {metrics.mean_squared_error(y_train, lr_y_preds, squared = False)}')\n",
    "print(f'R2: {metrics.r2_score(y_train, lr_y_preds)}')\n",
    "#MAE: 129.81014920371308\n",
    "#MSE: 21210.975157781893\n",
    "#RMSE: 145.63988175558882\n",
    "#R2: -55534.009329901186"
   ]
  },
  {
   "cell_type": "code",
   "execution_count": 396,
   "metadata": {
    "collapsed": true
   },
   "outputs": [
    {
     "name": "stdout",
     "output_type": "stream",
     "text": [
      "Train set: 0.6321983618367985\n",
      "Test set: -1.3768383703972706e+21\n",
      "Diference (train/test): 1.3768383703972706e+21\n"
     ]
    }
   ],
   "source": [
    "#Comparing scores\n",
    "print(f'Train set: {lr.score(X_train_sc, y_train)}')\n",
    "print(f'Test set: {lr.score(X_test_sc, y_test)}')\n",
    "print(f'Diference (train/test): {lr.score(X_train_sc, y_train)-lr.score(X_test_sc, y_test)}')\n",
    "\n",
    "#Train set: 0.6306346195368164\n",
    "#Test set: -3.790486871672232e+20\n",
    "#Diference (train/test): 3.790486871672232e+20\n"
   ]
  },
  {
   "cell_type": "code",
   "execution_count": 397,
   "metadata": {},
   "outputs": [],
   "source": [
    "# Creating a list of coeficients\n",
    "list_coef = list(zip( lr.coef_, X.columns))"
   ]
  },
  {
   "cell_type": "code",
   "execution_count": 398,
   "metadata": {},
   "outputs": [
    {
     "data": {
      "text/html": [
       "<div>\n",
       "<style scoped>\n",
       "    .dataframe tbody tr th:only-of-type {\n",
       "        vertical-align: middle;\n",
       "    }\n",
       "\n",
       "    .dataframe tbody tr th {\n",
       "        vertical-align: top;\n",
       "    }\n",
       "\n",
       "    .dataframe thead th {\n",
       "        text-align: right;\n",
       "    }\n",
       "</style>\n",
       "<table border=\"1\" class=\"dataframe\">\n",
       "  <thead>\n",
       "    <tr style=\"text-align: right;\">\n",
       "      <th></th>\n",
       "      <th>Coefficient</th>\n",
       "    </tr>\n",
       "  </thead>\n",
       "  <tbody>\n",
       "    <tr>\n",
       "      <th>host_is_superhost</th>\n",
       "      <td>2.821642e-02</td>\n",
       "    </tr>\n",
       "    <tr>\n",
       "      <th>host_has_profile_pic</th>\n",
       "      <td>-1.099332e-02</td>\n",
       "    </tr>\n",
       "    <tr>\n",
       "      <th>host_identity_verified</th>\n",
       "      <td>3.405109e-03</td>\n",
       "    </tr>\n",
       "    <tr>\n",
       "      <th>latitude</th>\n",
       "      <td>1.030908e-02</td>\n",
       "    </tr>\n",
       "    <tr>\n",
       "      <th>accommodates</th>\n",
       "      <td>1.361529e-01</td>\n",
       "    </tr>\n",
       "    <tr>\n",
       "      <th>...</th>\n",
       "      <td>...</td>\n",
       "    </tr>\n",
       "    <tr>\n",
       "      <th>neighbourhood_cleansed__woodside</th>\n",
       "      <td>-7.708692e+09</td>\n",
       "    </tr>\n",
       "    <tr>\n",
       "      <th>bathrooms_type__shared</th>\n",
       "      <td>-8.919144e-02</td>\n",
       "    </tr>\n",
       "    <tr>\n",
       "      <th>room_type__Hotel room</th>\n",
       "      <td>1.879692e-02</td>\n",
       "    </tr>\n",
       "    <tr>\n",
       "      <th>room_type__Private room</th>\n",
       "      <td>-1.796527e-01</td>\n",
       "    </tr>\n",
       "    <tr>\n",
       "      <th>room_type__Shared room</th>\n",
       "      <td>-6.351447e-02</td>\n",
       "    </tr>\n",
       "  </tbody>\n",
       "</table>\n",
       "<p>171 rows × 1 columns</p>\n",
       "</div>"
      ],
      "text/plain": [
       "                                   Coefficient\n",
       "host_is_superhost                 2.821642e-02\n",
       "host_has_profile_pic             -1.099332e-02\n",
       "host_identity_verified            3.405109e-03\n",
       "latitude                          1.030908e-02\n",
       "accommodates                      1.361529e-01\n",
       "...                                        ...\n",
       "neighbourhood_cleansed__woodside -7.708692e+09\n",
       "bathrooms_type__shared           -8.919144e-02\n",
       "room_type__Hotel room             1.879692e-02\n",
       "room_type__Private room          -1.796527e-01\n",
       "room_type__Shared room           -6.351447e-02\n",
       "\n",
       "[171 rows x 1 columns]"
      ]
     },
     "execution_count": 398,
     "metadata": {},
     "output_type": "execute_result"
    }
   ],
   "source": [
    "# Turn it into a data frame\n",
    "pd.DataFrame(lr.coef_, index = X.columns, columns = ['Coefficient'])"
   ]
  },
  {
   "cell_type": "markdown",
   "metadata": {},
   "source": [
    "### Residuals\n",
    "___"
   ]
  },
  {
   "cell_type": "code",
   "execution_count": 399,
   "metadata": {},
   "outputs": [
    {
     "data": {
      "image/png": "[encoded data removed]",
      "text/plain": [
       "<Figure size 1000x600 with 1 Axes>"
      ]
     },
     "metadata": {},
     "output_type": "display_data"
    }
   ],
   "source": [
    "# Normality assumption \n",
    "plt.figure(figsize = (10, 6))\n",
    "plt.hist(residuals, bins = 100);\n",
    "plt.tight_layout()"
   ]
  },
  {
   "cell_type": "code",
   "execution_count": 400,
   "metadata": {},
   "outputs": [
    {
     "data": {
      "image/png": "[encoded data removed]",
      "text/plain": [
       "<Figure size 1000x600 with 1 Axes>"
      ]
     },
     "metadata": {},
     "output_type": "display_data"
    }
   ],
   "source": [
    "# Normality assumption \n",
    "plt.figure(figsize = (10,6))\n",
    "plt.title(\"Scatter plot Residuals\")\n",
    "#Ploting Residuals - Scatter Plotf SLR Model \n",
    "plt.scatter(lr_y_preds, residuals,s=2);\n",
    "plt.axhline(residuals.mean(), color='grey');\n",
    "plt.tight_layout()"
   ]
  },
  {
   "cell_type": "markdown",
   "metadata": {},
   "source": [
    "## 4.2. Lasso Regularization"
   ]
  },
  {
   "cell_type": "code",
   "execution_count": 401,
   "metadata": {},
   "outputs": [
    {
     "data": {
      "text/html": [
       "<style>#sk-container-id-19 {color: black;background-color: white;}#sk-container-id-19 pre{padding: 0;}#sk-container-id-19 div.sk-toggleable {background-color: white;}#sk-container-id-19 label.sk-toggleable__label {cursor: pointer;display: block;width: 100%;margin-bottom: 0;padding: 0.3em;box-sizing: border-box;text-align: center;}#sk-container-id-19 label.sk-toggleable__label-arrow:before {content: \"▸\";float: left;margin-right: 0.25em;color: #696969;}#sk-container-id-19 label.sk-toggleable__label-arrow:hover:before {color: black;}#sk-container-id-19 div.sk-estimator:hover label.sk-toggleable__label-arrow:before {color: black;}#sk-container-id-19 div.sk-toggleable__content {max-height: 0;max-width: 0;overflow: hidden;text-align: left;background-color: #f0f8ff;}#sk-container-id-19 div.sk-toggleable__content pre {margin: 0.2em;color: black;border-radius: 0.25em;background-color: #f0f8ff;}#sk-container-id-19 input.sk-toggleable__control:checked~div.sk-toggleable__content {max-height: 200px;max-width: 100%;overflow: auto;}#sk-container-id-19 input.sk-toggleable__control:checked~label.sk-toggleable__label-arrow:before {content: \"▾\";}#sk-container-id-19 div.sk-estimator input.sk-toggleable__control:checked~label.sk-toggleable__label {background-color: #d4ebff;}#sk-container-id-19 div.sk-label input.sk-toggleable__control:checked~label.sk-toggleable__label {background-color: #d4ebff;}#sk-container-id-19 input.sk-hidden--visually {border: 0;clip: rect(1px 1px 1px 1px);clip: rect(1px, 1px, 1px, 1px);height: 1px;margin: -1px;overflow: hidden;padding: 0;position: absolute;width: 1px;}#sk-container-id-19 div.sk-estimator {font-family: monospace;background-color: #f0f8ff;border: 1px dotted black;border-radius: 0.25em;box-sizing: border-box;margin-bottom: 0.5em;}#sk-container-id-19 div.sk-estimator:hover {background-color: #d4ebff;}#sk-container-id-19 div.sk-parallel-item::after {content: \"\";width: 100%;border-bottom: 1px solid gray;flex-grow: 1;}#sk-container-id-19 div.sk-label:hover label.sk-toggleable__label {background-color: #d4ebff;}#sk-container-id-19 div.sk-serial::before {content: \"\";position: absolute;border-left: 1px solid gray;box-sizing: border-box;top: 0;bottom: 0;left: 50%;z-index: 0;}#sk-container-id-19 div.sk-serial {display: flex;flex-direction: column;align-items: center;background-color: white;padding-right: 0.2em;padding-left: 0.2em;position: relative;}#sk-container-id-19 div.sk-item {position: relative;z-index: 1;}#sk-container-id-19 div.sk-parallel {display: flex;align-items: stretch;justify-content: center;background-color: white;position: relative;}#sk-container-id-19 div.sk-item::before, #sk-container-id-19 div.sk-parallel-item::before {content: \"\";position: absolute;border-left: 1px solid gray;box-sizing: border-box;top: 0;bottom: 0;left: 50%;z-index: -1;}#sk-container-id-19 div.sk-parallel-item {display: flex;flex-direction: column;z-index: 1;position: relative;background-color: white;}#sk-container-id-19 div.sk-parallel-item:first-child::after {align-self: flex-end;width: 50%;}#sk-container-id-19 div.sk-parallel-item:last-child::after {align-self: flex-start;width: 50%;}#sk-container-id-19 div.sk-parallel-item:only-child::after {width: 0;}#sk-container-id-19 div.sk-dashed-wrapped {border: 1px dashed gray;margin: 0 0.4em 0.5em 0.4em;box-sizing: border-box;padding-bottom: 0.4em;background-color: white;}#sk-container-id-19 div.sk-label label {font-family: monospace;font-weight: bold;display: inline-block;line-height: 1.2em;}#sk-container-id-19 div.sk-label-container {text-align: center;}#sk-container-id-19 div.sk-container {/* jupyter's `normalize.less` sets `[hidden] { display: none; }` but bootstrap.min.css set `[hidden] { display: none !important; }` so we also need the `!important` here to be able to override the default hidden behavior on the sphinx rendered scikit-learn.org. See: https://github.com/scikit-learn/scikit-learn/issues/21755 */display: inline-block !important;position: relative;}#sk-container-id-19 div.sk-text-repr-fallback {display: none;}</style><div id=\"sk-container-id-19\" class=\"sk-top-container\"><div class=\"sk-text-repr-fallback\"><pre>LassoCV(alphas=array([0.001     , 0.00107227, 0.00114976, 0.00123285, 0.00132194,\n",
       "       0.00141747, 0.00151991, 0.00162975, 0.00174753, 0.00187382,\n",
       "       0.00200923, 0.00215443, 0.00231013, 0.00247708, 0.00265609,\n",
       "       0.00284804, 0.00305386, 0.00327455, 0.00351119, 0.00376494,\n",
       "       0.00403702, 0.00432876, 0.00464159, 0.00497702, 0.0053367 ,\n",
       "       0.00572237, 0.00613591, 0.00657933, 0.0070548 , 0.00756463,\n",
       "       0.008...\n",
       "       0.09326033, 0.1       , 0.10722672, 0.1149757 , 0.12328467,\n",
       "       0.13219411, 0.14174742, 0.15199111, 0.16297508, 0.17475284,\n",
       "       0.18738174, 0.2009233 , 0.21544347, 0.23101297, 0.24770764,\n",
       "       0.26560878, 0.28480359, 0.30538555, 0.32745492, 0.35111917,\n",
       "       0.37649358, 0.40370173, 0.43287613, 0.46415888, 0.49770236,\n",
       "       0.53366992, 0.57223677, 0.61359073, 0.65793322, 0.70548023,\n",
       "       0.75646333, 0.81113083, 0.869749  , 0.93260335, 1.        ]))</pre><b>In a Jupyter environment, please rerun this cell to show the HTML representation or trust the notebook. <br />On GitHub, the HTML representation is unable to render, please try loading this page with nbviewer.org.</b></div><div class=\"sk-container\" hidden><div class=\"sk-item\"><div class=\"sk-estimator sk-toggleable\"><input class=\"sk-toggleable__control sk-hidden--visually\" id=\"sk-estimator-id-23\" type=\"checkbox\" checked><label for=\"sk-estimator-id-23\" class=\"sk-toggleable__label sk-toggleable__label-arrow\">LassoCV</label><div class=\"sk-toggleable__content\"><pre>LassoCV(alphas=array([0.001     , 0.00107227, 0.00114976, 0.00123285, 0.00132194,\n",
       "       0.00141747, 0.00151991, 0.00162975, 0.00174753, 0.00187382,\n",
       "       0.00200923, 0.00215443, 0.00231013, 0.00247708, 0.00265609,\n",
       "       0.00284804, 0.00305386, 0.00327455, 0.00351119, 0.00376494,\n",
       "       0.00403702, 0.00432876, 0.00464159, 0.00497702, 0.0053367 ,\n",
       "       0.00572237, 0.00613591, 0.00657933, 0.0070548 , 0.00756463,\n",
       "       0.008...\n",
       "       0.09326033, 0.1       , 0.10722672, 0.1149757 , 0.12328467,\n",
       "       0.13219411, 0.14174742, 0.15199111, 0.16297508, 0.17475284,\n",
       "       0.18738174, 0.2009233 , 0.21544347, 0.23101297, 0.24770764,\n",
       "       0.26560878, 0.28480359, 0.30538555, 0.32745492, 0.35111917,\n",
       "       0.37649358, 0.40370173, 0.43287613, 0.46415888, 0.49770236,\n",
       "       0.53366992, 0.57223677, 0.61359073, 0.65793322, 0.70548023,\n",
       "       0.75646333, 0.81113083, 0.869749  , 0.93260335, 1.        ]))</pre></div></div></div></div></div>"
      ],
      "text/plain": [
       "LassoCV(alphas=array([0.001     , 0.00107227, 0.00114976, 0.00123285, 0.00132194,\n",
       "       0.00141747, 0.00151991, 0.00162975, 0.00174753, 0.00187382,\n",
       "       0.00200923, 0.00215443, 0.00231013, 0.00247708, 0.00265609,\n",
       "       0.00284804, 0.00305386, 0.00327455, 0.00351119, 0.00376494,\n",
       "       0.00403702, 0.00432876, 0.00464159, 0.00497702, 0.0053367 ,\n",
       "       0.00572237, 0.00613591, 0.00657933, 0.0070548 , 0.00756463,\n",
       "       0.008...\n",
       "       0.09326033, 0.1       , 0.10722672, 0.1149757 , 0.12328467,\n",
       "       0.13219411, 0.14174742, 0.15199111, 0.16297508, 0.17475284,\n",
       "       0.18738174, 0.2009233 , 0.21544347, 0.23101297, 0.24770764,\n",
       "       0.26560878, 0.28480359, 0.30538555, 0.32745492, 0.35111917,\n",
       "       0.37649358, 0.40370173, 0.43287613, 0.46415888, 0.49770236,\n",
       "       0.53366992, 0.57223677, 0.61359073, 0.65793322, 0.70548023,\n",
       "       0.75646333, 0.81113083, 0.869749  , 0.93260335, 1.        ]))"
      ]
     },
     "execution_count": 401,
     "metadata": {},
     "output_type": "execute_result"
    }
   ],
   "source": [
    "# Set up a list of Lasso alphas to check.\n",
    "l_alphas = np.logspace(-3, 0, 100)\n",
    "\n",
    "# Cross-validate over our list of Lasso alphas.\n",
    "lasso_cv = LassoCV(alphas=l_alphas)\n",
    "\n",
    "# Fit model using best ridge alpha!\n",
    "lasso_cv.fit(X_train_sc, y_train)"
   ]
  },
  {
   "cell_type": "code",
   "execution_count": 402,
   "metadata": {},
   "outputs": [
    {
     "name": "stdout",
     "output_type": "stream",
     "text": [
      "Best Value of alpha:  0.0016297508346206436\n",
      "Lasson Train Score:  0.6520600188114305\n",
      "Lasso Test Score 0.6362987358429693\n"
     ]
    }
   ],
   "source": [
    "# Here is the optimal value of alpha\n",
    "print(\"Best Value of alpha: \",lasso_cv.alpha_)\n",
    "\n",
    "# Scores on Train a\n",
    "print(\"Lasson Train Score: \", lasso_cv.score(X_train_sc, y_train))\n",
    "print(\"Lasso Test Score\", lasso_cv.score(X_test_sc, y_test))"
   ]
  },
  {
   "cell_type": "code",
   "execution_count": 403,
   "metadata": {},
   "outputs": [
    {
     "name": "stdout",
     "output_type": "stream",
     "text": [
      "MAE: 129.83101391938297\n",
      "MSE: 21281.535131747663\n",
      "RMSE: 145.88192188118327\n",
      "R2: -55552.99977958453\n"
     ]
    }
   ],
   "source": [
    "# Calcuate residual\n",
    "lasso_y_preds = np.exp(lasso_cv.predict(X_train_sc))\n",
    "residuals = y_train - lasso_y_preds\n",
    "\n",
    "# Metrics\n",
    "print(f'MAE: {metrics.mean_absolute_error(y_train, lasso_y_preds)}')\n",
    "print(f'MSE: {metrics.mean_squared_error(y_train, lasso_y_preds)}')\n",
    "print(f'RMSE: {metrics.mean_squared_error(y_train, lasso_y_preds, squared = False)}')\n",
    "print(f'R2: {metrics.r2_score(y_train, lasso_y_preds)}')"
   ]
  },
  {
   "cell_type": "markdown",
   "metadata": {},
   "source": [
    "## 4.3. Ridge Regularization"
   ]
  },
  {
   "cell_type": "code",
   "execution_count": 404,
   "metadata": {},
   "outputs": [
    {
     "name": "stdout",
     "output_type": "stream",
     "text": [
      "Training Score: 0.6530286770043647\n",
      "Testing Score: 0.6348298958183168\n"
     ]
    }
   ],
   "source": [
    "# Instantiate.\n",
    "ridge = Ridge(alpha = 100)\n",
    "\n",
    "# Fit.\n",
    "ridge.fit(X_train_sc, y_train)\n",
    "\n",
    "# Evaluate model using R2.\n",
    "print(f'Training Score: {ridge.score(X_train_sc, y_train)}')\n",
    "print(f'Testing Score: {ridge.score(X_test_sc, y_test)}')"
   ]
  },
  {
   "cell_type": "code",
   "execution_count": 405,
   "metadata": {},
   "outputs": [
    {
     "name": "stdout",
     "output_type": "stream",
     "text": [
      "MAE: 130.09644489164933\n",
      "MSE: 21446.079687456328\n",
      "RMSE: 146.44480082084283\n",
      "R2: -55982.532149076724\n"
     ]
    }
   ],
   "source": [
    "# Calcuate residual\n",
    "ridge_y_preds = np.exp(ridge.predict(X_train_sc))\n",
    "residuals = y_train - ridge_y_preds\n",
    "\n",
    "# Metrics\n",
    "print(f'MAE: {metrics.mean_absolute_error(y_train, ridge_y_preds)}')\n",
    "print(f'MSE: {metrics.mean_squared_error(y_train, ridge_y_preds)}')\n",
    "print(f'RMSE: {metrics.mean_squared_error(y_train, ridge_y_preds, squared = False)}')\n",
    "print(f'R2: {metrics.r2_score(y_train, ridge_y_preds)}')"
   ]
  },
  {
   "cell_type": "markdown",
   "metadata": {},
   "source": [
    "## 4.4. KNNeighbors Regressor\n"
   ]
  },
  {
   "cell_type": "code",
   "execution_count": 406,
   "metadata": {},
   "outputs": [
    {
     "data": {
      "text/html": [
       "<style>#sk-container-id-20 {color: black;background-color: white;}#sk-container-id-20 pre{padding: 0;}#sk-container-id-20 div.sk-toggleable {background-color: white;}#sk-container-id-20 label.sk-toggleable__label {cursor: pointer;display: block;width: 100%;margin-bottom: 0;padding: 0.3em;box-sizing: border-box;text-align: center;}#sk-container-id-20 label.sk-toggleable__label-arrow:before {content: \"▸\";float: left;margin-right: 0.25em;color: #696969;}#sk-container-id-20 label.sk-toggleable__label-arrow:hover:before {color: black;}#sk-container-id-20 div.sk-estimator:hover label.sk-toggleable__label-arrow:before {color: black;}#sk-container-id-20 div.sk-toggleable__content {max-height: 0;max-width: 0;overflow: hidden;text-align: left;background-color: #f0f8ff;}#sk-container-id-20 div.sk-toggleable__content pre {margin: 0.2em;color: black;border-radius: 0.25em;background-color: #f0f8ff;}#sk-container-id-20 input.sk-toggleable__control:checked~div.sk-toggleable__content {max-height: 200px;max-width: 100%;overflow: auto;}#sk-container-id-20 input.sk-toggleable__control:checked~label.sk-toggleable__label-arrow:before {content: \"▾\";}#sk-container-id-20 div.sk-estimator input.sk-toggleable__control:checked~label.sk-toggleable__label {background-color: #d4ebff;}#sk-container-id-20 div.sk-label input.sk-toggleable__control:checked~label.sk-toggleable__label {background-color: #d4ebff;}#sk-container-id-20 input.sk-hidden--visually {border: 0;clip: rect(1px 1px 1px 1px);clip: rect(1px, 1px, 1px, 1px);height: 1px;margin: -1px;overflow: hidden;padding: 0;position: absolute;width: 1px;}#sk-container-id-20 div.sk-estimator {font-family: monospace;background-color: #f0f8ff;border: 1px dotted black;border-radius: 0.25em;box-sizing: border-box;margin-bottom: 0.5em;}#sk-container-id-20 div.sk-estimator:hover {background-color: #d4ebff;}#sk-container-id-20 div.sk-parallel-item::after {content: \"\";width: 100%;border-bottom: 1px solid gray;flex-grow: 1;}#sk-container-id-20 div.sk-label:hover label.sk-toggleable__label {background-color: #d4ebff;}#sk-container-id-20 div.sk-serial::before {content: \"\";position: absolute;border-left: 1px solid gray;box-sizing: border-box;top: 0;bottom: 0;left: 50%;z-index: 0;}#sk-container-id-20 div.sk-serial {display: flex;flex-direction: column;align-items: center;background-color: white;padding-right: 0.2em;padding-left: 0.2em;position: relative;}#sk-container-id-20 div.sk-item {position: relative;z-index: 1;}#sk-container-id-20 div.sk-parallel {display: flex;align-items: stretch;justify-content: center;background-color: white;position: relative;}#sk-container-id-20 div.sk-item::before, #sk-container-id-20 div.sk-parallel-item::before {content: \"\";position: absolute;border-left: 1px solid gray;box-sizing: border-box;top: 0;bottom: 0;left: 50%;z-index: -1;}#sk-container-id-20 div.sk-parallel-item {display: flex;flex-direction: column;z-index: 1;position: relative;background-color: white;}#sk-container-id-20 div.sk-parallel-item:first-child::after {align-self: flex-end;width: 50%;}#sk-container-id-20 div.sk-parallel-item:last-child::after {align-self: flex-start;width: 50%;}#sk-container-id-20 div.sk-parallel-item:only-child::after {width: 0;}#sk-container-id-20 div.sk-dashed-wrapped {border: 1px dashed gray;margin: 0 0.4em 0.5em 0.4em;box-sizing: border-box;padding-bottom: 0.4em;background-color: white;}#sk-container-id-20 div.sk-label label {font-family: monospace;font-weight: bold;display: inline-block;line-height: 1.2em;}#sk-container-id-20 div.sk-label-container {text-align: center;}#sk-container-id-20 div.sk-container {/* jupyter's `normalize.less` sets `[hidden] { display: none; }` but bootstrap.min.css set `[hidden] { display: none !important; }` so we also need the `!important` here to be able to override the default hidden behavior on the sphinx rendered scikit-learn.org. See: https://github.com/scikit-learn/scikit-learn/issues/21755 */display: inline-block !important;position: relative;}#sk-container-id-20 div.sk-text-repr-fallback {display: none;}</style><div id=\"sk-container-id-20\" class=\"sk-top-container\"><div class=\"sk-text-repr-fallback\"><pre>GridSearchCV(cv=5, estimator=KNeighborsRegressor(),\n",
       "             param_grid={&#x27;algorithm&#x27;: [&#x27;auto&#x27;, &#x27;ball_tree&#x27;, &#x27;kd_tree&#x27;, &#x27;brute&#x27;],\n",
       "                         &#x27;n_neighbors&#x27;: [3, 5, 7, 9, 11, 13, 15], &#x27;p&#x27;: [1, 2]},\n",
       "             verbose=-1)</pre><b>In a Jupyter environment, please rerun this cell to show the HTML representation or trust the notebook. <br />On GitHub, the HTML representation is unable to render, please try loading this page with nbviewer.org.</b></div><div class=\"sk-container\" hidden><div class=\"sk-item sk-dashed-wrapped\"><div class=\"sk-label-container\"><div class=\"sk-label sk-toggleable\"><input class=\"sk-toggleable__control sk-hidden--visually\" id=\"sk-estimator-id-24\" type=\"checkbox\" ><label for=\"sk-estimator-id-24\" class=\"sk-toggleable__label sk-toggleable__label-arrow\">GridSearchCV</label><div class=\"sk-toggleable__content\"><pre>GridSearchCV(cv=5, estimator=KNeighborsRegressor(),\n",
       "             param_grid={&#x27;algorithm&#x27;: [&#x27;auto&#x27;, &#x27;ball_tree&#x27;, &#x27;kd_tree&#x27;, &#x27;brute&#x27;],\n",
       "                         &#x27;n_neighbors&#x27;: [3, 5, 7, 9, 11, 13, 15], &#x27;p&#x27;: [1, 2]},\n",
       "             verbose=-1)</pre></div></div></div><div class=\"sk-parallel\"><div class=\"sk-parallel-item\"><div class=\"sk-item\"><div class=\"sk-label-container\"><div class=\"sk-label sk-toggleable\"><input class=\"sk-toggleable__control sk-hidden--visually\" id=\"sk-estimator-id-25\" type=\"checkbox\" ><label for=\"sk-estimator-id-25\" class=\"sk-toggleable__label sk-toggleable__label-arrow\">estimator: KNeighborsRegressor</label><div class=\"sk-toggleable__content\"><pre>KNeighborsRegressor()</pre></div></div></div><div class=\"sk-serial\"><div class=\"sk-item\"><div class=\"sk-estimator sk-toggleable\"><input class=\"sk-toggleable__control sk-hidden--visually\" id=\"sk-estimator-id-26\" type=\"checkbox\" ><label for=\"sk-estimator-id-26\" class=\"sk-toggleable__label sk-toggleable__label-arrow\">KNeighborsRegressor</label><div class=\"sk-toggleable__content\"><pre>KNeighborsRegressor()</pre></div></div></div></div></div></div></div></div></div></div>"
      ],
      "text/plain": [
       "GridSearchCV(cv=5, estimator=KNeighborsRegressor(),\n",
       "             param_grid={'algorithm': ['auto', 'ball_tree', 'kd_tree', 'brute'],\n",
       "                         'n_neighbors': [3, 5, 7, 9, 11, 13, 15], 'p': [1, 2]},\n",
       "             verbose=-1)"
      ]
     },
     "execution_count": 406,
     "metadata": {},
     "output_type": "execute_result"
    }
   ],
   "source": [
    "knn_params = {\n",
    "    'n_neighbors': [3, 5, 7, 9, 11, 13, 15],\n",
    "    'algorithm': ['auto', 'ball_tree', 'kd_tree', 'brute'],\n",
    "    'p': [1, 2]\n",
    "}\n",
    "\n",
    "# define the grid search\n",
    "knn_grid= GridSearchCV(KNeighborsRegressor(), param_grid=knn_params, cv=5, verbose = -1)\n",
    "knn_grid.fit(X_train_sc, y_train)"
   ]
  },
  {
   "cell_type": "code",
   "execution_count": 407,
   "metadata": {},
   "outputs": [
    {
     "data": {
      "text/plain": [
       "{'algorithm': 'auto', 'n_neighbors': 9, 'p': 1}"
      ]
     },
     "execution_count": 407,
     "metadata": {},
     "output_type": "execute_result"
    }
   ],
   "source": [
    "knn_grid.best_params_"
   ]
  },
  {
   "cell_type": "code",
   "execution_count": 408,
   "metadata": {},
   "outputs": [
    {
     "name": "stdout",
     "output_type": "stream",
     "text": [
      "Training Score: 0.7171547353026566\n",
      "Testing Score: 0.6367074193300511\n",
      "MAE: 128.5596859299936\n",
      "MSE: 20893.183422838534\n",
      "RMSE: 144.5447454003034\n",
      "R2: -54539.23406120107\n"
     ]
    }
   ],
   "source": [
    "print(f'Training Score: {knn_grid.score(X_train_sc, y_train)}')\n",
    "print(f'Testing Score: {knn_grid.score(X_test_sc, y_test)}')\n",
    "\n",
    "# Calcuate residual\n",
    "knn_grid_y_preds = np.exp(knn_grid.best_estimator_.predict(X_train_sc))\n",
    "residuals = y_train - knn_grid_y_preds\n",
    "\n",
    "# Metrics\n",
    "print(f'MAE: {metrics.mean_absolute_error(y_train, knn_grid_y_preds)}')\n",
    "print(f'MSE: {metrics.mean_squared_error(y_train, knn_grid_y_preds)}')\n",
    "print(f'RMSE: {metrics.mean_squared_error(y_train, knn_grid_y_preds, squared = False)}')\n",
    "print(f'R2: {metrics.r2_score(y_train, knn_grid_y_preds)}')"
   ]
  },
  {
   "cell_type": "code",
   "execution_count": 409,
   "metadata": {},
   "outputs": [
    {
     "name": "stdout",
     "output_type": "stream",
     "text": [
      "Training Score: 0.7506849327550738\n",
      "Testing Score: 0.611784620963719\n",
      "MAE: 130.6766009328454\n",
      "MSE: 21939.11375940596\n",
      "RMSE: 148.118580061402\n",
      "R2: -57269.56405513303\n"
     ]
    }
   ],
   "source": [
    "knn = KNeighborsRegressor(n_neighbors=5, p=2)\n",
    "knn.fit(X_train_sc, y_train)\n",
    "\n",
    "print(f'Training Score: {knn.score(X_train_sc, y_train)}')\n",
    "print(f'Testing Score: {knn.score(X_test_sc, y_test)}')\n",
    "\n",
    "# Calcuate residual\n",
    "knn_y_preds = np.exp(knn.predict(X_train_sc))\n",
    "residuals = y_train - knn_y_preds\n",
    "\n",
    "# Metrics\n",
    "print(f'MAE: {metrics.mean_absolute_error(y_train, knn_y_preds)}')\n",
    "print(f'MSE: {metrics.mean_squared_error(y_train, knn_y_preds)}')\n",
    "print(f'RMSE: {metrics.mean_squared_error(y_train, knn_y_preds, squared = False)}')\n",
    "print(f'R2: {metrics.r2_score(y_train, knn_y_preds)}')"
   ]
  },
  {
   "cell_type": "markdown",
   "metadata": {},
   "source": [
    "## 4.5. CART "
   ]
  },
  {
   "cell_type": "code",
   "execution_count": 410,
   "metadata": {},
   "outputs": [
    {
     "name": "stdout",
     "output_type": "stream",
     "text": [
      "Fitting 5 folds for each of 400 candidates, totalling 2000 fits\n",
      "Best Estimator:  DecisionTreeRegressor(ccp_alpha=0.001, max_depth=7, min_samples_leaf=2,\n",
      "                      min_samples_split=10, random_state=42)\n",
      "Best Score:  0.6147021180816404\n",
      "Score on training set: 0.6244990075710447\n",
      "Score on testing set: 0.6039309359709839\n"
     ]
    }
   ],
   "source": [
    "# Instantiate model with:\n",
    "# - a maximum depth of .\n",
    "# - at least  samples required in order to split an internal node.\n",
    "# - at least  samples in each leaf node.\n",
    "# - a cost complexity of 0.01.\n",
    "# - random state of 42.\n",
    "\n",
    "dt_params = {\n",
    "    'max_depth': [2, 3, 5, 7],\n",
    "    'min_samples_split': [5, 10, 15, 20],\n",
    "    'min_samples_leaf': [2, 3, 4, 5, 6],\n",
    "    'ccp_alpha': [0.001, 0.01, 0.1, 1, 10]\n",
    "}\n",
    "\n",
    "dt_grid = GridSearchCV(\n",
    "                    estimator = DecisionTreeRegressor(random_state=42),\n",
    "                    param_grid = dt_params,\n",
    "                    cv = 5,\n",
    "                    verbose = 1)\n",
    "\n",
    "# GridSearch!\n",
    "dt_grid.fit(X_train_sc, y_train)\n",
    "\n",
    "# What is our best decision tree?\n",
    "print(\"Best Estimator: \", dt_grid.best_estimator_)\n",
    "\n",
    "# What was the cross-validated score of the above decision tree?\n",
    "print(\"Best Score: \", dt_grid.best_score_)\n",
    "\n",
    "# Evaluate model.\n",
    "print(f'Score on training set: {dt_grid.score(X_train_sc, y_train)}')\n",
    "print(f'Score on testing set: {dt_grid.score(X_test_sc, y_test)}')\n"
   ]
  },
  {
   "cell_type": "code",
   "execution_count": 411,
   "metadata": {},
   "outputs": [
    {
     "name": "stdout",
     "output_type": "stream",
     "text": [
      "MAE: 129.07575291467955\n",
      "MSE: 20488.66911379518\n",
      "RMSE: 143.13863599250615\n",
      "R2: -53483.276974632194\n"
     ]
    }
   ],
   "source": [
    "# Calcuate residual\n",
    "dt_y_preds = np.exp(dt_grid.best_estimator_.predict(X_train_sc))\n",
    "residuals = y_train - dt_y_preds\n",
    "\n",
    "# Metrics\n",
    "print(f'MAE: {metrics.mean_absolute_error(y_train, dt_y_preds)}')\n",
    "print(f'MSE: {metrics.mean_squared_error(y_train, dt_y_preds)}')\n",
    "print(f'RMSE: {metrics.mean_squared_error(y_train, dt_y_preds, squared = False)}')\n",
    "print(f'R2: {metrics.r2_score(y_train, dt_y_preds)}')"
   ]
  },
  {
   "cell_type": "markdown",
   "metadata": {},
   "source": [
    "## 4.6. Random Forest"
   ]
  },
  {
   "cell_type": "code",
   "execution_count": 412,
   "metadata": {},
   "outputs": [
    {
     "name": "stdout",
     "output_type": "stream",
     "text": [
      "Best Score : 0.7056320376638704\n",
      "Best Parameters: {'max_depth': None, 'min_samples_leaf': 2, 'n_estimators': 400, 'n_jobs': -1}\n",
      "Score on training set: 0.9313826508625533\n",
      "Score on test set: 0.6906297661702103\n"
     ]
    }
   ],
   "source": [
    "# Taking 47 min to run\n",
    "# Gridsearch Parameters\n",
    "rf_params = {\n",
    "    'n_estimators': [200, 250, 300, 400],\n",
    "    'min_samples_leaf': [2, 3, 4, 5],\n",
    "    'max_depth' : [None, 3, 4, 5, 6],\n",
    "    'n_jobs': [-1]\n",
    "}\n",
    "# Setting Gridsearch\n",
    "rf_grid = GridSearchCV(\n",
    "    estimator = RandomForestRegressor(), \n",
    "    param_grid = rf_params, \n",
    "    cv = 5\n",
    ")\n",
    "# Fitting Model\n",
    "rf_grid.fit(X_train_sc, y_train)\n",
    "\n",
    "# Printing Outputs\n",
    "print(f'Best Score : {rf_grid.best_score_}')\n",
    "print(f'Best Parameters: {rf_grid.best_params_}') \n",
    "print(f'Score on training set: {rf_grid.score(X_train_sc, y_train)}')\n",
    "print(f'Score on test set: {rf_grid.score(X_test_sc, y_test)}')"
   ]
  },
  {
   "cell_type": "code",
   "execution_count": 413,
   "metadata": {},
   "outputs": [
    {
     "name": "stdout",
     "output_type": "stream",
     "text": [
      "MAE: 133.46714225016947\n",
      "MSE: 23268.440440651048\n",
      "RMSE: 152.5399634215606\n",
      "R2: -60739.68092873757\n"
     ]
    }
   ],
   "source": [
    "# Calcuate residual\n",
    "rf_y_preds = np.exp(rf_grid.best_estimator_.predict(X_train_sc))\n",
    "residuals = y_train - rf_y_preds\n",
    "\n",
    "# Metrics\n",
    "print(f'MAE: {metrics.mean_absolute_error(y_train, rf_y_preds)}')\n",
    "print(f'MSE: {metrics.mean_squared_error(y_train, rf_y_preds)}')\n",
    "print(f'RMSE: {metrics.mean_squared_error(y_train, rf_y_preds, squared = False)}')\n",
    "print(f'R2: {metrics.r2_score(y_train, rf_y_preds)}')"
   ]
  },
  {
   "cell_type": "markdown",
   "metadata": {},
   "source": [
    "## 4.7. Neural Network"
   ]
  },
  {
   "cell_type": "code",
   "execution_count": 414,
   "metadata": {},
   "outputs": [],
   "source": [
    "def model_fn(h1_neurons = 32, h2_neurons=32, drop = 0.5):\n",
    "  \n",
    "  print(f'h1: {h1_neurons}, h2: {h2_neurons}, drop: {drop}')\n",
    "  \n",
    "  inputs = Input(shape = (X_train_sc.shape[1],))\n",
    "  \n",
    "  h1 = Dense(h1_neurons, activation = 'relu')(inputs)\n",
    "  d1 = Dropout(drop)(h1)\n",
    "  \n",
    "  h2 = Dense(h2_neurons, activation = 'relu')(d1)\n",
    "  out = Dense(1, activation = None)(h2)\n",
    "\n",
    "  model = Model(inputs = inputs, outputs = out)\n",
    "\n",
    "  model.compile(loss = 'mse',\n",
    "                optimizer = 'adam', \n",
    "                metrics='acc')\n",
    "  \n",
    "  return model"
   ]
  },
  {
   "cell_type": "code",
   "execution_count": 415,
   "metadata": {},
   "outputs": [],
   "source": [
    "# kind of like when lr = LinearRegression()\n",
    "nn = KerasRegressor(build_fn = model_fn, batch_size = 256, verbose = 0)"
   ]
  },
  {
   "cell_type": "code",
   "execution_count": 416,
   "metadata": {},
   "outputs": [],
   "source": [
    "params = {\n",
    "    'epochs': [100],\n",
    "    'h1_neurons': [16, 64, 128],\n",
    "    'h2_neurons': [64, 128],\n",
    "    'drop':[0.1,0.25, 0.5]\n",
    "}"
   ]
  },
  {
   "cell_type": "code",
   "execution_count": 417,
   "metadata": {},
   "outputs": [
    {
     "name": "stdout",
     "output_type": "stream",
     "text": [
      "h1: 16, h2: 64, drop: 0.1\n"
     ]
    },
    {
     "name": "stderr",
     "output_type": "stream",
     "text": [
      "2022-11-13 20:20:22.710811: I tensorflow/core/grappler/optimizers/custom_graph_optimizer_registry.cc:112] Plugin optimizer for device_type GPU is enabled.\n",
      "2022-11-13 20:20:41.098024: I tensorflow/core/grappler/optimizers/custom_graph_optimizer_registry.cc:112] Plugin optimizer for device_type GPU is enabled.\n"
     ]
    },
    {
     "name": "stdout",
     "output_type": "stream",
     "text": [
      "h1: 16, h2: 64, drop: 0.1\n"
     ]
    },
    {
     "name": "stderr",
     "output_type": "stream",
     "text": [
      "2022-11-13 20:20:41.760812: I tensorflow/core/grappler/optimizers/custom_graph_optimizer_registry.cc:112] Plugin optimizer for device_type GPU is enabled.\n",
      "2022-11-13 20:20:59.258287: I tensorflow/core/grappler/optimizers/custom_graph_optimizer_registry.cc:112] Plugin optimizer for device_type GPU is enabled.\n"
     ]
    },
    {
     "name": "stdout",
     "output_type": "stream",
     "text": [
      "h1: 16, h2: 64, drop: 0.1\n"
     ]
    },
    {
     "name": "stderr",
     "output_type": "stream",
     "text": [
      "2022-11-13 20:20:59.673621: I tensorflow/core/grappler/optimizers/custom_graph_optimizer_registry.cc:112] Plugin optimizer for device_type GPU is enabled.\n",
      "2022-11-13 20:21:18.511516: I tensorflow/core/grappler/optimizers/custom_graph_optimizer_registry.cc:112] Plugin optimizer for device_type GPU is enabled.\n"
     ]
    },
    {
     "name": "stdout",
     "output_type": "stream",
     "text": [
      "h1: 16, h2: 128, drop: 0.1\n"
     ]
    },
    {
     "name": "stderr",
     "output_type": "stream",
     "text": [
      "2022-11-13 20:21:19.592908: I tensorflow/core/grappler/optimizers/custom_graph_optimizer_registry.cc:112] Plugin optimizer for device_type GPU is enabled.\n",
      "2022-11-13 20:21:37.734176: I tensorflow/core/grappler/optimizers/custom_graph_optimizer_registry.cc:112] Plugin optimizer for device_type GPU is enabled.\n"
     ]
    },
    {
     "name": "stdout",
     "output_type": "stream",
     "text": [
      "h1: 16, h2: 128, drop: 0.1\n"
     ]
    },
    {
     "name": "stderr",
     "output_type": "stream",
     "text": [
      "2022-11-13 20:21:38.111806: I tensorflow/core/grappler/optimizers/custom_graph_optimizer_registry.cc:112] Plugin optimizer for device_type GPU is enabled.\n",
      "2022-11-13 20:21:57.133751: I tensorflow/core/grappler/optimizers/custom_graph_optimizer_registry.cc:112] Plugin optimizer for device_type GPU is enabled.\n"
     ]
    },
    {
     "name": "stdout",
     "output_type": "stream",
     "text": [
      "h1: 16, h2: 128, drop: 0.1\n"
     ]
    },
    {
     "name": "stderr",
     "output_type": "stream",
     "text": [
      "2022-11-13 20:21:57.489406: I tensorflow/core/grappler/optimizers/custom_graph_optimizer_registry.cc:112] Plugin optimizer for device_type GPU is enabled.\n",
      "2022-11-13 20:22:18.282315: I tensorflow/core/grappler/optimizers/custom_graph_optimizer_registry.cc:112] Plugin optimizer for device_type GPU is enabled.\n"
     ]
    },
    {
     "name": "stdout",
     "output_type": "stream",
     "text": [
      "h1: 64, h2: 64, drop: 0.1\n"
     ]
    },
    {
     "name": "stderr",
     "output_type": "stream",
     "text": [
      "2022-11-13 20:22:18.614655: I tensorflow/core/grappler/optimizers/custom_graph_optimizer_registry.cc:112] Plugin optimizer for device_type GPU is enabled.\n",
      "2022-11-13 20:22:38.979794: I tensorflow/core/grappler/optimizers/custom_graph_optimizer_registry.cc:112] Plugin optimizer for device_type GPU is enabled.\n"
     ]
    },
    {
     "name": "stdout",
     "output_type": "stream",
     "text": [
      "h1: 64, h2: 64, drop: 0.1\n"
     ]
    },
    {
     "name": "stderr",
     "output_type": "stream",
     "text": [
      "2022-11-13 20:22:39.948274: I tensorflow/core/grappler/optimizers/custom_graph_optimizer_registry.cc:112] Plugin optimizer for device_type GPU is enabled.\n",
      "2022-11-13 20:23:00.942255: I tensorflow/core/grappler/optimizers/custom_graph_optimizer_registry.cc:112] Plugin optimizer for device_type GPU is enabled.\n"
     ]
    },
    {
     "name": "stdout",
     "output_type": "stream",
     "text": [
      "h1: 64, h2: 64, drop: 0.1\n"
     ]
    },
    {
     "name": "stderr",
     "output_type": "stream",
     "text": [
      "2022-11-13 20:23:01.322636: I tensorflow/core/grappler/optimizers/custom_graph_optimizer_registry.cc:112] Plugin optimizer for device_type GPU is enabled.\n",
      "2022-11-13 20:23:20.072255: I tensorflow/core/grappler/optimizers/custom_graph_optimizer_registry.cc:112] Plugin optimizer for device_type GPU is enabled.\n"
     ]
    },
    {
     "name": "stdout",
     "output_type": "stream",
     "text": [
      "h1: 64, h2: 128, drop: 0.1\n"
     ]
    },
    {
     "name": "stderr",
     "output_type": "stream",
     "text": [
      "2022-11-13 20:23:20.389465: I tensorflow/core/grappler/optimizers/custom_graph_optimizer_registry.cc:112] Plugin optimizer for device_type GPU is enabled.\n",
      "2022-11-13 20:23:38.792590: I tensorflow/core/grappler/optimizers/custom_graph_optimizer_registry.cc:112] Plugin optimizer for device_type GPU is enabled.\n"
     ]
    },
    {
     "name": "stdout",
     "output_type": "stream",
     "text": [
      "h1: 64, h2: 128, drop: 0.1\n"
     ]
    },
    {
     "name": "stderr",
     "output_type": "stream",
     "text": [
      "2022-11-13 20:23:39.183818: I tensorflow/core/grappler/optimizers/custom_graph_optimizer_registry.cc:112] Plugin optimizer for device_type GPU is enabled.\n",
      "2022-11-13 20:23:59.500633: I tensorflow/core/grappler/optimizers/custom_graph_optimizer_registry.cc:112] Plugin optimizer for device_type GPU is enabled.\n"
     ]
    },
    {
     "name": "stdout",
     "output_type": "stream",
     "text": [
      "h1: 64, h2: 128, drop: 0.1\n"
     ]
    },
    {
     "name": "stderr",
     "output_type": "stream",
     "text": [
      "2022-11-13 20:24:00.265989: I tensorflow/core/grappler/optimizers/custom_graph_optimizer_registry.cc:112] Plugin optimizer for device_type GPU is enabled.\n",
      "2022-11-13 20:24:20.105451: I tensorflow/core/grappler/optimizers/custom_graph_optimizer_registry.cc:112] Plugin optimizer for device_type GPU is enabled.\n"
     ]
    },
    {
     "name": "stdout",
     "output_type": "stream",
     "text": [
      "h1: 128, h2: 64, drop: 0.1\n"
     ]
    },
    {
     "name": "stderr",
     "output_type": "stream",
     "text": [
      "2022-11-13 20:24:20.564295: I tensorflow/core/grappler/optimizers/custom_graph_optimizer_registry.cc:112] Plugin optimizer for device_type GPU is enabled.\n",
      "2022-11-13 20:24:41.141340: I tensorflow/core/grappler/optimizers/custom_graph_optimizer_registry.cc:112] Plugin optimizer for device_type GPU is enabled.\n"
     ]
    },
    {
     "name": "stdout",
     "output_type": "stream",
     "text": [
      "h1: 128, h2: 64, drop: 0.1\n"
     ]
    },
    {
     "name": "stderr",
     "output_type": "stream",
     "text": [
      "2022-11-13 20:24:41.500784: I tensorflow/core/grappler/optimizers/custom_graph_optimizer_registry.cc:112] Plugin optimizer for device_type GPU is enabled.\n",
      "2022-11-13 20:25:00.430872: I tensorflow/core/grappler/optimizers/custom_graph_optimizer_registry.cc:112] Plugin optimizer for device_type GPU is enabled.\n"
     ]
    },
    {
     "name": "stdout",
     "output_type": "stream",
     "text": [
      "h1: 128, h2: 64, drop: 0.1\n"
     ]
    },
    {
     "name": "stderr",
     "output_type": "stream",
     "text": [
      "2022-11-13 20:25:01.594262: I tensorflow/core/grappler/optimizers/custom_graph_optimizer_registry.cc:112] Plugin optimizer for device_type GPU is enabled.\n",
      "2022-11-13 20:25:20.437865: I tensorflow/core/grappler/optimizers/custom_graph_optimizer_registry.cc:112] Plugin optimizer for device_type GPU is enabled.\n"
     ]
    },
    {
     "name": "stdout",
     "output_type": "stream",
     "text": [
      "h1: 128, h2: 128, drop: 0.1\n"
     ]
    },
    {
     "name": "stderr",
     "output_type": "stream",
     "text": [
      "2022-11-13 20:25:20.785422: I tensorflow/core/grappler/optimizers/custom_graph_optimizer_registry.cc:112] Plugin optimizer for device_type GPU is enabled.\n",
      "2022-11-13 20:25:38.945546: I tensorflow/core/grappler/optimizers/custom_graph_optimizer_registry.cc:112] Plugin optimizer for device_type GPU is enabled.\n"
     ]
    },
    {
     "name": "stdout",
     "output_type": "stream",
     "text": [
      "h1: 128, h2: 128, drop: 0.1\n"
     ]
    },
    {
     "name": "stderr",
     "output_type": "stream",
     "text": [
      "2022-11-13 20:25:39.232925: I tensorflow/core/grappler/optimizers/custom_graph_optimizer_registry.cc:112] Plugin optimizer for device_type GPU is enabled.\n",
      "2022-11-13 20:25:57.389047: I tensorflow/core/grappler/optimizers/custom_graph_optimizer_registry.cc:112] Plugin optimizer for device_type GPU is enabled.\n"
     ]
    },
    {
     "name": "stdout",
     "output_type": "stream",
     "text": [
      "h1: 128, h2: 128, drop: 0.1\n"
     ]
    },
    {
     "name": "stderr",
     "output_type": "stream",
     "text": [
      "2022-11-13 20:25:57.724255: I tensorflow/core/grappler/optimizers/custom_graph_optimizer_registry.cc:112] Plugin optimizer for device_type GPU is enabled.\n",
      "2022-11-13 20:26:15.752201: I tensorflow/core/grappler/optimizers/custom_graph_optimizer_registry.cc:112] Plugin optimizer for device_type GPU is enabled.\n"
     ]
    },
    {
     "name": "stdout",
     "output_type": "stream",
     "text": [
      "h1: 16, h2: 64, drop: 0.25\n"
     ]
    },
    {
     "name": "stderr",
     "output_type": "stream",
     "text": [
      "2022-11-13 20:26:16.045117: I tensorflow/core/grappler/optimizers/custom_graph_optimizer_registry.cc:112] Plugin optimizer for device_type GPU is enabled.\n",
      "2022-11-13 20:26:33.501372: I tensorflow/core/grappler/optimizers/custom_graph_optimizer_registry.cc:112] Plugin optimizer for device_type GPU is enabled.\n"
     ]
    },
    {
     "name": "stdout",
     "output_type": "stream",
     "text": [
      "h1: 16, h2: 64, drop: 0.25\n"
     ]
    },
    {
     "name": "stderr",
     "output_type": "stream",
     "text": [
      "2022-11-13 20:26:33.808312: I tensorflow/core/grappler/optimizers/custom_graph_optimizer_registry.cc:112] Plugin optimizer for device_type GPU is enabled.\n",
      "2022-11-13 20:26:51.431378: I tensorflow/core/grappler/optimizers/custom_graph_optimizer_registry.cc:112] Plugin optimizer for device_type GPU is enabled.\n"
     ]
    },
    {
     "name": "stdout",
     "output_type": "stream",
     "text": [
      "h1: 16, h2: 64, drop: 0.25\n"
     ]
    },
    {
     "name": "stderr",
     "output_type": "stream",
     "text": [
      "2022-11-13 20:26:51.731399: I tensorflow/core/grappler/optimizers/custom_graph_optimizer_registry.cc:112] Plugin optimizer for device_type GPU is enabled.\n",
      "2022-11-13 20:27:09.852732: I tensorflow/core/grappler/optimizers/custom_graph_optimizer_registry.cc:112] Plugin optimizer for device_type GPU is enabled.\n"
     ]
    },
    {
     "name": "stdout",
     "output_type": "stream",
     "text": [
      "h1: 16, h2: 128, drop: 0.25\n"
     ]
    },
    {
     "name": "stderr",
     "output_type": "stream",
     "text": [
      "2022-11-13 20:27:10.175809: I tensorflow/core/grappler/optimizers/custom_graph_optimizer_registry.cc:112] Plugin optimizer for device_type GPU is enabled.\n",
      "2022-11-13 20:27:27.591763: I tensorflow/core/grappler/optimizers/custom_graph_optimizer_registry.cc:112] Plugin optimizer for device_type GPU is enabled.\n"
     ]
    },
    {
     "name": "stdout",
     "output_type": "stream",
     "text": [
      "h1: 16, h2: 128, drop: 0.25\n"
     ]
    },
    {
     "name": "stderr",
     "output_type": "stream",
     "text": [
      "2022-11-13 20:27:27.880670: I tensorflow/core/grappler/optimizers/custom_graph_optimizer_registry.cc:112] Plugin optimizer for device_type GPU is enabled.\n",
      "2022-11-13 20:27:45.313016: I tensorflow/core/grappler/optimizers/custom_graph_optimizer_registry.cc:112] Plugin optimizer for device_type GPU is enabled.\n"
     ]
    },
    {
     "name": "stdout",
     "output_type": "stream",
     "text": [
      "h1: 16, h2: 128, drop: 0.25\n"
     ]
    },
    {
     "name": "stderr",
     "output_type": "stream",
     "text": [
      "2022-11-13 20:27:45.630661: I tensorflow/core/grappler/optimizers/custom_graph_optimizer_registry.cc:112] Plugin optimizer for device_type GPU is enabled.\n",
      "2022-11-13 20:28:03.324726: I tensorflow/core/grappler/optimizers/custom_graph_optimizer_registry.cc:112] Plugin optimizer for device_type GPU is enabled.\n"
     ]
    },
    {
     "name": "stdout",
     "output_type": "stream",
     "text": [
      "h1: 64, h2: 64, drop: 0.25\n"
     ]
    },
    {
     "name": "stderr",
     "output_type": "stream",
     "text": [
      "2022-11-13 20:28:03.732405: I tensorflow/core/grappler/optimizers/custom_graph_optimizer_registry.cc:112] Plugin optimizer for device_type GPU is enabled.\n",
      "2022-11-13 20:28:20.992267: I tensorflow/core/grappler/optimizers/custom_graph_optimizer_registry.cc:112] Plugin optimizer for device_type GPU is enabled.\n"
     ]
    },
    {
     "name": "stdout",
     "output_type": "stream",
     "text": [
      "h1: 64, h2: 64, drop: 0.25\n"
     ]
    },
    {
     "name": "stderr",
     "output_type": "stream",
     "text": [
      "2022-11-13 20:28:21.312815: I tensorflow/core/grappler/optimizers/custom_graph_optimizer_registry.cc:112] Plugin optimizer for device_type GPU is enabled.\n",
      "2022-11-13 20:28:38.578846: I tensorflow/core/grappler/optimizers/custom_graph_optimizer_registry.cc:112] Plugin optimizer for device_type GPU is enabled.\n"
     ]
    },
    {
     "name": "stdout",
     "output_type": "stream",
     "text": [
      "h1: 64, h2: 64, drop: 0.25\n"
     ]
    },
    {
     "name": "stderr",
     "output_type": "stream",
     "text": [
      "2022-11-13 20:28:38.928636: I tensorflow/core/grappler/optimizers/custom_graph_optimizer_registry.cc:112] Plugin optimizer for device_type GPU is enabled.\n",
      "2022-11-13 20:28:56.344268: I tensorflow/core/grappler/optimizers/custom_graph_optimizer_registry.cc:112] Plugin optimizer for device_type GPU is enabled.\n"
     ]
    },
    {
     "name": "stdout",
     "output_type": "stream",
     "text": [
      "h1: 64, h2: 128, drop: 0.25\n"
     ]
    },
    {
     "name": "stderr",
     "output_type": "stream",
     "text": [
      "2022-11-13 20:28:57.353354: I tensorflow/core/grappler/optimizers/custom_graph_optimizer_registry.cc:112] Plugin optimizer for device_type GPU is enabled.\n",
      "2022-11-13 20:29:15.665404: I tensorflow/core/grappler/optimizers/custom_graph_optimizer_registry.cc:112] Plugin optimizer for device_type GPU is enabled.\n"
     ]
    },
    {
     "name": "stdout",
     "output_type": "stream",
     "text": [
      "h1: 64, h2: 128, drop: 0.25\n"
     ]
    },
    {
     "name": "stderr",
     "output_type": "stream",
     "text": [
      "2022-11-13 20:29:16.132147: I tensorflow/core/grappler/optimizers/custom_graph_optimizer_registry.cc:112] Plugin optimizer for device_type GPU is enabled.\n",
      "2022-11-13 20:29:33.544028: I tensorflow/core/grappler/optimizers/custom_graph_optimizer_registry.cc:112] Plugin optimizer for device_type GPU is enabled.\n"
     ]
    },
    {
     "name": "stdout",
     "output_type": "stream",
     "text": [
      "h1: 64, h2: 128, drop: 0.25\n"
     ]
    },
    {
     "name": "stderr",
     "output_type": "stream",
     "text": [
      "2022-11-13 20:29:33.857462: I tensorflow/core/grappler/optimizers/custom_graph_optimizer_registry.cc:112] Plugin optimizer for device_type GPU is enabled.\n",
      "2022-11-13 20:29:51.881824: I tensorflow/core/grappler/optimizers/custom_graph_optimizer_registry.cc:112] Plugin optimizer for device_type GPU is enabled.\n"
     ]
    },
    {
     "name": "stdout",
     "output_type": "stream",
     "text": [
      "h1: 128, h2: 64, drop: 0.25\n"
     ]
    },
    {
     "name": "stderr",
     "output_type": "stream",
     "text": [
      "2022-11-13 20:29:52.226054: I tensorflow/core/grappler/optimizers/custom_graph_optimizer_registry.cc:112] Plugin optimizer for device_type GPU is enabled.\n",
      "2022-11-13 20:30:11.495545: I tensorflow/core/grappler/optimizers/custom_graph_optimizer_registry.cc:112] Plugin optimizer for device_type GPU is enabled.\n"
     ]
    },
    {
     "name": "stdout",
     "output_type": "stream",
     "text": [
      "h1: 128, h2: 64, drop: 0.25\n"
     ]
    },
    {
     "name": "stderr",
     "output_type": "stream",
     "text": [
      "2022-11-13 20:30:11.877622: I tensorflow/core/grappler/optimizers/custom_graph_optimizer_registry.cc:112] Plugin optimizer for device_type GPU is enabled.\n",
      "2022-11-13 20:30:29.434371: I tensorflow/core/grappler/optimizers/custom_graph_optimizer_registry.cc:112] Plugin optimizer for device_type GPU is enabled.\n"
     ]
    },
    {
     "name": "stdout",
     "output_type": "stream",
     "text": [
      "h1: 128, h2: 64, drop: 0.25\n"
     ]
    },
    {
     "name": "stderr",
     "output_type": "stream",
     "text": [
      "2022-11-13 20:30:29.747475: I tensorflow/core/grappler/optimizers/custom_graph_optimizer_registry.cc:112] Plugin optimizer for device_type GPU is enabled.\n",
      "2022-11-13 20:30:47.268733: I tensorflow/core/grappler/optimizers/custom_graph_optimizer_registry.cc:112] Plugin optimizer for device_type GPU is enabled.\n"
     ]
    },
    {
     "name": "stdout",
     "output_type": "stream",
     "text": [
      "h1: 128, h2: 128, drop: 0.25\n"
     ]
    },
    {
     "name": "stderr",
     "output_type": "stream",
     "text": [
      "2022-11-13 20:30:47.580189: I tensorflow/core/grappler/optimizers/custom_graph_optimizer_registry.cc:112] Plugin optimizer for device_type GPU is enabled.\n",
      "2022-11-13 20:31:05.260633: I tensorflow/core/grappler/optimizers/custom_graph_optimizer_registry.cc:112] Plugin optimizer for device_type GPU is enabled.\n"
     ]
    },
    {
     "name": "stdout",
     "output_type": "stream",
     "text": [
      "h1: 128, h2: 128, drop: 0.25\n"
     ]
    },
    {
     "name": "stderr",
     "output_type": "stream",
     "text": [
      "2022-11-13 20:31:06.159938: I tensorflow/core/grappler/optimizers/custom_graph_optimizer_registry.cc:112] Plugin optimizer for device_type GPU is enabled.\n",
      "2022-11-13 20:31:24.364844: I tensorflow/core/grappler/optimizers/custom_graph_optimizer_registry.cc:112] Plugin optimizer for device_type GPU is enabled.\n"
     ]
    },
    {
     "name": "stdout",
     "output_type": "stream",
     "text": [
      "h1: 128, h2: 128, drop: 0.25\n"
     ]
    },
    {
     "name": "stderr",
     "output_type": "stream",
     "text": [
      "2022-11-13 20:31:24.665100: I tensorflow/core/grappler/optimizers/custom_graph_optimizer_registry.cc:112] Plugin optimizer for device_type GPU is enabled.\n",
      "2022-11-13 20:31:42.490104: I tensorflow/core/grappler/optimizers/custom_graph_optimizer_registry.cc:112] Plugin optimizer for device_type GPU is enabled.\n"
     ]
    },
    {
     "name": "stdout",
     "output_type": "stream",
     "text": [
      "h1: 16, h2: 64, drop: 0.5\n"
     ]
    },
    {
     "name": "stderr",
     "output_type": "stream",
     "text": [
      "2022-11-13 20:31:42.787269: I tensorflow/core/grappler/optimizers/custom_graph_optimizer_registry.cc:112] Plugin optimizer for device_type GPU is enabled.\n",
      "2022-11-13 20:32:00.284778: I tensorflow/core/grappler/optimizers/custom_graph_optimizer_registry.cc:112] Plugin optimizer for device_type GPU is enabled.\n"
     ]
    },
    {
     "name": "stdout",
     "output_type": "stream",
     "text": [
      "h1: 16, h2: 64, drop: 0.5\n"
     ]
    },
    {
     "name": "stderr",
     "output_type": "stream",
     "text": [
      "2022-11-13 20:32:00.580785: I tensorflow/core/grappler/optimizers/custom_graph_optimizer_registry.cc:112] Plugin optimizer for device_type GPU is enabled.\n",
      "2022-11-13 20:32:18.442060: I tensorflow/core/grappler/optimizers/custom_graph_optimizer_registry.cc:112] Plugin optimizer for device_type GPU is enabled.\n"
     ]
    },
    {
     "name": "stdout",
     "output_type": "stream",
     "text": [
      "h1: 16, h2: 64, drop: 0.5\n"
     ]
    },
    {
     "name": "stderr",
     "output_type": "stream",
     "text": [
      "2022-11-13 20:32:18.822679: I tensorflow/core/grappler/optimizers/custom_graph_optimizer_registry.cc:112] Plugin optimizer for device_type GPU is enabled.\n",
      "2022-11-13 20:32:36.359827: I tensorflow/core/grappler/optimizers/custom_graph_optimizer_registry.cc:112] Plugin optimizer for device_type GPU is enabled.\n"
     ]
    },
    {
     "name": "stdout",
     "output_type": "stream",
     "text": [
      "h1: 16, h2: 128, drop: 0.5\n"
     ]
    },
    {
     "name": "stderr",
     "output_type": "stream",
     "text": [
      "2022-11-13 20:32:36.677082: I tensorflow/core/grappler/optimizers/custom_graph_optimizer_registry.cc:112] Plugin optimizer for device_type GPU is enabled.\n",
      "2022-11-13 20:32:54.333202: I tensorflow/core/grappler/optimizers/custom_graph_optimizer_registry.cc:112] Plugin optimizer for device_type GPU is enabled.\n"
     ]
    },
    {
     "name": "stdout",
     "output_type": "stream",
     "text": [
      "h1: 16, h2: 128, drop: 0.5\n"
     ]
    },
    {
     "name": "stderr",
     "output_type": "stream",
     "text": [
      "2022-11-13 20:32:55.192028: I tensorflow/core/grappler/optimizers/custom_graph_optimizer_registry.cc:112] Plugin optimizer for device_type GPU is enabled.\n",
      "2022-11-13 20:33:13.676240: I tensorflow/core/grappler/optimizers/custom_graph_optimizer_registry.cc:112] Plugin optimizer for device_type GPU is enabled.\n"
     ]
    },
    {
     "name": "stdout",
     "output_type": "stream",
     "text": [
      "h1: 16, h2: 128, drop: 0.5\n"
     ]
    },
    {
     "name": "stderr",
     "output_type": "stream",
     "text": [
      "2022-11-13 20:33:13.973955: I tensorflow/core/grappler/optimizers/custom_graph_optimizer_registry.cc:112] Plugin optimizer for device_type GPU is enabled.\n",
      "2022-11-13 20:33:31.642338: I tensorflow/core/grappler/optimizers/custom_graph_optimizer_registry.cc:112] Plugin optimizer for device_type GPU is enabled.\n"
     ]
    },
    {
     "name": "stdout",
     "output_type": "stream",
     "text": [
      "h1: 64, h2: 64, drop: 0.5\n"
     ]
    },
    {
     "name": "stderr",
     "output_type": "stream",
     "text": [
      "2022-11-13 20:33:32.020025: I tensorflow/core/grappler/optimizers/custom_graph_optimizer_registry.cc:112] Plugin optimizer for device_type GPU is enabled.\n",
      "2022-11-13 20:33:49.778352: I tensorflow/core/grappler/optimizers/custom_graph_optimizer_registry.cc:112] Plugin optimizer for device_type GPU is enabled.\n"
     ]
    },
    {
     "name": "stdout",
     "output_type": "stream",
     "text": [
      "h1: 64, h2: 64, drop: 0.5\n"
     ]
    },
    {
     "name": "stderr",
     "output_type": "stream",
     "text": [
      "2022-11-13 20:33:50.104508: I tensorflow/core/grappler/optimizers/custom_graph_optimizer_registry.cc:112] Plugin optimizer for device_type GPU is enabled.\n",
      "2022-11-13 20:34:07.710613: I tensorflow/core/grappler/optimizers/custom_graph_optimizer_registry.cc:112] Plugin optimizer for device_type GPU is enabled.\n"
     ]
    },
    {
     "name": "stdout",
     "output_type": "stream",
     "text": [
      "h1: 64, h2: 64, drop: 0.5\n"
     ]
    },
    {
     "name": "stderr",
     "output_type": "stream",
     "text": [
      "2022-11-13 20:34:08.037502: I tensorflow/core/grappler/optimizers/custom_graph_optimizer_registry.cc:112] Plugin optimizer for device_type GPU is enabled.\n",
      "2022-11-13 20:34:25.436002: I tensorflow/core/grappler/optimizers/custom_graph_optimizer_registry.cc:112] Plugin optimizer for device_type GPU is enabled.\n"
     ]
    },
    {
     "name": "stdout",
     "output_type": "stream",
     "text": [
      "h1: 64, h2: 128, drop: 0.5\n"
     ]
    },
    {
     "name": "stderr",
     "output_type": "stream",
     "text": [
      "2022-11-13 20:34:25.797173: I tensorflow/core/grappler/optimizers/custom_graph_optimizer_registry.cc:112] Plugin optimizer for device_type GPU is enabled.\n",
      "2022-11-13 20:34:43.522005: I tensorflow/core/grappler/optimizers/custom_graph_optimizer_registry.cc:112] Plugin optimizer for device_type GPU is enabled.\n"
     ]
    },
    {
     "name": "stdout",
     "output_type": "stream",
     "text": [
      "h1: 64, h2: 128, drop: 0.5\n"
     ]
    },
    {
     "name": "stderr",
     "output_type": "stream",
     "text": [
      "2022-11-13 20:34:44.474700: I tensorflow/core/grappler/optimizers/custom_graph_optimizer_registry.cc:112] Plugin optimizer for device_type GPU is enabled.\n",
      "2022-11-13 20:35:03.362342: I tensorflow/core/grappler/optimizers/custom_graph_optimizer_registry.cc:112] Plugin optimizer for device_type GPU is enabled.\n"
     ]
    },
    {
     "name": "stdout",
     "output_type": "stream",
     "text": [
      "h1: 64, h2: 128, drop: 0.5\n"
     ]
    },
    {
     "name": "stderr",
     "output_type": "stream",
     "text": [
      "2022-11-13 20:35:03.694857: I tensorflow/core/grappler/optimizers/custom_graph_optimizer_registry.cc:112] Plugin optimizer for device_type GPU is enabled.\n",
      "2022-11-13 20:35:21.578641: I tensorflow/core/grappler/optimizers/custom_graph_optimizer_registry.cc:112] Plugin optimizer for device_type GPU is enabled.\n"
     ]
    },
    {
     "name": "stdout",
     "output_type": "stream",
     "text": [
      "h1: 128, h2: 64, drop: 0.5\n"
     ]
    },
    {
     "name": "stderr",
     "output_type": "stream",
     "text": [
      "2022-11-13 20:35:21.940103: I tensorflow/core/grappler/optimizers/custom_graph_optimizer_registry.cc:112] Plugin optimizer for device_type GPU is enabled.\n",
      "2022-11-13 20:35:39.675992: I tensorflow/core/grappler/optimizers/custom_graph_optimizer_registry.cc:112] Plugin optimizer for device_type GPU is enabled.\n"
     ]
    },
    {
     "name": "stdout",
     "output_type": "stream",
     "text": [
      "h1: 128, h2: 64, drop: 0.5\n"
     ]
    },
    {
     "name": "stderr",
     "output_type": "stream",
     "text": [
      "2022-11-13 20:35:40.017906: I tensorflow/core/grappler/optimizers/custom_graph_optimizer_registry.cc:112] Plugin optimizer for device_type GPU is enabled.\n",
      "2022-11-13 20:35:57.648918: I tensorflow/core/grappler/optimizers/custom_graph_optimizer_registry.cc:112] Plugin optimizer for device_type GPU is enabled.\n"
     ]
    },
    {
     "name": "stdout",
     "output_type": "stream",
     "text": [
      "h1: 128, h2: 64, drop: 0.5\n"
     ]
    },
    {
     "name": "stderr",
     "output_type": "stream",
     "text": [
      "2022-11-13 20:35:57.958519: I tensorflow/core/grappler/optimizers/custom_graph_optimizer_registry.cc:112] Plugin optimizer for device_type GPU is enabled.\n",
      "2022-11-13 20:36:15.451870: I tensorflow/core/grappler/optimizers/custom_graph_optimizer_registry.cc:112] Plugin optimizer for device_type GPU is enabled.\n"
     ]
    },
    {
     "name": "stdout",
     "output_type": "stream",
     "text": [
      "h1: 128, h2: 128, drop: 0.5\n"
     ]
    },
    {
     "name": "stderr",
     "output_type": "stream",
     "text": [
      "2022-11-13 20:36:15.791378: I tensorflow/core/grappler/optimizers/custom_graph_optimizer_registry.cc:112] Plugin optimizer for device_type GPU is enabled.\n",
      "2022-11-13 20:36:33.180598: I tensorflow/core/grappler/optimizers/custom_graph_optimizer_registry.cc:112] Plugin optimizer for device_type GPU is enabled.\n"
     ]
    },
    {
     "name": "stdout",
     "output_type": "stream",
     "text": [
      "h1: 128, h2: 128, drop: 0.5\n"
     ]
    },
    {
     "name": "stderr",
     "output_type": "stream",
     "text": [
      "2022-11-13 20:36:33.478136: I tensorflow/core/grappler/optimizers/custom_graph_optimizer_registry.cc:112] Plugin optimizer for device_type GPU is enabled.\n",
      "2022-11-13 20:36:51.023787: I tensorflow/core/grappler/optimizers/custom_graph_optimizer_registry.cc:112] Plugin optimizer for device_type GPU is enabled.\n"
     ]
    },
    {
     "name": "stdout",
     "output_type": "stream",
     "text": [
      "h1: 128, h2: 128, drop: 0.5\n"
     ]
    },
    {
     "name": "stderr",
     "output_type": "stream",
     "text": [
      "2022-11-13 20:36:51.994355: I tensorflow/core/grappler/optimizers/custom_graph_optimizer_registry.cc:112] Plugin optimizer for device_type GPU is enabled.\n",
      "2022-11-13 20:37:10.273076: I tensorflow/core/grappler/optimizers/custom_graph_optimizer_registry.cc:112] Plugin optimizer for device_type GPU is enabled.\n"
     ]
    },
    {
     "name": "stdout",
     "output_type": "stream",
     "text": [
      "h1: 16, h2: 64, drop: 0.1\n"
     ]
    },
    {
     "name": "stderr",
     "output_type": "stream",
     "text": [
      "2022-11-13 20:37:10.576296: I tensorflow/core/grappler/optimizers/custom_graph_optimizer_registry.cc:112] Plugin optimizer for device_type GPU is enabled.\n"
     ]
    },
    {
     "data": {
      "text/html": [
       "<style>#sk-container-id-21 {color: black;background-color: white;}#sk-container-id-21 pre{padding: 0;}#sk-container-id-21 div.sk-toggleable {background-color: white;}#sk-container-id-21 label.sk-toggleable__label {cursor: pointer;display: block;width: 100%;margin-bottom: 0;padding: 0.3em;box-sizing: border-box;text-align: center;}#sk-container-id-21 label.sk-toggleable__label-arrow:before {content: \"▸\";float: left;margin-right: 0.25em;color: #696969;}#sk-container-id-21 label.sk-toggleable__label-arrow:hover:before {color: black;}#sk-container-id-21 div.sk-estimator:hover label.sk-toggleable__label-arrow:before {color: black;}#sk-container-id-21 div.sk-toggleable__content {max-height: 0;max-width: 0;overflow: hidden;text-align: left;background-color: #f0f8ff;}#sk-container-id-21 div.sk-toggleable__content pre {margin: 0.2em;color: black;border-radius: 0.25em;background-color: #f0f8ff;}#sk-container-id-21 input.sk-toggleable__control:checked~div.sk-toggleable__content {max-height: 200px;max-width: 100%;overflow: auto;}#sk-container-id-21 input.sk-toggleable__control:checked~label.sk-toggleable__label-arrow:before {content: \"▾\";}#sk-container-id-21 div.sk-estimator input.sk-toggleable__control:checked~label.sk-toggleable__label {background-color: #d4ebff;}#sk-container-id-21 div.sk-label input.sk-toggleable__control:checked~label.sk-toggleable__label {background-color: #d4ebff;}#sk-container-id-21 input.sk-hidden--visually {border: 0;clip: rect(1px 1px 1px 1px);clip: rect(1px, 1px, 1px, 1px);height: 1px;margin: -1px;overflow: hidden;padding: 0;position: absolute;width: 1px;}#sk-container-id-21 div.sk-estimator {font-family: monospace;background-color: #f0f8ff;border: 1px dotted black;border-radius: 0.25em;box-sizing: border-box;margin-bottom: 0.5em;}#sk-container-id-21 div.sk-estimator:hover {background-color: #d4ebff;}#sk-container-id-21 div.sk-parallel-item::after {content: \"\";width: 100%;border-bottom: 1px solid gray;flex-grow: 1;}#sk-container-id-21 div.sk-label:hover label.sk-toggleable__label {background-color: #d4ebff;}#sk-container-id-21 div.sk-serial::before {content: \"\";position: absolute;border-left: 1px solid gray;box-sizing: border-box;top: 0;bottom: 0;left: 50%;z-index: 0;}#sk-container-id-21 div.sk-serial {display: flex;flex-direction: column;align-items: center;background-color: white;padding-right: 0.2em;padding-left: 0.2em;position: relative;}#sk-container-id-21 div.sk-item {position: relative;z-index: 1;}#sk-container-id-21 div.sk-parallel {display: flex;align-items: stretch;justify-content: center;background-color: white;position: relative;}#sk-container-id-21 div.sk-item::before, #sk-container-id-21 div.sk-parallel-item::before {content: \"\";position: absolute;border-left: 1px solid gray;box-sizing: border-box;top: 0;bottom: 0;left: 50%;z-index: -1;}#sk-container-id-21 div.sk-parallel-item {display: flex;flex-direction: column;z-index: 1;position: relative;background-color: white;}#sk-container-id-21 div.sk-parallel-item:first-child::after {align-self: flex-end;width: 50%;}#sk-container-id-21 div.sk-parallel-item:last-child::after {align-self: flex-start;width: 50%;}#sk-container-id-21 div.sk-parallel-item:only-child::after {width: 0;}#sk-container-id-21 div.sk-dashed-wrapped {border: 1px dashed gray;margin: 0 0.4em 0.5em 0.4em;box-sizing: border-box;padding-bottom: 0.4em;background-color: white;}#sk-container-id-21 div.sk-label label {font-family: monospace;font-weight: bold;display: inline-block;line-height: 1.2em;}#sk-container-id-21 div.sk-label-container {text-align: center;}#sk-container-id-21 div.sk-container {/* jupyter's `normalize.less` sets `[hidden] { display: none; }` but bootstrap.min.css set `[hidden] { display: none !important; }` so we also need the `!important` here to be able to override the default hidden behavior on the sphinx rendered scikit-learn.org. See: https://github.com/scikit-learn/scikit-learn/issues/21755 */display: inline-block !important;position: relative;}#sk-container-id-21 div.sk-text-repr-fallback {display: none;}</style><div id=\"sk-container-id-21\" class=\"sk-top-container\"><div class=\"sk-text-repr-fallback\"><pre>GridSearchCV(cv=3,\n",
       "             estimator=&lt;tensorflow.python.keras.wrappers.scikit_learn.KerasRegressor object at 0x2bea1e160&gt;,\n",
       "             param_grid={&#x27;drop&#x27;: [0.1, 0.25, 0.5], &#x27;epochs&#x27;: [100],\n",
       "                         &#x27;h1_neurons&#x27;: [16, 64, 128], &#x27;h2_neurons&#x27;: [64, 128]})</pre><b>In a Jupyter environment, please rerun this cell to show the HTML representation or trust the notebook. <br />On GitHub, the HTML representation is unable to render, please try loading this page with nbviewer.org.</b></div><div class=\"sk-container\" hidden><div class=\"sk-item sk-dashed-wrapped\"><div class=\"sk-label-container\"><div class=\"sk-label sk-toggleable\"><input class=\"sk-toggleable__control sk-hidden--visually\" id=\"sk-estimator-id-27\" type=\"checkbox\" ><label for=\"sk-estimator-id-27\" class=\"sk-toggleable__label sk-toggleable__label-arrow\">GridSearchCV</label><div class=\"sk-toggleable__content\"><pre>GridSearchCV(cv=3,\n",
       "             estimator=&lt;tensorflow.python.keras.wrappers.scikit_learn.KerasRegressor object at 0x2bea1e160&gt;,\n",
       "             param_grid={&#x27;drop&#x27;: [0.1, 0.25, 0.5], &#x27;epochs&#x27;: [100],\n",
       "                         &#x27;h1_neurons&#x27;: [16, 64, 128], &#x27;h2_neurons&#x27;: [64, 128]})</pre></div></div></div><div class=\"sk-parallel\"><div class=\"sk-parallel-item\"><div class=\"sk-item\"><div class=\"sk-label-container\"><div class=\"sk-label sk-toggleable\"><input class=\"sk-toggleable__control sk-hidden--visually\" id=\"sk-estimator-id-28\" type=\"checkbox\" ><label for=\"sk-estimator-id-28\" class=\"sk-toggleable__label sk-toggleable__label-arrow\">estimator: KerasRegressor</label><div class=\"sk-toggleable__content\"><pre>&lt;tensorflow.python.keras.wrappers.scikit_learn.KerasRegressor object at 0x2bea1e160&gt;</pre></div></div></div><div class=\"sk-serial\"><div class=\"sk-item\"><div class=\"sk-estimator sk-toggleable\"><input class=\"sk-toggleable__control sk-hidden--visually\" id=\"sk-estimator-id-29\" type=\"checkbox\" ><label for=\"sk-estimator-id-29\" class=\"sk-toggleable__label sk-toggleable__label-arrow\">KerasRegressor</label><div class=\"sk-toggleable__content\"><pre>&lt;tensorflow.python.keras.wrappers.scikit_learn.KerasRegressor object at 0x2bea1e160&gt;</pre></div></div></div></div></div></div></div></div></div></div>"
      ],
      "text/plain": [
       "GridSearchCV(cv=3,\n",
       "             estimator=<tensorflow.python.keras.wrappers.scikit_learn.KerasRegressor object at 0x2bea1e160>,\n",
       "             param_grid={'drop': [0.1, 0.25, 0.5], 'epochs': [100],\n",
       "                         'h1_neurons': [16, 64, 128], 'h2_neurons': [64, 128]})"
      ]
     },
     "execution_count": 417,
     "metadata": {},
     "output_type": "execute_result"
    }
   ],
   "source": [
    "# 19 min to run\n",
    "nn_grid = GridSearchCV(nn, param_grid = params, cv = 3)\n",
    "nn_grid.fit(X_train_sc, y_train)"
   ]
  },
  {
   "cell_type": "code",
   "execution_count": 418,
   "metadata": {},
   "outputs": [
    {
     "name": "stdout",
     "output_type": "stream",
     "text": [
      "Best Score: -0.16301271816094717\n",
      "Best parameters: {'drop': 0.1, 'epochs': 100, 'h1_neurons': 16, 'h2_neurons': 64}\n"
     ]
    }
   ],
   "source": [
    "print(f'Best Score: {nn_grid.best_score_}')\n",
    "print(f'Best parameters: {nn_grid.best_params_}')"
   ]
  },
  {
   "cell_type": "code",
   "execution_count": 419,
   "metadata": {},
   "outputs": [
    {
     "name": "stdout",
     "output_type": "stream",
     "text": [
      "Best Score : -0.16301271816094717\n",
      "Best Parameters: {'drop': 0.1, 'epochs': 100, 'h1_neurons': 16, 'h2_neurons': 64}\n"
     ]
    },
    {
     "name": "stderr",
     "output_type": "stream",
     "text": [
      "2022-11-13 20:37:36.867693: I tensorflow/core/grappler/optimizers/custom_graph_optimizer_registry.cc:112] Plugin optimizer for device_type GPU is enabled.\n"
     ]
    },
    {
     "name": "stdout",
     "output_type": "stream",
     "text": [
      "Score on training set: -0.12174005061388016\n",
      "Score on test set: -0.14215710759162903\n"
     ]
    }
   ],
   "source": [
    "# Printing Outputs\n",
    "print(f'Best Score : {nn_grid.best_score_}')\n",
    "print(f'Best Parameters: {nn_grid.best_params_}') \n",
    "print(f'Score on training set: {nn_grid.score(X_train_sc, y_train)}')\n",
    "print(f'Score on test set: {nn_grid.score(X_test_sc, y_test)}')"
   ]
  },
  {
   "cell_type": "code",
   "execution_count": 420,
   "metadata": {},
   "outputs": [
    {
     "name": "stdout",
     "output_type": "stream",
     "text": [
      "MAE: 114.79407730916533\n",
      "MSE: 16128.246378605112\n",
      "RMSE: 126.99703295197534\n",
      "R2: -42100.69004328466\n"
     ]
    },
    {
     "name": "stderr",
     "output_type": "stream",
     "text": [
      "2022-11-13 20:37:37.346529: I tensorflow/core/grappler/optimizers/custom_graph_optimizer_registry.cc:112] Plugin optimizer for device_type GPU is enabled.\n"
     ]
    }
   ],
   "source": [
    "# Calculate residual\n",
    "nn_y_preds = np.exp(nn_grid.best_estimator_.predict(X_train_sc))\n",
    "residuals = y_train - nn_y_preds\n",
    "\n",
    "# Metrics\n",
    "print(f'MAE: {metrics.mean_absolute_error(y_train, nn_y_preds)}')\n",
    "print(f'MSE: {metrics.mean_squared_error(y_train, nn_y_preds)}')\n",
    "print(f'RMSE: {metrics.mean_squared_error(y_train, nn_y_preds, squared = False)}')\n",
    "print(f'R2: {metrics.r2_score(y_train, nn_y_preds)}')"
   ]
  },
  {
   "cell_type": "markdown",
   "metadata": {},
   "source": [
    "## 4.8. Stacking \n"
   ]
  },
  {
   "cell_type": "markdown",
   "metadata": {},
   "source": [
    "Getting the predictions from models (level 1) to use as features for an another model (level 2)"
   ]
  },
  {
   "cell_type": "code",
   "execution_count": 421,
   "metadata": {},
   "outputs": [
    {
     "data": {
      "text/html": [
       "<div>\n",
       "<style scoped>\n",
       "    .dataframe tbody tr th:only-of-type {\n",
       "        vertical-align: middle;\n",
       "    }\n",
       "\n",
       "    .dataframe tbody tr th {\n",
       "        vertical-align: top;\n",
       "    }\n",
       "\n",
       "    .dataframe thead th {\n",
       "        text-align: right;\n",
       "    }\n",
       "</style>\n",
       "<table border=\"1\" class=\"dataframe\">\n",
       "  <thead>\n",
       "    <tr style=\"text-align: right;\">\n",
       "      <th></th>\n",
       "      <th>model_rf</th>\n",
       "      <th>model_dt</th>\n",
       "      <th>model_ridge</th>\n",
       "    </tr>\n",
       "  </thead>\n",
       "  <tbody>\n",
       "    <tr>\n",
       "      <th>8131</th>\n",
       "      <td>4.965937</td>\n",
       "      <td>5.441017</td>\n",
       "      <td>4.737026</td>\n",
       "    </tr>\n",
       "    <tr>\n",
       "      <th>1276</th>\n",
       "      <td>4.700655</td>\n",
       "      <td>4.689340</td>\n",
       "      <td>4.756415</td>\n",
       "    </tr>\n",
       "    <tr>\n",
       "      <th>13904</th>\n",
       "      <td>3.811004</td>\n",
       "      <td>3.919718</td>\n",
       "      <td>4.420313</td>\n",
       "    </tr>\n",
       "    <tr>\n",
       "      <th>6259</th>\n",
       "      <td>4.671730</td>\n",
       "      <td>4.962515</td>\n",
       "      <td>4.783565</td>\n",
       "    </tr>\n",
       "    <tr>\n",
       "      <th>7348</th>\n",
       "      <td>3.912340</td>\n",
       "      <td>4.464705</td>\n",
       "      <td>4.446916</td>\n",
       "    </tr>\n",
       "    <tr>\n",
       "      <th>...</th>\n",
       "      <td>...</td>\n",
       "      <td>...</td>\n",
       "      <td>...</td>\n",
       "    </tr>\n",
       "    <tr>\n",
       "      <th>11964</th>\n",
       "      <td>4.953207</td>\n",
       "      <td>5.482325</td>\n",
       "      <td>5.068292</td>\n",
       "    </tr>\n",
       "    <tr>\n",
       "      <th>21575</th>\n",
       "      <td>5.213951</td>\n",
       "      <td>5.206480</td>\n",
       "      <td>5.216703</td>\n",
       "    </tr>\n",
       "    <tr>\n",
       "      <th>5390</th>\n",
       "      <td>4.668029</td>\n",
       "      <td>4.689340</td>\n",
       "      <td>4.696768</td>\n",
       "    </tr>\n",
       "    <tr>\n",
       "      <th>860</th>\n",
       "      <td>5.414713</td>\n",
       "      <td>5.441017</td>\n",
       "      <td>5.331197</td>\n",
       "    </tr>\n",
       "    <tr>\n",
       "      <th>15795</th>\n",
       "      <td>5.468677</td>\n",
       "      <td>4.917092</td>\n",
       "      <td>5.085897</td>\n",
       "    </tr>\n",
       "  </tbody>\n",
       "</table>\n",
       "<p>15528 rows × 3 columns</p>\n",
       "</div>"
      ],
      "text/plain": [
       "       model_rf  model_dt  model_ridge\n",
       "8131   4.965937  5.441017     4.737026\n",
       "1276   4.700655  4.689340     4.756415\n",
       "13904  3.811004  3.919718     4.420313\n",
       "6259   4.671730  4.962515     4.783565\n",
       "7348   3.912340  4.464705     4.446916\n",
       "...         ...       ...          ...\n",
       "11964  4.953207  5.482325     5.068292\n",
       "21575  5.213951  5.206480     5.216703\n",
       "5390   4.668029  4.689340     4.696768\n",
       "860    5.414713  5.441017     5.331197\n",
       "15795  5.468677  4.917092     5.085897\n",
       "\n",
       "[15528 rows x 3 columns]"
      ]
     },
     "execution_count": 421,
     "metadata": {},
     "output_type": "execute_result"
    }
   ],
   "source": [
    "X_pred_train = pd.DataFrame(index = X_train.index)\n",
    "\n",
    "X_pred_train['model_rf'] = rf_grid.best_estimator_.predict(X_train_sc) # Radom Forest Model Predictions\n",
    "X_pred_train['model_dt'] = dt_grid.best_estimator_.predict(X_train_sc) # Decision Trees Model Predictions\n",
    "X_pred_train['model_ridge'] = ridge.predict(X_train_sc) # Linear Regression Ridge Regulatization Predictions\n",
    "X_pred_train"
   ]
  },
  {
   "cell_type": "code",
   "execution_count": 422,
   "metadata": {},
   "outputs": [
    {
     "data": {
      "text/plain": [
       "-2.52333141395823e+26"
      ]
     },
     "execution_count": 422,
     "metadata": {},
     "output_type": "execute_result"
    }
   ],
   "source": [
    "stacked_model = LinearRegression()\n",
    "cross_val_score(stacked_model, X_train_sc, y_train).mean()"
   ]
  },
  {
   "cell_type": "code",
   "execution_count": 423,
   "metadata": {},
   "outputs": [
    {
     "data": {
      "text/html": [
       "<style>#sk-container-id-22 {color: black;background-color: white;}#sk-container-id-22 pre{padding: 0;}#sk-container-id-22 div.sk-toggleable {background-color: white;}#sk-container-id-22 label.sk-toggleable__label {cursor: pointer;display: block;width: 100%;margin-bottom: 0;padding: 0.3em;box-sizing: border-box;text-align: center;}#sk-container-id-22 label.sk-toggleable__label-arrow:before {content: \"▸\";float: left;margin-right: 0.25em;color: #696969;}#sk-container-id-22 label.sk-toggleable__label-arrow:hover:before {color: black;}#sk-container-id-22 div.sk-estimator:hover label.sk-toggleable__label-arrow:before {color: black;}#sk-container-id-22 div.sk-toggleable__content {max-height: 0;max-width: 0;overflow: hidden;text-align: left;background-color: #f0f8ff;}#sk-container-id-22 div.sk-toggleable__content pre {margin: 0.2em;color: black;border-radius: 0.25em;background-color: #f0f8ff;}#sk-container-id-22 input.sk-toggleable__control:checked~div.sk-toggleable__content {max-height: 200px;max-width: 100%;overflow: auto;}#sk-container-id-22 input.sk-toggleable__control:checked~label.sk-toggleable__label-arrow:before {content: \"▾\";}#sk-container-id-22 div.sk-estimator input.sk-toggleable__control:checked~label.sk-toggleable__label {background-color: #d4ebff;}#sk-container-id-22 div.sk-label input.sk-toggleable__control:checked~label.sk-toggleable__label {background-color: #d4ebff;}#sk-container-id-22 input.sk-hidden--visually {border: 0;clip: rect(1px 1px 1px 1px);clip: rect(1px, 1px, 1px, 1px);height: 1px;margin: -1px;overflow: hidden;padding: 0;position: absolute;width: 1px;}#sk-container-id-22 div.sk-estimator {font-family: monospace;background-color: #f0f8ff;border: 1px dotted black;border-radius: 0.25em;box-sizing: border-box;margin-bottom: 0.5em;}#sk-container-id-22 div.sk-estimator:hover {background-color: #d4ebff;}#sk-container-id-22 div.sk-parallel-item::after {content: \"\";width: 100%;border-bottom: 1px solid gray;flex-grow: 1;}#sk-container-id-22 div.sk-label:hover label.sk-toggleable__label {background-color: #d4ebff;}#sk-container-id-22 div.sk-serial::before {content: \"\";position: absolute;border-left: 1px solid gray;box-sizing: border-box;top: 0;bottom: 0;left: 50%;z-index: 0;}#sk-container-id-22 div.sk-serial {display: flex;flex-direction: column;align-items: center;background-color: white;padding-right: 0.2em;padding-left: 0.2em;position: relative;}#sk-container-id-22 div.sk-item {position: relative;z-index: 1;}#sk-container-id-22 div.sk-parallel {display: flex;align-items: stretch;justify-content: center;background-color: white;position: relative;}#sk-container-id-22 div.sk-item::before, #sk-container-id-22 div.sk-parallel-item::before {content: \"\";position: absolute;border-left: 1px solid gray;box-sizing: border-box;top: 0;bottom: 0;left: 50%;z-index: -1;}#sk-container-id-22 div.sk-parallel-item {display: flex;flex-direction: column;z-index: 1;position: relative;background-color: white;}#sk-container-id-22 div.sk-parallel-item:first-child::after {align-self: flex-end;width: 50%;}#sk-container-id-22 div.sk-parallel-item:last-child::after {align-self: flex-start;width: 50%;}#sk-container-id-22 div.sk-parallel-item:only-child::after {width: 0;}#sk-container-id-22 div.sk-dashed-wrapped {border: 1px dashed gray;margin: 0 0.4em 0.5em 0.4em;box-sizing: border-box;padding-bottom: 0.4em;background-color: white;}#sk-container-id-22 div.sk-label label {font-family: monospace;font-weight: bold;display: inline-block;line-height: 1.2em;}#sk-container-id-22 div.sk-label-container {text-align: center;}#sk-container-id-22 div.sk-container {/* jupyter's `normalize.less` sets `[hidden] { display: none; }` but bootstrap.min.css set `[hidden] { display: none !important; }` so we also need the `!important` here to be able to override the default hidden behavior on the sphinx rendered scikit-learn.org. See: https://github.com/scikit-learn/scikit-learn/issues/21755 */display: inline-block !important;position: relative;}#sk-container-id-22 div.sk-text-repr-fallback {display: none;}</style><div id=\"sk-container-id-22\" class=\"sk-top-container\"><div class=\"sk-text-repr-fallback\"><pre>LinearRegression()</pre><b>In a Jupyter environment, please rerun this cell to show the HTML representation or trust the notebook. <br />On GitHub, the HTML representation is unable to render, please try loading this page with nbviewer.org.</b></div><div class=\"sk-container\" hidden><div class=\"sk-item\"><div class=\"sk-estimator sk-toggleable\"><input class=\"sk-toggleable__control sk-hidden--visually\" id=\"sk-estimator-id-30\" type=\"checkbox\" checked><label for=\"sk-estimator-id-30\" class=\"sk-toggleable__label sk-toggleable__label-arrow\">LinearRegression</label><div class=\"sk-toggleable__content\"><pre>LinearRegression()</pre></div></div></div></div></div>"
      ],
      "text/plain": [
       "LinearRegression()"
      ]
     },
     "execution_count": 423,
     "metadata": {},
     "output_type": "execute_result"
    }
   ],
   "source": [
    "# Fit\n",
    "stacked_model.fit(X_pred_train, y_train)"
   ]
  },
  {
   "cell_type": "code",
   "execution_count": 424,
   "metadata": {},
   "outputs": [
    {
     "data": {
      "text/plain": [
       "0.9619771563680086"
      ]
     },
     "execution_count": 424,
     "metadata": {},
     "output_type": "execute_result"
    }
   ],
   "source": [
    "# Train score\n",
    "stacked_model.score(X_pred_train, y_train)"
   ]
  },
  {
   "cell_type": "code",
   "execution_count": 425,
   "metadata": {},
   "outputs": [
    {
     "data": {
      "text/html": [
       "<div>\n",
       "<style scoped>\n",
       "    .dataframe tbody tr th:only-of-type {\n",
       "        vertical-align: middle;\n",
       "    }\n",
       "\n",
       "    .dataframe tbody tr th {\n",
       "        vertical-align: top;\n",
       "    }\n",
       "\n",
       "    .dataframe thead th {\n",
       "        text-align: right;\n",
       "    }\n",
       "</style>\n",
       "<table border=\"1\" class=\"dataframe\">\n",
       "  <thead>\n",
       "    <tr style=\"text-align: right;\">\n",
       "      <th></th>\n",
       "      <th>model_rf</th>\n",
       "      <th>model_dt</th>\n",
       "      <th>model_ridge</th>\n",
       "    </tr>\n",
       "  </thead>\n",
       "  <tbody>\n",
       "    <tr>\n",
       "      <th>563</th>\n",
       "      <td>5.166495</td>\n",
       "      <td>5.072247</td>\n",
       "      <td>4.658761</td>\n",
       "    </tr>\n",
       "    <tr>\n",
       "      <th>1383</th>\n",
       "      <td>5.210390</td>\n",
       "      <td>5.072247</td>\n",
       "      <td>5.225239</td>\n",
       "    </tr>\n",
       "    <tr>\n",
       "      <th>2404</th>\n",
       "      <td>4.107833</td>\n",
       "      <td>4.348723</td>\n",
       "      <td>4.267906</td>\n",
       "    </tr>\n",
       "    <tr>\n",
       "      <th>16430</th>\n",
       "      <td>5.265836</td>\n",
       "      <td>5.206480</td>\n",
       "      <td>5.356358</td>\n",
       "    </tr>\n",
       "    <tr>\n",
       "      <th>13160</th>\n",
       "      <td>4.028366</td>\n",
       "      <td>4.348723</td>\n",
       "      <td>3.798116</td>\n",
       "    </tr>\n",
       "    <tr>\n",
       "      <th>...</th>\n",
       "      <td>...</td>\n",
       "      <td>...</td>\n",
       "      <td>...</td>\n",
       "    </tr>\n",
       "    <tr>\n",
       "      <th>7003</th>\n",
       "      <td>5.037302</td>\n",
       "      <td>5.247404</td>\n",
       "      <td>5.048072</td>\n",
       "    </tr>\n",
       "    <tr>\n",
       "      <th>16719</th>\n",
       "      <td>4.949960</td>\n",
       "      <td>4.687038</td>\n",
       "      <td>4.841479</td>\n",
       "    </tr>\n",
       "    <tr>\n",
       "      <th>3788</th>\n",
       "      <td>5.333013</td>\n",
       "      <td>5.425551</td>\n",
       "      <td>5.211080</td>\n",
       "    </tr>\n",
       "    <tr>\n",
       "      <th>9068</th>\n",
       "      <td>5.511150</td>\n",
       "      <td>5.206480</td>\n",
       "      <td>5.307202</td>\n",
       "    </tr>\n",
       "    <tr>\n",
       "      <th>8288</th>\n",
       "      <td>4.456763</td>\n",
       "      <td>4.119325</td>\n",
       "      <td>4.658549</td>\n",
       "    </tr>\n",
       "  </tbody>\n",
       "</table>\n",
       "<p>6655 rows × 3 columns</p>\n",
       "</div>"
      ],
      "text/plain": [
       "       model_rf  model_dt  model_ridge\n",
       "563    5.166495  5.072247     4.658761\n",
       "1383   5.210390  5.072247     5.225239\n",
       "2404   4.107833  4.348723     4.267906\n",
       "16430  5.265836  5.206480     5.356358\n",
       "13160  4.028366  4.348723     3.798116\n",
       "...         ...       ...          ...\n",
       "7003   5.037302  5.247404     5.048072\n",
       "16719  4.949960  4.687038     4.841479\n",
       "3788   5.333013  5.425551     5.211080\n",
       "9068   5.511150  5.206480     5.307202\n",
       "8288   4.456763  4.119325     4.658549\n",
       "\n",
       "[6655 rows x 3 columns]"
      ]
     },
     "execution_count": 425,
     "metadata": {},
     "output_type": "execute_result"
    }
   ],
   "source": [
    "X_pred_test = pd.DataFrame(index = X_test.index)\n",
    "\n",
    "X_pred_test['model_rf'] = rf_grid.best_estimator_.predict(X_test_sc) # Radom Forest Model Predictions\n",
    "X_pred_test['model_dt'] = dt_grid.best_estimator_.predict(X_test_sc)# Decision Trees Model Predictions\n",
    "X_pred_test['model_ridge'] = ridge.predict(X_test_sc)# Linear Regression Ridge Regulatization Predictions\n",
    "X_pred_test"
   ]
  },
  {
   "cell_type": "code",
   "execution_count": 426,
   "metadata": {},
   "outputs": [
    {
     "data": {
      "text/plain": [
       "0.6596941749492522"
      ]
     },
     "execution_count": 426,
     "metadata": {},
     "output_type": "execute_result"
    }
   ],
   "source": [
    "# Test score\n",
    "stacked_model.score(X_pred_test, y_test)"
   ]
  },
  {
   "cell_type": "code",
   "execution_count": 427,
   "metadata": {},
   "outputs": [
    {
     "name": "stdout",
     "output_type": "stream",
     "text": [
      "MAE: 137.75646960426155\n",
      "MSE: 26243.295964788194\n",
      "RMSE: 161.99782703724205\n",
      "R2: -68505.33890919357\n"
     ]
    }
   ],
   "source": [
    "# Calcuate residual\n",
    "stacked_y_preds = np.exp(stacked_model.predict(X_pred_train))\n",
    "residuals = y_train - stacked_y_preds\n",
    "\n",
    "# Metrics\n",
    "print(f'MAE: {metrics.mean_absolute_error(y_train, stacked_y_preds)}')\n",
    "print(f'MSE: {metrics.mean_squared_error(y_train, stacked_y_preds)}')\n",
    "print(f'RMSE: {metrics.mean_squared_error(y_train, stacked_y_preds, squared = False)}')\n",
    "print(f'R2: {metrics.r2_score(y_train, stacked_y_preds)}')"
   ]
  },
  {
   "cell_type": "markdown",
   "metadata": {},
   "source": [
    "## 4.9. Stacked Model ElasticNet"
   ]
  },
  {
   "cell_type": "code",
   "execution_count": 428,
   "metadata": {},
   "outputs": [
    {
     "name": "stdout",
     "output_type": "stream",
     "text": [
      "0.6862301133117402\n",
      "0.5913961196974648\n"
     ]
    }
   ],
   "source": [
    "# Set up a list of alphas to check.\n",
    "enet_alphas = np.linspace(0.5, 1.0, 100)\n",
    "\n",
    "# Set up our l1 ratio - the amount of L1 vs L2 penalty. \n",
    "# An l1_ratio of 0 is equivalent to the Ridge, whereas an l1_ratio of 1 is equivalent to the Lasso.\n",
    "enet_ratio = 0.01\n",
    "\n",
    "# Instantiate model.\n",
    "enet_model = ElasticNetCV(alphas=enet_alphas, l1_ratio=enet_ratio, cv=5)\n",
    "\n",
    "# Fit model using optimal alpha.\n",
    "enet_model = enet_model.fit(X_pred_train, y_train)\n",
    "\n",
    "# Evaluate model.\n",
    "print(enet_model.score(X_pred_train, y_train))\n",
    "print(enet_model.score(X_pred_test, y_test))"
   ]
  },
  {
   "cell_type": "code",
   "execution_count": 429,
   "metadata": {},
   "outputs": [
    {
     "name": "stdout",
     "output_type": "stream",
     "text": [
      "MAE: 120.98486644250174\n",
      "MSE: 16199.586699596804\n",
      "RMSE: 127.27759700590204\n",
      "R2: -42286.91909828999\n"
     ]
    }
   ],
   "source": [
    "# Calcuate residual\n",
    "enet_model_preds_train = np.exp(enet_model.predict(X_pred_train))\n",
    "residuals = y_train - enet_model_preds_train\n",
    "\n",
    "# Metrics\n",
    "print(f'MAE: {metrics.mean_absolute_error(y_train, enet_model_preds_train)}')\n",
    "print(f'MSE: {metrics.mean_squared_error(y_train, enet_model_preds_train)}')\n",
    "print(f'RMSE: {metrics.mean_squared_error(y_train, enet_model_preds_train, squared = False)}')\n",
    "print(f'R2: {metrics.r2_score(y_train, enet_model_preds_train)}')"
   ]
  },
  {
   "cell_type": "markdown",
   "metadata": {},
   "source": [
    "## 4.10. Models Benchmarks\n",
    "_________________"
   ]
  },
  {
   "cell_type": "code",
   "execution_count": 430,
   "metadata": {},
   "outputs": [
    {
     "name": "stdout",
     "output_type": "stream",
     "text": [
      " ### Linear Regression\n",
      "Training Score: 0.7506849327550738\n",
      "Testing Score: 0.611784620963719\n",
      "MSE: 21939.11375940596\n",
      "RMSE: 148.118580061402\n",
      " ### Lasso Regularization\n",
      "Lasson Train Score:  0.6520600188114305\n",
      "Lasso Test Score 0.6362987358429693\n",
      "MSE: 21281.535131747663\n",
      "RMSE: 145.88192188118327\n",
      " ### Ridge Regularization \n",
      "Training Score: 0.6530286770043647\n",
      "Testing Score: 0.6348298958183168\n",
      "MSE: 21446.079687456328\n",
      "RMSE: 146.44480082084283\n",
      " ### KNearestNeighborhood GridSearch\n",
      "Training Score: 0.7171547353026566\n",
      "Testing Score: 0.6367074193300511\n",
      "MSE: 21939.11375940596\n",
      "RMSE: 148.118580061402\n",
      " ### DecisionTrees GridSearch\n",
      "Score on training set: 0.6244990075710447\n",
      "Score on testing set: 0.6039309359709839\n",
      "MSE: 20488.66911379518\n",
      "RMSE: 143.13863599250615\n",
      " ### RainForest GridSearch\n",
      "Score on training set: 0.9313826508625533\n",
      "Score on test set: 0.6906297661702103\n",
      "MSE: 23268.440440651048\n",
      "RMSE: 152.5399634215606\n",
      " ### NeuralNetworks GridSearch\n",
      "Score on training set: -0.12174005061388016\n",
      "Score on test set: -0.14215710759162903\n",
      "MSE: 16128.246378605112\n",
      "RMSE: 126.99703295197534\n",
      " ### Stacking Model\n",
      "Train score:0.9619771563680086\n",
      "Test score:0.6596941749492522\n",
      "MSE: 26243.295964788194\n",
      "RMSE: 161.99782703724205\n",
      " ### ElasticNet Stacking Model\n",
      "MSE: 16199.586699596804\n",
      "RMSE: 127.27759700590204\n",
      "Training Score:0.6862301133117402\n",
      "Testining Score:0.5913961196974648\n"
     ]
    }
   ],
   "source": [
    "print(f' ### Linear Regression')\n",
    "print(f'Training Score: {knn.score(X_train_sc, y_train)}')\n",
    "print(f'Testing Score: {knn.score(X_test_sc, y_test)}')\n",
    "print(f'MSE: {metrics.mean_squared_error(y_train, knn_y_preds)}')\n",
    "print(f'RMSE: {metrics.mean_squared_error(y_train, knn_y_preds, squared = False)}')\n",
    "print(f' ### Lasso Regularization')\n",
    "print(\"Lasson Train Score: \", lasso_cv.score(X_train_sc, y_train))\n",
    "print(\"Lasso Test Score\", lasso_cv.score(X_test_sc, y_test))\n",
    "print(f'MSE: {metrics.mean_squared_error(y_train, lasso_y_preds)}')\n",
    "print(f'RMSE: {metrics.mean_squared_error(y_train, lasso_y_preds, squared = False)}')\n",
    "print(f' ### Ridge Regularization ')\n",
    "print(f'Training Score: {ridge.score(X_train_sc, y_train)}')\n",
    "print(f'Testing Score: {ridge.score(X_test_sc, y_test)}')\n",
    "print(f'MSE: {metrics.mean_squared_error(y_train, ridge_y_preds)}')\n",
    "print(f'RMSE: {metrics.mean_squared_error(y_train, ridge_y_preds, squared = False)}')\n",
    "print(f' ### KNearestNeighborhood GridSearch')\n",
    "print(f'Training Score: {knn_grid.score(X_train_sc, y_train)}')\n",
    "print(f'Testing Score: {knn_grid.score(X_test_sc, y_test)}')\n",
    "print(f'MSE: {metrics.mean_squared_error(y_train, knn_y_preds)}')\n",
    "print(f'RMSE: {metrics.mean_squared_error(y_train, knn_y_preds, squared = False)}')\n",
    "print(f' ### DecisionTrees GridSearch')\n",
    "print(f'Score on training set: {dt_grid.score(X_train_sc, y_train)}')\n",
    "print(f'Score on testing set: {dt_grid.score(X_test_sc, y_test)}')\n",
    "print(f'MSE: {metrics.mean_squared_error(y_train, dt_y_preds)}')\n",
    "print(f'RMSE: {metrics.mean_squared_error(y_train, dt_y_preds, squared = False)}')\n",
    "print(f' ### RainForest GridSearch')\n",
    "print(f'Score on training set: {rf_grid.score(X_train_sc, y_train)}')\n",
    "print(f'Score on test set: {rf_grid.score(X_test_sc, y_test)}')\n",
    "print(f'MSE: {metrics.mean_squared_error(y_train, rf_y_preds)}')\n",
    "print(f'RMSE: {metrics.mean_squared_error(y_train, rf_y_preds, squared = False)}')\n",
    "print(f' ### NeuralNetworks GridSearch')\n",
    "print(f'Score on training set: {nn_grid.score(X_train_sc, y_train)}')\n",
    "print(f'Score on test set: {nn_grid.score(X_test_sc, y_test)}')\n",
    "print(f'MSE: {metrics.mean_squared_error(y_train, nn_y_preds)}')\n",
    "print(f'RMSE: {metrics.mean_squared_error(y_train, nn_y_preds, squared = False)}')\n",
    "print(f' ### Stacking Model')\n",
    "print(f'Train score:{stacked_model.score(X_pred_train, y_train)}')\n",
    "print(f'Test score:{stacked_model.score(X_pred_test, y_test)}')\n",
    "print(f'MSE: {metrics.mean_squared_error(y_train, stacked_y_preds)}')\n",
    "print(f'RMSE: {metrics.mean_squared_error(y_train, stacked_y_preds, squared = False)}')\n",
    "print(f' ### ElasticNet Stacking Model')\n",
    "print(f'MSE: {metrics.mean_squared_error(y_train, enet_model_preds_train)}')\n",
    "print(f'RMSE: {metrics.mean_squared_error(y_train, enet_model_preds_train, squared = False)}')\n",
    "print(f'Training Score:{enet_model.score(X_pred_train, y_train)}')\n",
    "print(f'Testining Score:{enet_model.score(X_pred_test, y_test)}')"
   ]
  },
  {
   "cell_type": "markdown",
   "metadata": {},
   "source": [
    "# 5. Pickling a Model\n",
    "___"
   ]
  },
  {
   "cell_type": "markdown",
   "metadata": {},
   "source": [
    "Pickling a model to build a streamlit app."
   ]
  },
  {
   "cell_type": "code",
   "execution_count": 431,
   "metadata": {},
   "outputs": [],
   "source": [
    "with open('../models/rf_model.pkl', 'wb') as f:\n",
    "    pickle.dump(rf_grid, f)"
   ]
  }
 ],
 "metadata": {
  "kernelspec": {
   "display_name": "Python 3.9.13 ('tensorflow_new')",
   "language": "python",
   "name": "python3"
  },
  "language_info": {
   "codemirror_mode": {
    "name": "ipython",
    "version": 3
   },
   "file_extension": ".py",
   "mimetype": "text/x-python",
   "name": "python",
   "nbconvert_exporter": "python",
   "pygments_lexer": "ipython3",
   "version": "3.9.13"
  },
  "vscode": {
   "interpreter": {
    "hash": "68f87617eaf229a4406a5c34f896188575293ad13938ce4d358a06fe77b1adab"
   }
  }
 },
 "nbformat": 4,
 "nbformat_minor": 2
}
