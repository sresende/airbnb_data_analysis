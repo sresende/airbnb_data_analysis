{
 "cells": [
  {
   "cell_type": "markdown",
   "metadata": {},
   "source": [
    "# Capstone Project: Airbnb Prediciting Prices \n",
    "____"
   ]
  },
  {
   "cell_type": "code",
   "execution_count": 3,
   "metadata": {},
   "outputs": [],
   "source": [
    "# Importing libraries\n",
    "import pandas as pd\n",
    "import numpy as np\n",
    "import matplotlib.pyplot as plt\n",
    "import seaborn as sns\n",
    "import missingno as msno\n",
    "\n",
    "# Libraries for NPL and Regex\n",
    "from nltk.tokenize import RegexpTokenizer\n",
    "import re"
   ]
  },
  {
   "cell_type": "code",
   "execution_count": 4,
   "metadata": {},
   "outputs": [],
   "source": [
    "# Reading datasets\n",
    "listing = pd.read_csv('../data/listings.csv', low_memory=False)\n",
    "neighbourhood_price = pd.read_csv('../data/Neighborhood_price.csv')"
   ]
  },
  {
   "cell_type": "markdown",
   "metadata": {},
   "source": [
    "# 1. Data Cleanning \n",
    "___"
   ]
  },
  {
   "cell_type": "markdown",
   "metadata": {},
   "source": [
    "## 1.1. Neighbourhood_price.csv"
   ]
  },
  {
   "cell_type": "code",
   "execution_count": 5,
   "metadata": {},
   "outputs": [
    {
     "data": {
      "text/html": [
       "<div>\n",
       "<style scoped>\n",
       "    .dataframe tbody tr th:only-of-type {\n",
       "        vertical-align: middle;\n",
       "    }\n",
       "\n",
       "    .dataframe tbody tr th {\n",
       "        vertical-align: top;\n",
       "    }\n",
       "\n",
       "    .dataframe thead th {\n",
       "        text-align: right;\n",
       "    }\n",
       "</style>\n",
       "<table border=\"1\" class=\"dataframe\">\n",
       "  <thead>\n",
       "    <tr style=\"text-align: right;\">\n",
       "      <th></th>\n",
       "      <th>Neighborhood</th>\n",
       "      <th>Median Price Per Sq Foot</th>\n",
       "    </tr>\n",
       "  </thead>\n",
       "  <tbody>\n",
       "    <tr>\n",
       "      <th>0</th>\n",
       "      <td>West Village</td>\n",
       "      <td>7.68</td>\n",
       "    </tr>\n",
       "    <tr>\n",
       "      <th>1</th>\n",
       "      <td>Tribeca</td>\n",
       "      <td>7.64</td>\n",
       "    </tr>\n",
       "    <tr>\n",
       "      <th>2</th>\n",
       "      <td>NoMad</td>\n",
       "      <td>7.63</td>\n",
       "    </tr>\n",
       "  </tbody>\n",
       "</table>\n",
       "</div>"
      ],
      "text/plain": [
       "   Neighborhood  Median Price Per Sq Foot\n",
       "0  West Village                      7.68\n",
       "1       Tribeca                      7.64\n",
       "2         NoMad                      7.63"
      ]
     },
     "execution_count": 5,
     "metadata": {},
     "output_type": "execute_result"
    }
   ],
   "source": [
    "neighbourhood_price.head(3)"
   ]
  },
  {
   "cell_type": "code",
   "execution_count": 6,
   "metadata": {},
   "outputs": [],
   "source": [
    "neighbourhood_price['Neighborhood'] = neighbourhood_price['Neighborhood'].str.lower()"
   ]
  },
  {
   "cell_type": "code",
   "execution_count": 7,
   "metadata": {},
   "outputs": [
    {
     "name": "stdout",
     "output_type": "stream",
     "text": [
      "<class 'pandas.core.frame.DataFrame'>\n",
      "RangeIndex: 185 entries, 0 to 184\n",
      "Data columns (total 2 columns):\n",
      " #   Column                    Non-Null Count  Dtype  \n",
      "---  ------                    --------------  -----  \n",
      " 0   Neighborhood              185 non-null    object \n",
      " 1   Median Price Per Sq Foot  185 non-null    float64\n",
      "dtypes: float64(1), object(1)\n",
      "memory usage: 3.0+ KB\n"
     ]
    }
   ],
   "source": [
    "neighbourhood_price.info()"
   ]
  },
  {
   "cell_type": "code",
   "execution_count": 8,
   "metadata": {},
   "outputs": [
    {
     "data": {
      "text/plain": [
       "(185, 2)"
      ]
     },
     "execution_count": 8,
     "metadata": {},
     "output_type": "execute_result"
    }
   ],
   "source": [
    "neighbourhood_price.shape"
   ]
  },
  {
   "cell_type": "code",
   "execution_count": 9,
   "metadata": {},
   "outputs": [],
   "source": [
    "neighbourhoods = neighbourhood_price['Neighborhood'] "
   ]
  },
  {
   "cell_type": "markdown",
   "metadata": {},
   "source": [
    "## 1.2. Listing.csv"
   ]
  },
  {
   "cell_type": "markdown",
   "metadata": {},
   "source": [
    "### 1.2.1 Checking for Null values"
   ]
  },
  {
   "cell_type": "code",
   "execution_count": 10,
   "metadata": {},
   "outputs": [
    {
     "data": {
      "text/plain": [
       "(39881, 75)"
      ]
     },
     "execution_count": 10,
     "metadata": {},
     "output_type": "execute_result"
    }
   ],
   "source": [
    "listing.shape"
   ]
  },
  {
   "cell_type": "code",
   "execution_count": 11,
   "metadata": {},
   "outputs": [
    {
     "data": {
      "text/html": [
       "<div>\n",
       "<style scoped>\n",
       "    .dataframe tbody tr th:only-of-type {\n",
       "        vertical-align: middle;\n",
       "    }\n",
       "\n",
       "    .dataframe tbody tr th {\n",
       "        vertical-align: top;\n",
       "    }\n",
       "\n",
       "    .dataframe thead th {\n",
       "        text-align: right;\n",
       "    }\n",
       "</style>\n",
       "<table border=\"1\" class=\"dataframe\">\n",
       "  <thead>\n",
       "    <tr style=\"text-align: right;\">\n",
       "      <th></th>\n",
       "      <th>id</th>\n",
       "      <th>listing_url</th>\n",
       "      <th>scrape_id</th>\n",
       "      <th>last_scraped</th>\n",
       "      <th>source</th>\n",
       "      <th>name</th>\n",
       "      <th>description</th>\n",
       "      <th>neighborhood_overview</th>\n",
       "      <th>picture_url</th>\n",
       "      <th>host_id</th>\n",
       "      <th>...</th>\n",
       "      <th>review_scores_communication</th>\n",
       "      <th>review_scores_location</th>\n",
       "      <th>review_scores_value</th>\n",
       "      <th>license</th>\n",
       "      <th>instant_bookable</th>\n",
       "      <th>calculated_host_listings_count</th>\n",
       "      <th>calculated_host_listings_count_entire_homes</th>\n",
       "      <th>calculated_host_listings_count_private_rooms</th>\n",
       "      <th>calculated_host_listings_count_shared_rooms</th>\n",
       "      <th>reviews_per_month</th>\n",
       "    </tr>\n",
       "  </thead>\n",
       "  <tbody>\n",
       "    <tr>\n",
       "      <th>0</th>\n",
       "      <td>2539</td>\n",
       "      <td>https://www.airbnb.com/rooms/2539</td>\n",
       "      <td>20220907064715</td>\n",
       "      <td>2022-09-07</td>\n",
       "      <td>city scrape</td>\n",
       "      <td>Clean &amp; quiet apt home by the park</td>\n",
       "      <td>Renovated apt home in elevator building.&lt;br /&gt;...</td>\n",
       "      <td>Close to Prospect Park and Historic Ditmas Park</td>\n",
       "      <td>https://a0.muscache.com/pictures/3949d073-a02e...</td>\n",
       "      <td>2787</td>\n",
       "      <td>...</td>\n",
       "      <td>5.0</td>\n",
       "      <td>4.75</td>\n",
       "      <td>4.88</td>\n",
       "      <td>NaN</td>\n",
       "      <td>f</td>\n",
       "      <td>9</td>\n",
       "      <td>1</td>\n",
       "      <td>6</td>\n",
       "      <td>2</td>\n",
       "      <td>0.11</td>\n",
       "    </tr>\n",
       "    <tr>\n",
       "      <th>1</th>\n",
       "      <td>2595</td>\n",
       "      <td>https://www.airbnb.com/rooms/2595</td>\n",
       "      <td>20220907064715</td>\n",
       "      <td>2022-09-07</td>\n",
       "      <td>city scrape</td>\n",
       "      <td>Skylit Midtown Castle</td>\n",
       "      <td>Beautiful, spacious skylit studio in the heart...</td>\n",
       "      <td>Centrally located in the heart of Manhattan ju...</td>\n",
       "      <td>https://a0.muscache.com/pictures/f0813a11-40b2...</td>\n",
       "      <td>2845</td>\n",
       "      <td>...</td>\n",
       "      <td>4.8</td>\n",
       "      <td>4.81</td>\n",
       "      <td>4.40</td>\n",
       "      <td>NaN</td>\n",
       "      <td>f</td>\n",
       "      <td>3</td>\n",
       "      <td>3</td>\n",
       "      <td>0</td>\n",
       "      <td>0</td>\n",
       "      <td>0.31</td>\n",
       "    </tr>\n",
       "  </tbody>\n",
       "</table>\n",
       "<p>2 rows × 75 columns</p>\n",
       "</div>"
      ],
      "text/plain": [
       "     id                        listing_url       scrape_id last_scraped  \\\n",
       "0  2539  https://www.airbnb.com/rooms/2539  20220907064715   2022-09-07   \n",
       "1  2595  https://www.airbnb.com/rooms/2595  20220907064715   2022-09-07   \n",
       "\n",
       "        source                                name  \\\n",
       "0  city scrape  Clean & quiet apt home by the park   \n",
       "1  city scrape               Skylit Midtown Castle   \n",
       "\n",
       "                                         description  \\\n",
       "0  Renovated apt home in elevator building.<br />...   \n",
       "1  Beautiful, spacious skylit studio in the heart...   \n",
       "\n",
       "                               neighborhood_overview  \\\n",
       "0    Close to Prospect Park and Historic Ditmas Park   \n",
       "1  Centrally located in the heart of Manhattan ju...   \n",
       "\n",
       "                                         picture_url  host_id  ...  \\\n",
       "0  https://a0.muscache.com/pictures/3949d073-a02e...     2787  ...   \n",
       "1  https://a0.muscache.com/pictures/f0813a11-40b2...     2845  ...   \n",
       "\n",
       "  review_scores_communication review_scores_location review_scores_value  \\\n",
       "0                         5.0                   4.75                4.88   \n",
       "1                         4.8                   4.81                4.40   \n",
       "\n",
       "  license instant_bookable calculated_host_listings_count  \\\n",
       "0     NaN                f                              9   \n",
       "1     NaN                f                              3   \n",
       "\n",
       "  calculated_host_listings_count_entire_homes  \\\n",
       "0                                           1   \n",
       "1                                           3   \n",
       "\n",
       "  calculated_host_listings_count_private_rooms  \\\n",
       "0                                            6   \n",
       "1                                            0   \n",
       "\n",
       "  calculated_host_listings_count_shared_rooms reviews_per_month  \n",
       "0                                           2              0.11  \n",
       "1                                           0              0.31  \n",
       "\n",
       "[2 rows x 75 columns]"
      ]
     },
     "execution_count": 11,
     "metadata": {},
     "output_type": "execute_result"
    }
   ],
   "source": [
    "listing.head(2)"
   ]
  },
  {
   "cell_type": "code",
   "execution_count": 12,
   "metadata": {},
   "outputs": [
    {
     "data": {
      "image/png": "[encoded data removed]",
      "text/plain": [
       "<Figure size 2500x1000 with 2 Axes>"
      ]
     },
     "metadata": {},
     "output_type": "display_data"
    }
   ],
   "source": [
    "msno.matrix(listing);"
   ]
  },
  {
   "cell_type": "markdown",
   "metadata": {},
   "source": [
    "### 1.2.3 Dropping Unecessary Columns for Modeling"
   ]
  },
  {
   "cell_type": "markdown",
   "metadata": {},
   "source": [
    "Some columns like `'scrape_id', 'last_scraped'` and `'source'` has information that is not related to airbnb listing itself. Others columns are highly correlated to others like `'review_scores_value' and 'review_scores_rating'` so we are dropping it  and performing cleaning in the important ones."
   ]
  },
  {
   "cell_type": "code",
   "execution_count": 13,
   "metadata": {},
   "outputs": [
    {
     "data": {
      "text/plain": [
       "Index(['id', 'listing_url', 'scrape_id', 'last_scraped', 'source', 'name',\n",
       "       'description', 'neighborhood_overview', 'picture_url', 'host_id',\n",
       "       'host_url', 'host_name', 'host_since', 'host_location', 'host_about',\n",
       "       'host_response_time', 'host_response_rate', 'host_acceptance_rate',\n",
       "       'host_is_superhost', 'host_thumbnail_url', 'host_picture_url',\n",
       "       'host_neighbourhood', 'host_listings_count',\n",
       "       'host_total_listings_count', 'host_verifications',\n",
       "       'host_has_profile_pic', 'host_identity_verified', 'neighbourhood',\n",
       "       'neighbourhood_cleansed', 'neighbourhood_group_cleansed', 'latitude',\n",
       "       'longitude', 'property_type', 'room_type', 'accommodates', 'bathrooms',\n",
       "       'bathrooms_text', 'bedrooms', 'beds', 'amenities', 'price',\n",
       "       'minimum_nights', 'maximum_nights', 'minimum_minimum_nights',\n",
       "       'maximum_minimum_nights', 'minimum_maximum_nights',\n",
       "       'maximum_maximum_nights', 'minimum_nights_avg_ntm',\n",
       "       'maximum_nights_avg_ntm', 'calendar_updated', 'has_availability',\n",
       "       'availability_30', 'availability_60', 'availability_90',\n",
       "       'availability_365', 'calendar_last_scraped', 'number_of_reviews',\n",
       "       'number_of_reviews_ltm', 'number_of_reviews_l30d', 'first_review',\n",
       "       'last_review', 'review_scores_rating', 'review_scores_accuracy',\n",
       "       'review_scores_cleanliness', 'review_scores_checkin',\n",
       "       'review_scores_communication', 'review_scores_location',\n",
       "       'review_scores_value', 'license', 'instant_bookable',\n",
       "       'calculated_host_listings_count',\n",
       "       'calculated_host_listings_count_entire_homes',\n",
       "       'calculated_host_listings_count_private_rooms',\n",
       "       'calculated_host_listings_count_shared_rooms', 'reviews_per_month'],\n",
       "      dtype='object')"
      ]
     },
     "execution_count": 13,
     "metadata": {},
     "output_type": "execute_result"
    }
   ],
   "source": [
    "listing.columns"
   ]
  },
  {
   "cell_type": "code",
   "execution_count": 14,
   "metadata": {},
   "outputs": [],
   "source": [
    "col_del = ['listing_url', 'scrape_id', 'last_scraped', 'source', \n",
    "            'picture_url', 'host_url', 'host_since','host_location', \n",
    "            'host_thumbnail_url', 'host_picture_url','neighbourhood', \n",
    "            'property_type', 'host_neighbourhood', 'amenities', \n",
    "            'minimum_minimum_nights','maximum_minimum_nights', \n",
    "            'minimum_maximum_nights', 'maximum_maximum_nights', \n",
    "            'minimum_nights_avg_ntm','maximum_nights_avg_ntm', \n",
    "            'calendar_updated', 'has_availability','availability_30', \n",
    "            'availability_60', 'availability_90', 'number_of_reviews_l30d', \n",
    "            'first_review','last_review', 'review_scores_accuracy',\n",
    "            'review_scores_cleanliness', 'review_scores_checkin', \n",
    "            'review_scores_communication', 'review_scores_location',\n",
    "            'review_scores_value', 'license', 'availability_365', \n",
    "            'host_listings_count','host_total_listings_count',\n",
    "            'calendar_last_scraped', 'calculated_host_listings_count',\n",
    "            'calculated_host_listings_count_entire_homes','host_response_time', \n",
    "            'host_response_rate', 'host_acceptance_rate',\n",
    "            'calculated_host_listings_count_private_rooms',\n",
    "            'calculated_host_listings_count_shared_rooms', \n",
    "            'reviews_per_month', 'host_id', 'host_name', \n",
    "            'bathrooms','number_of_reviews_ltm']"
   ]
  },
  {
   "cell_type": "code",
   "execution_count": 15,
   "metadata": {},
   "outputs": [],
   "source": [
    "listing.drop(columns=col_del, inplace=True)"
   ]
  },
  {
   "cell_type": "code",
   "execution_count": 16,
   "metadata": {},
   "outputs": [
    {
     "data": {
      "text/html": [
       "<div>\n",
       "<style scoped>\n",
       "    .dataframe tbody tr th:only-of-type {\n",
       "        vertical-align: middle;\n",
       "    }\n",
       "\n",
       "    .dataframe tbody tr th {\n",
       "        vertical-align: top;\n",
       "    }\n",
       "\n",
       "    .dataframe thead th {\n",
       "        text-align: right;\n",
       "    }\n",
       "</style>\n",
       "<table border=\"1\" class=\"dataframe\">\n",
       "  <thead>\n",
       "    <tr style=\"text-align: right;\">\n",
       "      <th></th>\n",
       "      <th>id</th>\n",
       "      <th>name</th>\n",
       "      <th>description</th>\n",
       "      <th>neighborhood_overview</th>\n",
       "      <th>host_about</th>\n",
       "      <th>host_is_superhost</th>\n",
       "      <th>host_verifications</th>\n",
       "      <th>host_has_profile_pic</th>\n",
       "      <th>host_identity_verified</th>\n",
       "      <th>neighbourhood_cleansed</th>\n",
       "      <th>...</th>\n",
       "      <th>accommodates</th>\n",
       "      <th>bathrooms_text</th>\n",
       "      <th>bedrooms</th>\n",
       "      <th>beds</th>\n",
       "      <th>price</th>\n",
       "      <th>minimum_nights</th>\n",
       "      <th>maximum_nights</th>\n",
       "      <th>number_of_reviews</th>\n",
       "      <th>review_scores_rating</th>\n",
       "      <th>instant_bookable</th>\n",
       "    </tr>\n",
       "  </thead>\n",
       "  <tbody>\n",
       "    <tr>\n",
       "      <th>0</th>\n",
       "      <td>2539</td>\n",
       "      <td>Clean &amp; quiet apt home by the park</td>\n",
       "      <td>Renovated apt home in elevator building.&lt;br /&gt;...</td>\n",
       "      <td>Close to Prospect Park and Historic Ditmas Park</td>\n",
       "      <td>Educated professional living in Brooklyn.  I l...</td>\n",
       "      <td>f</td>\n",
       "      <td>['email', 'phone']</td>\n",
       "      <td>t</td>\n",
       "      <td>t</td>\n",
       "      <td>Kensington</td>\n",
       "      <td>...</td>\n",
       "      <td>2</td>\n",
       "      <td>1 shared bath</td>\n",
       "      <td>1.0</td>\n",
       "      <td>1.0</td>\n",
       "      <td>$299.00</td>\n",
       "      <td>30</td>\n",
       "      <td>730</td>\n",
       "      <td>9</td>\n",
       "      <td>4.89</td>\n",
       "      <td>f</td>\n",
       "    </tr>\n",
       "    <tr>\n",
       "      <th>1</th>\n",
       "      <td>2595</td>\n",
       "      <td>Skylit Midtown Castle</td>\n",
       "      <td>Beautiful, spacious skylit studio in the heart...</td>\n",
       "      <td>Centrally located in the heart of Manhattan ju...</td>\n",
       "      <td>A New Yorker since (Phone number hidden by Air...</td>\n",
       "      <td>f</td>\n",
       "      <td>['email', 'phone', 'work_email']</td>\n",
       "      <td>t</td>\n",
       "      <td>t</td>\n",
       "      <td>Midtown</td>\n",
       "      <td>...</td>\n",
       "      <td>1</td>\n",
       "      <td>1 bath</td>\n",
       "      <td>NaN</td>\n",
       "      <td>1.0</td>\n",
       "      <td>$175.00</td>\n",
       "      <td>30</td>\n",
       "      <td>1125</td>\n",
       "      <td>49</td>\n",
       "      <td>4.68</td>\n",
       "      <td>f</td>\n",
       "    </tr>\n",
       "  </tbody>\n",
       "</table>\n",
       "<p>2 rows × 24 columns</p>\n",
       "</div>"
      ],
      "text/plain": [
       "     id                                name  \\\n",
       "0  2539  Clean & quiet apt home by the park   \n",
       "1  2595               Skylit Midtown Castle   \n",
       "\n",
       "                                         description  \\\n",
       "0  Renovated apt home in elevator building.<br />...   \n",
       "1  Beautiful, spacious skylit studio in the heart...   \n",
       "\n",
       "                               neighborhood_overview  \\\n",
       "0    Close to Prospect Park and Historic Ditmas Park   \n",
       "1  Centrally located in the heart of Manhattan ju...   \n",
       "\n",
       "                                          host_about host_is_superhost  \\\n",
       "0  Educated professional living in Brooklyn.  I l...                 f   \n",
       "1  A New Yorker since (Phone number hidden by Air...                 f   \n",
       "\n",
       "                 host_verifications host_has_profile_pic  \\\n",
       "0                ['email', 'phone']                    t   \n",
       "1  ['email', 'phone', 'work_email']                    t   \n",
       "\n",
       "  host_identity_verified neighbourhood_cleansed  ... accommodates  \\\n",
       "0                      t             Kensington  ...            2   \n",
       "1                      t                Midtown  ...            1   \n",
       "\n",
       "   bathrooms_text  bedrooms beds    price minimum_nights  maximum_nights  \\\n",
       "0   1 shared bath       1.0  1.0  $299.00             30             730   \n",
       "1          1 bath       NaN  1.0  $175.00             30            1125   \n",
       "\n",
       "   number_of_reviews review_scores_rating  instant_bookable  \n",
       "0                  9                 4.89                 f  \n",
       "1                 49                 4.68                 f  \n",
       "\n",
       "[2 rows x 24 columns]"
      ]
     },
     "execution_count": 16,
     "metadata": {},
     "output_type": "execute_result"
    }
   ],
   "source": [
    "listing.head(2)"
   ]
  },
  {
   "cell_type": "code",
   "execution_count": 17,
   "metadata": {},
   "outputs": [
    {
     "data": {
      "text/plain": [
       "(39881, 24)"
      ]
     },
     "execution_count": 17,
     "metadata": {},
     "output_type": "execute_result"
    }
   ],
   "source": [
    "listing.shape"
   ]
  },
  {
   "cell_type": "markdown",
   "metadata": {},
   "source": [
    "I couldn't figure out a strategy to fill null values for bedrooms  and since it is not a big amount (less than 10%) of I'm junst dropping it."
   ]
  },
  {
   "cell_type": "code",
   "execution_count": 18,
   "metadata": {},
   "outputs": [
    {
     "data": {
      "text/plain": [
       "3783"
      ]
     },
     "execution_count": 18,
     "metadata": {},
     "output_type": "execute_result"
    }
   ],
   "source": [
    "listing['bedrooms'].isnull().sum()"
   ]
  },
  {
   "cell_type": "code",
   "execution_count": 19,
   "metadata": {},
   "outputs": [],
   "source": [
    "listing.dropna(subset='bedrooms', inplace=True)"
   ]
  },
  {
   "cell_type": "markdown",
   "metadata": {},
   "source": [
    "### 1.2.4 Filling NaN Strategies"
   ]
  },
  {
   "cell_type": "code",
   "execution_count": 20,
   "metadata": {},
   "outputs": [],
   "source": [
    "listing['description'] = listing['description'].fillna(\" \")   \n",
    "listing['neighborhood_overview'] = listing['neighborhood_overview'].fillna(\" \") \n",
    "listing['host_about'] = listing['host_about'].fillna(\" \") \n",
    "listing['bathrooms_text'] = listing['bathrooms_text'].fillna(\" \") \n",
    "listing['name'] = listing['name'].fillna(\" \") "
   ]
  },
  {
   "cell_type": "markdown",
   "metadata": {},
   "source": [
    "I'm making an assumption that if you have  a bedroom avaliable you do have at least one bed on it."
   ]
  },
  {
   "cell_type": "code",
   "execution_count": 21,
   "metadata": {},
   "outputs": [],
   "source": [
    "listing['beds'] = listing['beds'].fillna(1) "
   ]
  },
  {
   "cell_type": "code",
   "execution_count": 22,
   "metadata": {},
   "outputs": [],
   "source": [
    "listing['host_has_profile_pic'] = listing['host_has_profile_pic'].fillna('f') \n",
    "listing['host_identity_verified'] = listing['host_identity_verified'].fillna('f') "
   ]
  },
  {
   "cell_type": "markdown",
   "metadata": {},
   "source": [
    "### 1.2.5 Binarizing Columns "
   ]
  },
  {
   "cell_type": "code",
   "execution_count": 23,
   "metadata": {},
   "outputs": [],
   "source": [
    "#instant_bookable, host_identity_verified, host_has_profile_pic\n",
    "listing['instant_bookable'] = listing['instant_bookable'].map({'t':1, 'f':0})\n",
    "listing['host_identity_verified'] = listing['host_identity_verified'].map({'t':1, 'f':0}) \n",
    "listing['host_has_profile_pic'] = listing['host_has_profile_pic'].map({'t':1, 'f':0})\n",
    "listing['host_is_superhost'] = listing['host_is_superhost'].map({'t':1, 'f':0})"
   ]
  },
  {
   "cell_type": "markdown",
   "metadata": {},
   "source": [
    "### 1.2.6 Feature Engineering "
   ]
  },
  {
   "cell_type": "markdown",
   "metadata": {},
   "source": [
    "Removing chars from column price."
   ]
  },
  {
   "cell_type": "code",
   "execution_count": 24,
   "metadata": {},
   "outputs": [
    {
     "name": "stderr",
     "output_type": "stream",
     "text": [
      "/var/folders/l8/cflxs4pj1h362zjpxchj9jd00000gn/T/ipykernel_28383/2218781411.py:1: FutureWarning: The default value of regex will change from True to False in a future version. In addition, single character regular expressions will *not* be treated as literal strings when regex=True.\n",
      "  listing['price'] = listing['price'].str.replace('$','')\n"
     ]
    }
   ],
   "source": [
    "listing['price'] = listing['price'].str.replace('$','')\n",
    "listing['price'] = listing['price'].str.replace(',','')"
   ]
  },
  {
   "cell_type": "markdown",
   "metadata": {},
   "source": [
    "Making feature engineering on the bathroom atribute.(i.e type and number of baths)"
   ]
  },
  {
   "cell_type": "code",
   "execution_count": 25,
   "metadata": {},
   "outputs": [],
   "source": [
    "# cleaning\n",
    "listing['bathrooms_text'] = listing['bathrooms_text'].str.replace('baths', '')\n",
    "listing['bathrooms_text'] = listing['bathrooms_text'].str.replace('bath', '')"
   ]
  },
  {
   "cell_type": "code",
   "execution_count": 26,
   "metadata": {},
   "outputs": [],
   "source": [
    "# Creating a tokenizer '([+-]?[0-9]*\\.[0-9]*)'\n",
    "tokenizer_nbr  = RegexpTokenizer(r'[0-9]\\.?[0-9]?')\n",
    "tokenizer_type = RegexpTokenizer(r'[A-Za-z]+')\n",
    "\n",
    "# Creating a new column to keep these links\n",
    "listing['bathrooms_type'] = listing['bathrooms_text'].map(lambda x:  tokenizer_type.tokenize(x))\n",
    "listing['bathrooms_nbr'] = listing['bathrooms_text'].map(lambda x: tokenizer_nbr.tokenize(x))"
   ]
  },
  {
   "cell_type": "code",
   "execution_count": 27,
   "metadata": {},
   "outputs": [],
   "source": [
    "listing['bathrooms_type'] = listing['bathrooms_type'].map(lambda x: str(x).replace('[]','private'))\n",
    "listing['bathrooms_nbr'] = listing['bathrooms_nbr'].map(lambda x: str(x).replace('[]',\"['0']\"))"
   ]
  },
  {
   "cell_type": "code",
   "execution_count": 28,
   "metadata": {},
   "outputs": [],
   "source": [
    "listing['bathrooms_type'] = listing['bathrooms_type'].map(lambda x: str(x).replace(\"['\",''))\n",
    "listing['bathrooms_type'] = listing['bathrooms_type'].map(lambda x: str(x).replace(\"']\",''))\n",
    "listing['bathrooms_nbr'] = listing['bathrooms_nbr'].map(lambda x: str(x).replace(\"['\",''))\n",
    "listing['bathrooms_nbr'] = listing['bathrooms_nbr'].map(lambda x: str(x).replace(\"']\",''))"
   ]
  },
  {
   "cell_type": "code",
   "execution_count": 29,
   "metadata": {},
   "outputs": [
    {
     "data": {
      "text/plain": [
       "private            25002\n",
       "shared             11040\n",
       "Half                  28\n",
       "Shared', 'half        18\n",
       "Private', 'half       10\n",
       "Name: bathrooms_type, dtype: int64"
      ]
     },
     "execution_count": 29,
     "metadata": {},
     "output_type": "execute_result"
    }
   ],
   "source": [
    "listing['bathrooms_type'].value_counts()"
   ]
  },
  {
   "cell_type": "code",
   "execution_count": 30,
   "metadata": {},
   "outputs": [],
   "source": [
    "listing['bathrooms_type'] = listing['bathrooms_type'].map(lambda x: str(x).replace(\"Shared', 'half\",'shared'))\n",
    "listing['bathrooms_type'] = listing['bathrooms_type'].map(lambda x: str(x).replace(\"Private', 'half\",'private'))\n",
    "listing.drop(listing[listing['bathrooms_type']=='Half'].index, inplace=True)"
   ]
  },
  {
   "cell_type": "code",
   "execution_count": 31,
   "metadata": {},
   "outputs": [
    {
     "data": {
      "text/plain": [
       "private    25012\n",
       "shared     11058\n",
       "Name: bathrooms_type, dtype: int64"
      ]
     },
     "execution_count": 31,
     "metadata": {},
     "output_type": "execute_result"
    }
   ],
   "source": [
    "listing['bathrooms_type'].value_counts()"
   ]
  },
  {
   "cell_type": "markdown",
   "metadata": {},
   "source": [
    "Creating column 'Price Per Square Feet'. We'll need to concatenate Neighborhood_price and Listing datasets."
   ]
  },
  {
   "cell_type": "code",
   "execution_count": 32,
   "metadata": {},
   "outputs": [],
   "source": [
    "listing['neighbourhood_cleansed'] = listing['neighbourhood_cleansed'].str.lower()\n",
    "neighbourhoods_nyc = listing['neighbourhood_cleansed'].value_counts(ascending=True).index\n",
    "neighbourhood_dif = (set((neighbourhoods_nyc)) - set(neighbourhoods))"
   ]
  },
  {
   "cell_type": "code",
   "execution_count": 33,
   "metadata": {},
   "outputs": [
    {
     "data": {
      "text/html": [
       "<div>\n",
       "<style scoped>\n",
       "    .dataframe tbody tr th:only-of-type {\n",
       "        vertical-align: middle;\n",
       "    }\n",
       "\n",
       "    .dataframe tbody tr th {\n",
       "        vertical-align: top;\n",
       "    }\n",
       "\n",
       "    .dataframe thead th {\n",
       "        text-align: right;\n",
       "    }\n",
       "</style>\n",
       "<table border=\"1\" class=\"dataframe\">\n",
       "  <thead>\n",
       "    <tr style=\"text-align: right;\">\n",
       "      <th></th>\n",
       "      <th>Neighborhood</th>\n",
       "      <th>Median Price Per Sq Foot</th>\n",
       "    </tr>\n",
       "  </thead>\n",
       "  <tbody>\n",
       "    <tr>\n",
       "      <th>0</th>\n",
       "      <td>west village</td>\n",
       "      <td>7.68</td>\n",
       "    </tr>\n",
       "    <tr>\n",
       "      <th>1</th>\n",
       "      <td>tribeca</td>\n",
       "      <td>7.64</td>\n",
       "    </tr>\n",
       "    <tr>\n",
       "      <th>2</th>\n",
       "      <td>nomad</td>\n",
       "      <td>7.63</td>\n",
       "    </tr>\n",
       "    <tr>\n",
       "      <th>3</th>\n",
       "      <td>central park</td>\n",
       "      <td>7.53</td>\n",
       "    </tr>\n",
       "    <tr>\n",
       "      <th>4</th>\n",
       "      <td>noho</td>\n",
       "      <td>7.38</td>\n",
       "    </tr>\n",
       "  </tbody>\n",
       "</table>\n",
       "</div>"
      ],
      "text/plain": [
       "   Neighborhood  Median Price Per Sq Foot\n",
       "0  west village                      7.68\n",
       "1       tribeca                      7.64\n",
       "2         nomad                      7.63\n",
       "3  central park                      7.53\n",
       "4          noho                      7.38"
      ]
     },
     "execution_count": 33,
     "metadata": {},
     "output_type": "execute_result"
    }
   ],
   "source": [
    "neighbourhood_price.head()"
   ]
  },
  {
   "cell_type": "code",
   "execution_count": 34,
   "metadata": {},
   "outputs": [],
   "source": [
    "mapping = dict(neighbourhood_price[['Neighborhood', 'Median Price Per Sq Foot']].values)\n",
    "listing['neigh_price_sqft'] = listing.neighbourhood_cleansed.map(mapping)"
   ]
  },
  {
   "cell_type": "code",
   "execution_count": 35,
   "metadata": {},
   "outputs": [
    {
     "data": {
      "text/plain": [
       "6127"
      ]
     },
     "execution_count": 35,
     "metadata": {},
     "output_type": "execute_result"
    }
   ],
   "source": [
    "listing['neigh_price_sqft'].isnull().sum()"
   ]
  },
  {
   "cell_type": "code",
   "execution_count": 36,
   "metadata": {},
   "outputs": [],
   "source": [
    "listing.dropna(inplace=True)"
   ]
  },
  {
   "cell_type": "markdown",
   "metadata": {},
   "source": [
    "eature engineering for description list count."
   ]
  },
  {
   "cell_type": "code",
   "execution_count": 37,
   "metadata": {},
   "outputs": [],
   "source": [
    "pattern = '<(.)>.?|<(.*) />'\n",
    "listing['description'] = listing['description'].map(lambda x: re.sub(pattern,'', x))\n",
    "listing['description_words'] = listing['description'].map(lambda x: re.findall('\\w+', x))\n",
    "listing['description_count'] = listing['description'].map(lambda x: len(x))"
   ]
  },
  {
   "cell_type": "markdown",
   "metadata": {},
   "source": [
    "### 1.2.7 Converting Types"
   ]
  },
  {
   "cell_type": "code",
   "execution_count": 38,
   "metadata": {},
   "outputs": [
    {
     "name": "stdout",
     "output_type": "stream",
     "text": [
      "<class 'pandas.core.frame.DataFrame'>\n",
      "Int64Index: 23645 entries, 0 to 39877\n",
      "Data columns (total 29 columns):\n",
      " #   Column                        Non-Null Count  Dtype  \n",
      "---  ------                        --------------  -----  \n",
      " 0   id                            23645 non-null  int64  \n",
      " 1   name                          23645 non-null  object \n",
      " 2   description                   23645 non-null  object \n",
      " 3   neighborhood_overview         23645 non-null  object \n",
      " 4   host_about                    23645 non-null  object \n",
      " 5   host_is_superhost             23645 non-null  int64  \n",
      " 6   host_verifications            23645 non-null  object \n",
      " 7   host_has_profile_pic          23645 non-null  int64  \n",
      " 8   host_identity_verified        23645 non-null  int64  \n",
      " 9   neighbourhood_cleansed        23645 non-null  object \n",
      " 10  neighbourhood_group_cleansed  23645 non-null  object \n",
      " 11  latitude                      23645 non-null  float64\n",
      " 12  longitude                     23645 non-null  float64\n",
      " 13  room_type                     23645 non-null  object \n",
      " 14  accommodates                  23645 non-null  int64  \n",
      " 15  bathrooms_text                23645 non-null  object \n",
      " 16  bedrooms                      23645 non-null  float64\n",
      " 17  beds                          23645 non-null  float64\n",
      " 18  price                         23645 non-null  float64\n",
      " 19  minimum_nights                23645 non-null  int64  \n",
      " 20  maximum_nights                23645 non-null  int64  \n",
      " 21  number_of_reviews             23645 non-null  int64  \n",
      " 22  review_scores_rating          23645 non-null  float64\n",
      " 23  instant_bookable              23645 non-null  int64  \n",
      " 24  bathrooms_type                23645 non-null  object \n",
      " 25  bathrooms_nbr                 23645 non-null  float64\n",
      " 26  neigh_price_sqft              23645 non-null  float64\n",
      " 27  description_words             23645 non-null  object \n",
      " 28  description_count             23645 non-null  int64  \n",
      "dtypes: float64(8), int64(10), object(11)\n",
      "memory usage: 5.4+ MB\n"
     ]
    }
   ],
   "source": [
    "listing['bathrooms_nbr'] = listing['bathrooms_nbr'].astype(float)\n",
    "listing['price'] = listing['price'].astype(float)\n",
    "listing.info()"
   ]
  },
  {
   "cell_type": "code",
   "execution_count": 39,
   "metadata": {},
   "outputs": [
    {
     "data": {
      "text/plain": [
       "(23645, 29)"
      ]
     },
     "execution_count": 39,
     "metadata": {},
     "output_type": "execute_result"
    }
   ],
   "source": [
    "listing.shape"
   ]
  },
  {
   "cell_type": "code",
   "execution_count": 40,
   "metadata": {},
   "outputs": [
    {
     "data": {
      "text/plain": [
       "Index(['id', 'name', 'description', 'neighborhood_overview', 'host_about',\n",
       "       'host_is_superhost', 'host_verifications', 'host_has_profile_pic',\n",
       "       'host_identity_verified', 'neighbourhood_cleansed',\n",
       "       'neighbourhood_group_cleansed', 'latitude', 'longitude', 'room_type',\n",
       "       'accommodates', 'bathrooms_text', 'bedrooms', 'beds', 'price',\n",
       "       'minimum_nights', 'maximum_nights', 'number_of_reviews',\n",
       "       'review_scores_rating', 'instant_bookable', 'bathrooms_type',\n",
       "       'bathrooms_nbr', 'neigh_price_sqft', 'description_words',\n",
       "       'description_count'],\n",
       "      dtype='object')"
      ]
     },
     "execution_count": 40,
     "metadata": {},
     "output_type": "execute_result"
    }
   ],
   "source": [
    "listing.columns"
   ]
  },
  {
   "cell_type": "code",
   "execution_count": 41,
   "metadata": {},
   "outputs": [
    {
     "data": {
      "text/html": [
       "<div>\n",
       "<style scoped>\n",
       "    .dataframe tbody tr th:only-of-type {\n",
       "        vertical-align: middle;\n",
       "    }\n",
       "\n",
       "    .dataframe tbody tr th {\n",
       "        vertical-align: top;\n",
       "    }\n",
       "\n",
       "    .dataframe thead th {\n",
       "        text-align: right;\n",
       "    }\n",
       "</style>\n",
       "<table border=\"1\" class=\"dataframe\">\n",
       "  <thead>\n",
       "    <tr style=\"text-align: right;\">\n",
       "      <th></th>\n",
       "      <th>id</th>\n",
       "      <th>name</th>\n",
       "      <th>description</th>\n",
       "      <th>neighborhood_overview</th>\n",
       "      <th>host_about</th>\n",
       "      <th>host_is_superhost</th>\n",
       "      <th>host_verifications</th>\n",
       "      <th>host_has_profile_pic</th>\n",
       "      <th>host_identity_verified</th>\n",
       "      <th>neighbourhood_cleansed</th>\n",
       "      <th>...</th>\n",
       "      <th>minimum_nights</th>\n",
       "      <th>maximum_nights</th>\n",
       "      <th>number_of_reviews</th>\n",
       "      <th>review_scores_rating</th>\n",
       "      <th>instant_bookable</th>\n",
       "      <th>bathrooms_type</th>\n",
       "      <th>bathrooms_nbr</th>\n",
       "      <th>neigh_price_sqft</th>\n",
       "      <th>description_words</th>\n",
       "      <th>description_count</th>\n",
       "    </tr>\n",
       "  </thead>\n",
       "  <tbody>\n",
       "    <tr>\n",
       "      <th>0</th>\n",
       "      <td>2539</td>\n",
       "      <td>Clean &amp; quiet apt home by the park</td>\n",
       "      <td>Renovated apt home in elevator building.If thi...</td>\n",
       "      <td>Close to Prospect Park and Historic Ditmas Park</td>\n",
       "      <td>Educated professional living in Brooklyn.  I l...</td>\n",
       "      <td>0</td>\n",
       "      <td>['email', 'phone']</td>\n",
       "      <td>1</td>\n",
       "      <td>1</td>\n",
       "      <td>kensington</td>\n",
       "      <td>...</td>\n",
       "      <td>30</td>\n",
       "      <td>730</td>\n",
       "      <td>9</td>\n",
       "      <td>4.89</td>\n",
       "      <td>0</td>\n",
       "      <td>shared</td>\n",
       "      <td>1.0</td>\n",
       "      <td>2.77</td>\n",
       "      <td>[Renovated, apt, home, in, elevator, building,...</td>\n",
       "      <td>165</td>\n",
       "    </tr>\n",
       "    <tr>\n",
       "      <th>2</th>\n",
       "      <td>5121</td>\n",
       "      <td>BlissArtsSpace!</td>\n",
       "      <td>One room available for rent in a 2 bedroom apt...</td>\n",
       "      <td></td>\n",
       "      <td>I am an artist(painter, filmmaker) and curato...</td>\n",
       "      <td>1</td>\n",
       "      <td>['email', 'phone']</td>\n",
       "      <td>1</td>\n",
       "      <td>1</td>\n",
       "      <td>bedford-stuyvesant</td>\n",
       "      <td>...</td>\n",
       "      <td>30</td>\n",
       "      <td>730</td>\n",
       "      <td>50</td>\n",
       "      <td>4.52</td>\n",
       "      <td>0</td>\n",
       "      <td>private</td>\n",
       "      <td>0.0</td>\n",
       "      <td>2.83</td>\n",
       "      <td>[One, room, available, for, rent, in, a, 2, be...</td>\n",
       "      <td>447</td>\n",
       "    </tr>\n",
       "  </tbody>\n",
       "</table>\n",
       "<p>2 rows × 29 columns</p>\n",
       "</div>"
      ],
      "text/plain": [
       "     id                                name  \\\n",
       "0  2539  Clean & quiet apt home by the park   \n",
       "2  5121                     BlissArtsSpace!   \n",
       "\n",
       "                                         description  \\\n",
       "0  Renovated apt home in elevator building.If thi...   \n",
       "2  One room available for rent in a 2 bedroom apt...   \n",
       "\n",
       "                             neighborhood_overview  \\\n",
       "0  Close to Prospect Park and Historic Ditmas Park   \n",
       "2                                                    \n",
       "\n",
       "                                          host_about  host_is_superhost  \\\n",
       "0  Educated professional living in Brooklyn.  I l...                  0   \n",
       "2   I am an artist(painter, filmmaker) and curato...                  1   \n",
       "\n",
       "   host_verifications  host_has_profile_pic  host_identity_verified  \\\n",
       "0  ['email', 'phone']                     1                       1   \n",
       "2  ['email', 'phone']                     1                       1   \n",
       "\n",
       "  neighbourhood_cleansed  ... minimum_nights  maximum_nights  \\\n",
       "0             kensington  ...             30             730   \n",
       "2     bedford-stuyvesant  ...             30             730   \n",
       "\n",
       "   number_of_reviews review_scores_rating  instant_bookable bathrooms_type  \\\n",
       "0                  9                 4.89                 0         shared   \n",
       "2                 50                 4.52                 0        private   \n",
       "\n",
       "   bathrooms_nbr  neigh_price_sqft  \\\n",
       "0            1.0              2.77   \n",
       "2            0.0              2.83   \n",
       "\n",
       "                                   description_words  description_count  \n",
       "0  [Renovated, apt, home, in, elevator, building,...                165  \n",
       "2  [One, room, available, for, rent, in, a, 2, be...                447  \n",
       "\n",
       "[2 rows x 29 columns]"
      ]
     },
     "execution_count": 41,
     "metadata": {},
     "output_type": "execute_result"
    }
   ],
   "source": [
    "listing.head(2)"
   ]
  },
  {
   "cell_type": "code",
   "execution_count": 42,
   "metadata": {},
   "outputs": [],
   "source": [
    "model = listing[\n",
    "       ['host_is_superhost', 'host_verifications', 'host_has_profile_pic',\n",
    "       'host_identity_verified', 'neighbourhood_cleansed',\n",
    "       'neighbourhood_group_cleansed', 'latitude', 'longitude', 'room_type',\n",
    "       'accommodates',  'bedrooms', 'beds', 'price',\n",
    "       'minimum_nights', 'maximum_nights', 'number_of_reviews',\n",
    "       'review_scores_rating', 'instant_bookable', 'bathrooms_type',\n",
    "       'bathrooms_nbr', 'neigh_price_sqft', 'description_count',\n",
    "       'description_words']\n",
    "       ]"
   ]
  },
  {
   "cell_type": "code",
   "execution_count": 43,
   "metadata": {},
   "outputs": [],
   "source": [
    "model.to_csv('../data/listing_eda.csv', index=False)"
   ]
  },
  {
   "cell_type": "code",
   "execution_count": 44,
   "metadata": {},
   "outputs": [
    {
     "data": {
      "text/plain": [
       "(23645, 23)"
      ]
     },
     "execution_count": 44,
     "metadata": {},
     "output_type": "execute_result"
    }
   ],
   "source": [
    "model.shape"
   ]
  }
 ],
 "metadata": {
  "kernelspec": {
   "display_name": "Python 3.9.13 ('tensorflow_new')",
   "language": "python",
   "name": "python3"
  },
  "language_info": {
   "codemirror_mode": {
    "name": "ipython",
    "version": 3
   },
   "file_extension": ".py",
   "mimetype": "text/x-python",
   "name": "python",
   "nbconvert_exporter": "python",
   "pygments_lexer": "ipython3",
   "version": "3.9.13"
  },
  "orig_nbformat": 4,
  "vscode": {
   "interpreter": {
    "hash": "68f87617eaf229a4406a5c34f896188575293ad13938ce4d358a06fe77b1adab"
   }
  }
 },
 "nbformat": 4,
 "nbformat_minor": 2
}
